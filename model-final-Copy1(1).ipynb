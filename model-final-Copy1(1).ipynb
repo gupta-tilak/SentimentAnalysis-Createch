{
 "cells": [
  {
   "cell_type": "markdown",
   "metadata": {
    "id": "Ag88fDJdv-fv",
    "jp-MarkdownHeadingCollapsed": true,
    "tags": []
   },
   "source": [
    "## Plan of Action\n",
    "\n",
    "\n",
    "1.   Load **Training.1600000.processed.noemoticon.csv Dataset (1.6 Mn twitter tweets)**\n",
    "2.   **Pre-process dataset** by removing special characters, numbers, etc. from user reviews + convert **sentiment labels** positive & negative to numbers 1 & 0, respectively\n",
    "3.   **Import GloVe Word Embedding** to build Embedding Dictionary + Use this to build Embedding Matrix for our Corpus\n",
    "4. Model Training using **Deep Learning in Keras** for separate: **Simple Neural Net, CNN, LSTM and DistilBERT Models** and analyse model performance and results\n",
    "4. Last, perform **predictions on real L&T tweets**"
   ]
  },
  {
   "cell_type": "code",
   "execution_count": 1,
   "metadata": {},
   "outputs": [
    {
     "name": "stdout",
     "output_type": "stream",
     "text": [
      "GPU is NOT available\n"
     ]
    }
   ],
   "source": [
    "import tensorflow as tf\n",
    "\n",
    "# Check if GPU is available\n",
    "print(\"GPU is available\" if tf.config.list_physical_devices('GPU') else \"GPU is NOT available\")\n"
   ]
  },
  {
   "cell_type": "markdown",
   "metadata": {
    "id": "EwZa81ThPbt3",
    "jp-MarkdownHeadingCollapsed": true,
    "tags": []
   },
   "source": [
    "## Setting the environment"
   ]
  },
  {
   "cell_type": "code",
   "execution_count": 2,
   "metadata": {
    "colab": {
     "base_uri": "https://localhost:8080/"
    },
    "executionInfo": {
     "elapsed": 26247,
     "status": "ok",
     "timestamp": 1658917716404,
     "user": {
      "displayName": "Skillcate Education",
      "userId": "11062674699417926870"
     },
     "user_tz": -330
    },
    "id": "bj1dnOyZOUv2",
    "outputId": "4f127038-8951-4aa9-c021-e92965418dd5"
   },
   "outputs": [],
   "source": [
    "# # Mounting google drive\n",
    "\n",
    "# from google.colab import drive\n",
    "# drive.mount('/content/drive')"
   ]
  },
  {
   "cell_type": "code",
   "execution_count": 3,
   "metadata": {
    "colab": {
     "base_uri": "https://localhost:8080/"
    },
    "executionInfo": {
     "elapsed": 866,
     "status": "ok",
     "timestamp": 1658849644040,
     "user": {
      "displayName": "Skillcate Education",
      "userId": "11062674699417926870"
     },
     "user_tz": -330
    },
    "id": "F0M1fdcBOf_Y",
    "outputId": "d5deab0a-5ad9-4d67-e101-45acec3346eb"
   },
   "outputs": [],
   "source": [
    "# # Setting toolkit folder as working directory\n",
    "\n",
    "# %cd /content/drive/My Drive/Project8_SentimentAnalysis_with_NeuralNetwork\n",
    "# ! ls"
   ]
  },
  {
   "cell_type": "code",
   "execution_count": 4,
   "metadata": {
    "id": "W-vpR9QCOn2i"
   },
   "outputs": [],
   "source": [
    "# Importing essential libraries and functions\n",
    "\n",
    "import pandas as pd\n",
    "import numpy as np\n",
    "import re\n",
    "import nltk\n",
    "from nltk.corpus import stopwords\n",
    "from numpy import array\n",
    "import tensorflow as tf"
   ]
  },
  {
   "cell_type": "code",
   "execution_count": 5,
   "metadata": {},
   "outputs": [],
   "source": [
    "from tensorflow.keras.preprocessing.text import one_hot, Tokenizer\n",
    "from keras.models import Sequential\n",
    "from keras.layers import Activation, Dropout, Dense\n",
    "from keras.layers import Flatten, GlobalMaxPooling1D, Embedding, Conv1D, LSTM\n",
    "from sklearn.model_selection import train_test_split"
   ]
  },
  {
   "cell_type": "code",
   "execution_count": 6,
   "metadata": {},
   "outputs": [],
   "source": [
    "from keras_preprocessing.sequence import pad_sequences"
   ]
  },
  {
   "cell_type": "markdown",
   "metadata": {
    "id": "q6FO9rxjxHe_",
    "jp-MarkdownHeadingCollapsed": true,
    "tags": []
   },
   "source": [
    "## Loading dataset"
   ]
  },
  {
   "cell_type": "code",
   "execution_count": 7,
   "metadata": {
    "id": "sNL6yy_DO0n1"
   },
   "outputs": [],
   "source": [
    "# Importing IMDb Movie Reviews dataset\n",
    "\n",
    "movie_reviews = pd.read_csv(\"training.1600000.processed.noemoticon.csv\", encoding=\"iso-8859-1\")\n",
    "\n",
    "# dataset source: https://www.kaggle.com/datasets/lakshmi25npathi/imdb-dataset-of-50k-movie-reviews"
   ]
  },
  {
   "cell_type": "code",
   "execution_count": 8,
   "metadata": {},
   "outputs": [],
   "source": [
    "df=movie_reviews"
   ]
  },
  {
   "cell_type": "code",
   "execution_count": 9,
   "metadata": {},
   "outputs": [
    {
     "data": {
      "text/html": [
       "<div>\n",
       "<style scoped>\n",
       "    .dataframe tbody tr th:only-of-type {\n",
       "        vertical-align: middle;\n",
       "    }\n",
       "\n",
       "    .dataframe tbody tr th {\n",
       "        vertical-align: top;\n",
       "    }\n",
       "\n",
       "    .dataframe thead th {\n",
       "        text-align: right;\n",
       "    }\n",
       "</style>\n",
       "<table border=\"1\" class=\"dataframe\">\n",
       "  <thead>\n",
       "    <tr style=\"text-align: right;\">\n",
       "      <th></th>\n",
       "      <th>0</th>\n",
       "      <th>1467810369</th>\n",
       "      <th>Mon Apr 06 22:19:45 PDT 2009</th>\n",
       "      <th>NO_QUERY</th>\n",
       "      <th>_TheSpecialOne_</th>\n",
       "      <th>@switchfoot http://twitpic.com/2y1zl - Awww, that's a bummer.  You shoulda got David Carr of Third Day to do it. ;D</th>\n",
       "    </tr>\n",
       "  </thead>\n",
       "  <tbody>\n",
       "    <tr>\n",
       "      <th>0</th>\n",
       "      <td>0</td>\n",
       "      <td>1467810672</td>\n",
       "      <td>Mon Apr 06 22:19:49 PDT 2009</td>\n",
       "      <td>NO_QUERY</td>\n",
       "      <td>scotthamilton</td>\n",
       "      <td>is upset that he can't update his Facebook by ...</td>\n",
       "    </tr>\n",
       "    <tr>\n",
       "      <th>1</th>\n",
       "      <td>0</td>\n",
       "      <td>1467810917</td>\n",
       "      <td>Mon Apr 06 22:19:53 PDT 2009</td>\n",
       "      <td>NO_QUERY</td>\n",
       "      <td>mattycus</td>\n",
       "      <td>@Kenichan I dived many times for the ball. Man...</td>\n",
       "    </tr>\n",
       "    <tr>\n",
       "      <th>2</th>\n",
       "      <td>0</td>\n",
       "      <td>1467811184</td>\n",
       "      <td>Mon Apr 06 22:19:57 PDT 2009</td>\n",
       "      <td>NO_QUERY</td>\n",
       "      <td>ElleCTF</td>\n",
       "      <td>my whole body feels itchy and like its on fire</td>\n",
       "    </tr>\n",
       "    <tr>\n",
       "      <th>3</th>\n",
       "      <td>0</td>\n",
       "      <td>1467811193</td>\n",
       "      <td>Mon Apr 06 22:19:57 PDT 2009</td>\n",
       "      <td>NO_QUERY</td>\n",
       "      <td>Karoli</td>\n",
       "      <td>@nationwideclass no, it's not behaving at all....</td>\n",
       "    </tr>\n",
       "    <tr>\n",
       "      <th>4</th>\n",
       "      <td>0</td>\n",
       "      <td>1467811372</td>\n",
       "      <td>Mon Apr 06 22:20:00 PDT 2009</td>\n",
       "      <td>NO_QUERY</td>\n",
       "      <td>joy_wolf</td>\n",
       "      <td>@Kwesidei not the whole crew</td>\n",
       "    </tr>\n",
       "    <tr>\n",
       "      <th>...</th>\n",
       "      <td>...</td>\n",
       "      <td>...</td>\n",
       "      <td>...</td>\n",
       "      <td>...</td>\n",
       "      <td>...</td>\n",
       "      <td>...</td>\n",
       "    </tr>\n",
       "    <tr>\n",
       "      <th>1599994</th>\n",
       "      <td>4</td>\n",
       "      <td>2193601966</td>\n",
       "      <td>Tue Jun 16 08:40:49 PDT 2009</td>\n",
       "      <td>NO_QUERY</td>\n",
       "      <td>AmandaMarie1028</td>\n",
       "      <td>Just woke up. Having no school is the best fee...</td>\n",
       "    </tr>\n",
       "    <tr>\n",
       "      <th>1599995</th>\n",
       "      <td>4</td>\n",
       "      <td>2193601969</td>\n",
       "      <td>Tue Jun 16 08:40:49 PDT 2009</td>\n",
       "      <td>NO_QUERY</td>\n",
       "      <td>TheWDBoards</td>\n",
       "      <td>TheWDB.com - Very cool to hear old Walt interv...</td>\n",
       "    </tr>\n",
       "    <tr>\n",
       "      <th>1599996</th>\n",
       "      <td>4</td>\n",
       "      <td>2193601991</td>\n",
       "      <td>Tue Jun 16 08:40:49 PDT 2009</td>\n",
       "      <td>NO_QUERY</td>\n",
       "      <td>bpbabe</td>\n",
       "      <td>Are you ready for your MoJo Makeover? Ask me f...</td>\n",
       "    </tr>\n",
       "    <tr>\n",
       "      <th>1599997</th>\n",
       "      <td>4</td>\n",
       "      <td>2193602064</td>\n",
       "      <td>Tue Jun 16 08:40:49 PDT 2009</td>\n",
       "      <td>NO_QUERY</td>\n",
       "      <td>tinydiamondz</td>\n",
       "      <td>Happy 38th Birthday to my boo of alll time!!! ...</td>\n",
       "    </tr>\n",
       "    <tr>\n",
       "      <th>1599998</th>\n",
       "      <td>4</td>\n",
       "      <td>2193602129</td>\n",
       "      <td>Tue Jun 16 08:40:50 PDT 2009</td>\n",
       "      <td>NO_QUERY</td>\n",
       "      <td>RyanTrevMorris</td>\n",
       "      <td>happy #charitytuesday @theNSPCC @SparksCharity...</td>\n",
       "    </tr>\n",
       "  </tbody>\n",
       "</table>\n",
       "<p>1599999 rows × 6 columns</p>\n",
       "</div>"
      ],
      "text/plain": [
       "         0  1467810369  Mon Apr 06 22:19:45 PDT 2009  NO_QUERY  \\\n",
       "0        0  1467810672  Mon Apr 06 22:19:49 PDT 2009  NO_QUERY   \n",
       "1        0  1467810917  Mon Apr 06 22:19:53 PDT 2009  NO_QUERY   \n",
       "2        0  1467811184  Mon Apr 06 22:19:57 PDT 2009  NO_QUERY   \n",
       "3        0  1467811193  Mon Apr 06 22:19:57 PDT 2009  NO_QUERY   \n",
       "4        0  1467811372  Mon Apr 06 22:20:00 PDT 2009  NO_QUERY   \n",
       "...     ..         ...                           ...       ...   \n",
       "1599994  4  2193601966  Tue Jun 16 08:40:49 PDT 2009  NO_QUERY   \n",
       "1599995  4  2193601969  Tue Jun 16 08:40:49 PDT 2009  NO_QUERY   \n",
       "1599996  4  2193601991  Tue Jun 16 08:40:49 PDT 2009  NO_QUERY   \n",
       "1599997  4  2193602064  Tue Jun 16 08:40:49 PDT 2009  NO_QUERY   \n",
       "1599998  4  2193602129  Tue Jun 16 08:40:50 PDT 2009  NO_QUERY   \n",
       "\n",
       "         _TheSpecialOne_  \\\n",
       "0          scotthamilton   \n",
       "1               mattycus   \n",
       "2                ElleCTF   \n",
       "3                 Karoli   \n",
       "4               joy_wolf   \n",
       "...                  ...   \n",
       "1599994  AmandaMarie1028   \n",
       "1599995      TheWDBoards   \n",
       "1599996           bpbabe   \n",
       "1599997     tinydiamondz   \n",
       "1599998   RyanTrevMorris   \n",
       "\n",
       "        @switchfoot http://twitpic.com/2y1zl - Awww, that's a bummer.  You shoulda got David Carr of Third Day to do it. ;D  \n",
       "0        is upset that he can't update his Facebook by ...                                                                   \n",
       "1        @Kenichan I dived many times for the ball. Man...                                                                   \n",
       "2          my whole body feels itchy and like its on fire                                                                    \n",
       "3        @nationwideclass no, it's not behaving at all....                                                                   \n",
       "4                            @Kwesidei not the whole crew                                                                    \n",
       "...                                                    ...                                                                   \n",
       "1599994  Just woke up. Having no school is the best fee...                                                                   \n",
       "1599995  TheWDB.com - Very cool to hear old Walt interv...                                                                   \n",
       "1599996  Are you ready for your MoJo Makeover? Ask me f...                                                                   \n",
       "1599997  Happy 38th Birthday to my boo of alll time!!! ...                                                                   \n",
       "1599998  happy #charitytuesday @theNSPCC @SparksCharity...                                                                   \n",
       "\n",
       "[1599999 rows x 6 columns]"
      ]
     },
     "execution_count": 9,
     "metadata": {},
     "output_type": "execute_result"
    }
   ],
   "source": [
    "df"
   ]
  },
  {
   "cell_type": "code",
   "execution_count": 10,
   "metadata": {},
   "outputs": [],
   "source": [
    "column_names = ['sentiment','ID', 'Date', 'Query','Twitter Handle','Tweet']\n",
    "df.columns = column_names"
   ]
  },
  {
   "cell_type": "code",
   "execution_count": 11,
   "metadata": {},
   "outputs": [],
   "source": [
    "df.drop(columns=['ID','Date','Query','Twitter Handle'],inplace=True)"
   ]
  },
  {
   "cell_type": "code",
   "execution_count": 12,
   "metadata": {},
   "outputs": [],
   "source": [
    "df['sentiment'].value_counts()\n",
    "movie_reviews=df"
   ]
  },
  {
   "cell_type": "code",
   "execution_count": 13,
   "metadata": {
    "colab": {
     "base_uri": "https://localhost:8080/"
    },
    "executionInfo": {
     "elapsed": 11,
     "status": "ok",
     "timestamp": 1658849654825,
     "user": {
      "displayName": "Skillcate Education",
      "userId": "11062674699417926870"
     },
     "user_tz": -330
    },
    "id": "elu2E2KjPBJX",
    "outputId": "22e0c258-e709-4c23-a9c6-adaadb3ac364"
   },
   "outputs": [
    {
     "data": {
      "text/plain": [
       "(1599999, 2)"
      ]
     },
     "execution_count": 13,
     "metadata": {},
     "output_type": "execute_result"
    }
   ],
   "source": [
    "# Dataset exploration\n",
    "\n",
    "movie_reviews.shape"
   ]
  },
  {
   "cell_type": "code",
   "execution_count": 14,
   "metadata": {
    "colab": {
     "base_uri": "https://localhost:8080/",
     "height": 206
    },
    "executionInfo": {
     "elapsed": 10,
     "status": "ok",
     "timestamp": 1658849654826,
     "user": {
      "displayName": "Skillcate Education",
      "userId": "11062674699417926870"
     },
     "user_tz": -330
    },
    "id": "Ua8sjtdaPIAq",
    "outputId": "f3f15bdf-adc9-4f5a-a166-659cec59245f"
   },
   "outputs": [
    {
     "data": {
      "text/html": [
       "<div>\n",
       "<style scoped>\n",
       "    .dataframe tbody tr th:only-of-type {\n",
       "        vertical-align: middle;\n",
       "    }\n",
       "\n",
       "    .dataframe tbody tr th {\n",
       "        vertical-align: top;\n",
       "    }\n",
       "\n",
       "    .dataframe thead th {\n",
       "        text-align: right;\n",
       "    }\n",
       "</style>\n",
       "<table border=\"1\" class=\"dataframe\">\n",
       "  <thead>\n",
       "    <tr style=\"text-align: right;\">\n",
       "      <th></th>\n",
       "      <th>sentiment</th>\n",
       "      <th>Tweet</th>\n",
       "    </tr>\n",
       "  </thead>\n",
       "  <tbody>\n",
       "    <tr>\n",
       "      <th>0</th>\n",
       "      <td>0</td>\n",
       "      <td>is upset that he can't update his Facebook by ...</td>\n",
       "    </tr>\n",
       "    <tr>\n",
       "      <th>1</th>\n",
       "      <td>0</td>\n",
       "      <td>@Kenichan I dived many times for the ball. Man...</td>\n",
       "    </tr>\n",
       "    <tr>\n",
       "      <th>2</th>\n",
       "      <td>0</td>\n",
       "      <td>my whole body feels itchy and like its on fire</td>\n",
       "    </tr>\n",
       "    <tr>\n",
       "      <th>3</th>\n",
       "      <td>0</td>\n",
       "      <td>@nationwideclass no, it's not behaving at all....</td>\n",
       "    </tr>\n",
       "    <tr>\n",
       "      <th>4</th>\n",
       "      <td>0</td>\n",
       "      <td>@Kwesidei not the whole crew</td>\n",
       "    </tr>\n",
       "  </tbody>\n",
       "</table>\n",
       "</div>"
      ],
      "text/plain": [
       "   sentiment                                              Tweet\n",
       "0          0  is upset that he can't update his Facebook by ...\n",
       "1          0  @Kenichan I dived many times for the ball. Man...\n",
       "2          0    my whole body feels itchy and like its on fire \n",
       "3          0  @nationwideclass no, it's not behaving at all....\n",
       "4          0                      @Kwesidei not the whole crew "
      ]
     },
     "execution_count": 14,
     "metadata": {},
     "output_type": "execute_result"
    }
   ],
   "source": [
    "movie_reviews.head(5)"
   ]
  },
  {
   "cell_type": "code",
   "execution_count": 15,
   "metadata": {
    "colab": {
     "base_uri": "https://localhost:8080/"
    },
    "executionInfo": {
     "elapsed": 8,
     "status": "ok",
     "timestamp": 1658849654826,
     "user": {
      "displayName": "Skillcate Education",
      "userId": "11062674699417926870"
     },
     "user_tz": -330
    },
    "id": "CRIDYlo4O8Va",
    "outputId": "c2e8cbe3-7487-4b82-931a-d6e8bd2bce9f"
   },
   "outputs": [
    {
     "data": {
      "text/plain": [
       "False"
      ]
     },
     "execution_count": 15,
     "metadata": {},
     "output_type": "execute_result"
    }
   ],
   "source": [
    "# Checking for missing values\n",
    "\n",
    "movie_reviews.isnull().values.any()"
   ]
  },
  {
   "cell_type": "code",
   "execution_count": 16,
   "metadata": {},
   "outputs": [],
   "source": [
    "df=pd.read_csv('sent_train.csv')"
   ]
  },
  {
   "cell_type": "code",
   "execution_count": 17,
   "metadata": {},
   "outputs": [
    {
     "data": {
      "text/html": [
       "<div>\n",
       "<style scoped>\n",
       "    .dataframe tbody tr th:only-of-type {\n",
       "        vertical-align: middle;\n",
       "    }\n",
       "\n",
       "    .dataframe tbody tr th {\n",
       "        vertical-align: top;\n",
       "    }\n",
       "\n",
       "    .dataframe thead th {\n",
       "        text-align: right;\n",
       "    }\n",
       "</style>\n",
       "<table border=\"1\" class=\"dataframe\">\n",
       "  <thead>\n",
       "    <tr style=\"text-align: right;\">\n",
       "      <th></th>\n",
       "      <th>text</th>\n",
       "      <th>label</th>\n",
       "    </tr>\n",
       "  </thead>\n",
       "  <tbody>\n",
       "    <tr>\n",
       "      <th>0</th>\n",
       "      <td>$BYND - JPMorgan reels in expectations on Beyo...</td>\n",
       "      <td>0</td>\n",
       "    </tr>\n",
       "    <tr>\n",
       "      <th>1</th>\n",
       "      <td>$CCL $RCL - Nomura points to bookings weakness...</td>\n",
       "      <td>0</td>\n",
       "    </tr>\n",
       "    <tr>\n",
       "      <th>2</th>\n",
       "      <td>$CX - Cemex cut at Credit Suisse, J.P. Morgan ...</td>\n",
       "      <td>0</td>\n",
       "    </tr>\n",
       "    <tr>\n",
       "      <th>3</th>\n",
       "      <td>$ESS: BTIG Research cuts to Neutral https://t....</td>\n",
       "      <td>0</td>\n",
       "    </tr>\n",
       "    <tr>\n",
       "      <th>4</th>\n",
       "      <td>$FNKO - Funko slides after Piper Jaffray PT cu...</td>\n",
       "      <td>0</td>\n",
       "    </tr>\n",
       "    <tr>\n",
       "      <th>...</th>\n",
       "      <td>...</td>\n",
       "      <td>...</td>\n",
       "    </tr>\n",
       "    <tr>\n",
       "      <th>9538</th>\n",
       "      <td>The Week's Gainers and Losers on the Stoxx Eur...</td>\n",
       "      <td>2</td>\n",
       "    </tr>\n",
       "    <tr>\n",
       "      <th>9539</th>\n",
       "      <td>Tupperware Brands among consumer gainers; Unil...</td>\n",
       "      <td>2</td>\n",
       "    </tr>\n",
       "    <tr>\n",
       "      <th>9540</th>\n",
       "      <td>vTv Therapeutics leads healthcare gainers; Myo...</td>\n",
       "      <td>2</td>\n",
       "    </tr>\n",
       "    <tr>\n",
       "      <th>9541</th>\n",
       "      <td>WORK, XPO, PYX and AMKR among after hour movers</td>\n",
       "      <td>2</td>\n",
       "    </tr>\n",
       "    <tr>\n",
       "      <th>9542</th>\n",
       "      <td>YNDX, I, QD and OESX among tech movers</td>\n",
       "      <td>2</td>\n",
       "    </tr>\n",
       "  </tbody>\n",
       "</table>\n",
       "<p>9543 rows × 2 columns</p>\n",
       "</div>"
      ],
      "text/plain": [
       "                                                   text  label\n",
       "0     $BYND - JPMorgan reels in expectations on Beyo...      0\n",
       "1     $CCL $RCL - Nomura points to bookings weakness...      0\n",
       "2     $CX - Cemex cut at Credit Suisse, J.P. Morgan ...      0\n",
       "3     $ESS: BTIG Research cuts to Neutral https://t....      0\n",
       "4     $FNKO - Funko slides after Piper Jaffray PT cu...      0\n",
       "...                                                 ...    ...\n",
       "9538  The Week's Gainers and Losers on the Stoxx Eur...      2\n",
       "9539  Tupperware Brands among consumer gainers; Unil...      2\n",
       "9540  vTv Therapeutics leads healthcare gainers; Myo...      2\n",
       "9541    WORK, XPO, PYX and AMKR among after hour movers      2\n",
       "9542             YNDX, I, QD and OESX among tech movers      2\n",
       "\n",
       "[9543 rows x 2 columns]"
      ]
     },
     "execution_count": 17,
     "metadata": {},
     "output_type": "execute_result"
    }
   ],
   "source": [
    "df"
   ]
  },
  {
   "cell_type": "code",
   "execution_count": 18,
   "metadata": {
    "colab": {
     "base_uri": "https://localhost:8080/",
     "height": 296
    },
    "executionInfo": {
     "elapsed": 8,
     "status": "ok",
     "timestamp": 1658849654826,
     "user": {
      "displayName": "Skillcate Education",
      "userId": "11062674699417926870"
     },
     "user_tz": -330
    },
    "id": "ys4A3cAFPSYI",
    "outputId": "2fe3d6c3-06b2-4cc4-c1d2-2ad120757a0e"
   },
   "outputs": [
    {
     "data": {
      "text/plain": [
       "<Axes: xlabel='sentiment', ylabel='count'>"
      ]
     },
     "execution_count": 18,
     "metadata": {},
     "output_type": "execute_result"
    },
    {
     "data": {
      "image/png": "[encoded data removed]",
      "text/plain": [
       "<Figure size 640x480 with 1 Axes>"
      ]
     },
     "metadata": {},
     "output_type": "display_data"
    }
   ],
   "source": [
    "# Let's observe distribution of positive / negative sentiments in dataset\n",
    "\n",
    "import seaborn as sns\n",
    "sns.countplot(x='sentiment', data=movie_reviews)"
   ]
  },
  {
   "cell_type": "markdown",
   "metadata": {
    "id": "IAVIsg26PVZC",
    "jp-MarkdownHeadingCollapsed": true,
    "tags": []
   },
   "source": [
    "## Data Preprocessing"
   ]
  },
  {
   "cell_type": "code",
   "execution_count": 19,
   "metadata": {
    "colab": {
     "base_uri": "https://localhost:8080/",
     "height": 122
    },
    "executionInfo": {
     "elapsed": 7,
     "status": "ok",
     "timestamp": 1658849654826,
     "user": {
      "displayName": "Skillcate Education",
      "userId": "11062674699417926870"
     },
     "user_tz": -330
    },
    "id": "PJ6a6aKjPORv",
    "outputId": "d4c23272-ac55-4b30-b2ce-51cf361f4e77"
   },
   "outputs": [
    {
     "data": {
      "text/plain": [
       "'my whole body feels itchy and like its on fire '"
      ]
     },
     "execution_count": 19,
     "metadata": {},
     "output_type": "execute_result"
    }
   ],
   "source": [
    "movie_reviews[\"Tweet\"][2]\n",
    "\n",
    "# You can see that our text contains punctuations, brackets, HTML tags and numbers \n",
    "# We will preprocess this text in the next section"
   ]
  },
  {
   "cell_type": "code",
   "execution_count": 20,
   "metadata": {},
   "outputs": [
    {
     "name": "stderr",
     "output_type": "stream",
     "text": [
      "[nltk_data] Downloading package stopwords to\n",
      "[nltk_data]     C:\\Users\\vhema\\AppData\\Roaming\\nltk_data...\n",
      "[nltk_data]   Package stopwords is already up-to-date!\n"
     ]
    },
    {
     "data": {
      "text/plain": [
       "True"
      ]
     },
     "execution_count": 20,
     "metadata": {},
     "output_type": "execute_result"
    }
   ],
   "source": [
    "import nltk\n",
    "nltk.download('stopwords')"
   ]
  },
  {
   "cell_type": "code",
   "execution_count": 21,
   "metadata": {},
   "outputs": [],
   "source": [
    "# import b2_preprocessing_function\n",
    "from b2_preprocessing_function import CustomPreprocess"
   ]
  },
  {
   "cell_type": "code",
   "execution_count": 22,
   "metadata": {},
   "outputs": [
    {
     "data": {
      "text/plain": [
       "'best days life '"
      ]
     },
     "execution_count": 22,
     "metadata": {},
     "output_type": "execute_result"
    }
   ],
   "source": [
    "custom = CustomPreprocess()\n",
    "custom.preprocess_text(\"Those were the best days of my life!\")"
   ]
  },
  {
   "cell_type": "code",
   "execution_count": 23,
   "metadata": {
    "id": "pPFVY9UtPnkY"
   },
   "outputs": [],
   "source": [
    "TAG_RE = re.compile(r'<[^>]+>')\n",
    "\n",
    "def remove_tags(text):\n",
    "    '''Removes HTML tags: replaces anything between opening and closing <> with empty space'''\n",
    "\n",
    "    return TAG_RE.sub('', text)"
   ]
  },
  {
   "cell_type": "code",
   "execution_count": 24,
   "metadata": {
    "colab": {
     "base_uri": "https://localhost:8080/"
    },
    "executionInfo": {
     "elapsed": 778,
     "status": "ok",
     "timestamp": 1658849655598,
     "user": {
      "displayName": "Skillcate Education",
      "userId": "11062674699417926870"
     },
     "user_tz": -330
    },
    "id": "D3GyEDf7DwFz",
    "outputId": "90d99421-dc40-4526-f8ee-9737086a2412"
   },
   "outputs": [
    {
     "name": "stderr",
     "output_type": "stream",
     "text": [
      "[nltk_data] Downloading package punkt to\n",
      "[nltk_data]     C:\\Users\\vhema\\AppData\\Roaming\\nltk_data...\n",
      "[nltk_data]   Package punkt is already up-to-date!\n"
     ]
    },
    {
     "data": {
      "text/plain": [
       "True"
      ]
     },
     "execution_count": 24,
     "metadata": {},
     "output_type": "execute_result"
    }
   ],
   "source": [
    "import nltk\n",
    "nltk.download('punkt')"
   ]
  },
  {
   "cell_type": "code",
   "execution_count": 25,
   "metadata": {
    "id": "QBuD9E20PZDb"
   },
   "outputs": [],
   "source": [
    "from nltk.stem import PorterStemmer \n",
    "port_stem=PorterStemmer()\n",
    "\n",
    "def preprocess_text(sen):\n",
    "    '''Cleans text data up, leaving only 2 or more char long non-stepwords composed of A-Z & a-z only\n",
    "    in lowercase'''\n",
    "    \n",
    "    sentence = sen.lower()\n",
    "    \n",
    "    sentence=[port_stem.stem(word) for word in sentence if not word in stopwords.word('english')]\n",
    "\n",
    "    # Remove html tags\n",
    "    sentence = remove_tags(sentence)\n",
    "\n",
    "    # Remove punctuations and numbers\n",
    "    sentence = re.sub('[^a-zA-Z]', ' ', sentence)\n",
    "\n",
    "    # Single character removal\n",
    "    sentence = re.sub(r\"\\s+[a-zA-Z]\\s+\", ' ', sentence)  # When we remove apostrophe from the word \"Mark's\", the apostrophe is replaced by an empty space. Hence, we are left with single character \"s\" that we are removing here.\n",
    "\n",
    "    # Remove multiple spaces\n",
    "    sentence = re.sub(r'\\s+', ' ', sentence)  # Next, we remove all the single characters and replace it by a space which creates multiple spaces in our text. Finally, we remove the multiple spaces from our text as well.\n",
    "\n",
    "    # Remove Stopwords\n",
    "    pattern = re.compile(r'\\b(' + r'|'.join(stopwords.words('english')) + r')\\b\\s*')\n",
    "    sentence = pattern.sub('', sentence)\n",
    "\n",
    "    return sentence"
   ]
  },
  {
   "cell_type": "code",
   "execution_count": 26,
   "metadata": {
    "id": "GPSBPltpQDPp"
   },
   "outputs": [],
   "source": [
    "# Calling preprocessing_text function on movie_reviews\n",
    "\n",
    "X = []\n",
    "sentences = list(movie_reviews['Tweet'])\n",
    "for sen in sentences:\n",
    "    X.append(custom.preprocess_text(sen))"
   ]
  },
  {
   "cell_type": "code",
   "execution_count": 27,
   "metadata": {},
   "outputs": [
    {
     "data": {
      "text/plain": [
       "'whole body feels itchy like fire '"
      ]
     },
     "execution_count": 27,
     "metadata": {},
     "output_type": "execute_result"
    }
   ],
   "source": [
    "# Sample cleaned up movie review \n",
    "\n",
    "X[2]"
   ]
  },
  {
   "cell_type": "code",
   "execution_count": 28,
   "metadata": {},
   "outputs": [],
   "source": [
    "XX=[]\n",
    "sentences = list(df['text'])\n",
    "for sen in sentences:\n",
    "    XX.append(custom.preprocess_text(sen))"
   ]
  },
  {
   "cell_type": "code",
   "execution_count": 29,
   "metadata": {},
   "outputs": [],
   "source": [
    "X.extend(XX)"
   ]
  },
  {
   "cell_type": "code",
   "execution_count": 30,
   "metadata": {
    "id": "-EKC4DJTQKsB"
   },
   "outputs": [],
   "source": [
    "# Converting sentiment labels to 0 & 1\n",
    "\n",
    "y = movie_reviews['sentiment']\n",
    "\n",
    "y = np.array(list(map(lambda x: 1 if x==4 else 0, y)))"
   ]
  },
  {
   "cell_type": "code",
   "execution_count": 31,
   "metadata": {},
   "outputs": [],
   "source": [
    "yy=df['label']\n",
    "\n",
    "yy = np.array(list(map(lambda x: 1 if x==2 else 0, yy)))"
   ]
  },
  {
   "cell_type": "code",
   "execution_count": 32,
   "metadata": {},
   "outputs": [],
   "source": [
    "y=np.concatenate((y, yy))"
   ]
  },
  {
   "cell_type": "code",
   "execution_count": 33,
   "metadata": {
    "id": "UZPyxSQVQPT_"
   },
   "outputs": [],
   "source": [
    "X_train, X_test, y_train, y_test = train_test_split(X, y, test_size=0.20, random_state=42)\n",
    "\n",
    "# The train set will be used to train our deep learning models \n",
    "# while test set will be used to evaluate how well our model performs "
   ]
  },
  {
   "cell_type": "code",
   "execution_count": null,
   "metadata": {
    "scrolled": true,
    "tags": []
   },
   "outputs": [],
   "source": []
  },
  {
   "cell_type": "markdown",
   "metadata": {
    "id": "FsF3k9QbQc5q",
    "jp-MarkdownHeadingCollapsed": true,
    "tags": []
   },
   "source": [
    "## Preparing embedding layer"
   ]
  },
  {
   "cell_type": "markdown",
   "metadata": {
    "id": "hv27X0dUcurD"
   },
   "source": [
    "Let's now write the script for our embedding layer. Embedding layer converts our textual data into numeric form. It is then **used as the first layer for the deep learning models in Keras**."
   ]
  },
  {
   "cell_type": "code",
   "execution_count": 34,
   "metadata": {
    "id": "kZ5kWzGKeAgc"
   },
   "outputs": [],
   "source": [
    "# Embedding layer expects the words to be in numeric form \n",
    "# Using Tokenizer function from keras.preprocessing.text library\n",
    "# Method fit_on_text trains the tokenizer \n",
    "# Method texts_to_sequences converts sentences to their numeric form\n",
    "\n",
    "word_tokenizer = Tokenizer()\n",
    "word_tokenizer.fit_on_texts(X_train)\n",
    "\n",
    "X_train = word_tokenizer.texts_to_sequences(X_train)\n",
    "X_test = word_tokenizer.texts_to_sequences(X_test)"
   ]
  },
  {
   "cell_type": "code",
   "execution_count": 35,
   "metadata": {},
   "outputs": [],
   "source": [
    "import io\n",
    "import json"
   ]
  },
  {
   "cell_type": "code",
   "execution_count": 36,
   "metadata": {},
   "outputs": [],
   "source": [
    "# Saving\n",
    "tokenizer_json = word_tokenizer.to_json()\n",
    "with io.open('b3_tokenizer.json', 'w', encoding='utf-8') as f:\n",
    "    f.write(json.dumps(tokenizer_json, ensure_ascii=False))"
   ]
  },
  {
   "cell_type": "code",
   "execution_count": 37,
   "metadata": {
    "colab": {
     "base_uri": "https://localhost:8080/"
    },
    "executionInfo": {
     "elapsed": 25,
     "status": "ok",
     "timestamp": 1658849689767,
     "user": {
      "displayName": "Skillcate Education",
      "userId": "11062674699417926870"
     },
     "user_tz": -330
    },
    "id": "vn-Rj21reKVm",
    "outputId": "8bda9c62-df83-4e8e-c9af-d5f7ab98537e"
   },
   "outputs": [
    {
     "data": {
      "text/plain": [
       "514982"
      ]
     },
     "execution_count": 37,
     "metadata": {},
     "output_type": "execute_result"
    }
   ],
   "source": [
    "# Adding 1 to store dimensions for words for which no pretrained word embeddings exist\n",
    "\n",
    "vocab_length = len(word_tokenizer.word_index) + 1\n",
    "\n",
    "vocab_length"
   ]
  },
  {
   "cell_type": "code",
   "execution_count": 38,
   "metadata": {
    "id": "9-QqBAR0hz22"
   },
   "outputs": [],
   "source": [
    "# Padding all reviews to fixed length 30\n",
    "\n",
    "maxlen = 30\n",
    "\n",
    "X_train = pad_sequences(X_train, padding='post', maxlen=maxlen)\n",
    "X_test = pad_sequences(X_test, padding='post', maxlen=maxlen)"
   ]
  },
  {
   "cell_type": "code",
   "execution_count": 39,
   "metadata": {
    "id": "VH4uFszlRGPk"
   },
   "outputs": [],
   "source": [
    "# Load GloVe word embeddings and create an Embeddings Dictionary\n",
    "\n",
    "from numpy import asarray\n",
    "from numpy import zeros\n",
    "\n",
    "embeddings_dictionary = dict()\n",
    "glove_file = open('glove.6B.300d.txt', encoding=\"utf8\")\n",
    "\n",
    "for line in glove_file:\n",
    "    records = line.split()\n",
    "    word = records[0]\n",
    "    vector_dimensions = asarray(records[1:], dtype='float32')\n",
    "    embeddings_dictionary [word] = vector_dimensions\n",
    "glove_file.close()"
   ]
  },
  {
   "cell_type": "code",
   "execution_count": 40,
   "metadata": {
    "id": "ZN6SP61FSDZB"
   },
   "outputs": [],
   "source": [
    "# Create Embedding Matrix having 300 columns \n",
    "# Containing 300-dimensional GloVe word embeddings for all words in our corpus.\n",
    "\n",
    "embedding_matrix = zeros((vocab_length, 300))\n",
    "for word, index in word_tokenizer.word_index.items():\n",
    "    embedding_vector = embeddings_dictionary.get(word)\n",
    "    if embedding_vector is not None:\n",
    "        embedding_matrix[index] = embedding_vector"
   ]
  },
  {
   "cell_type": "code",
   "execution_count": 41,
   "metadata": {
    "colab": {
     "base_uri": "https://localhost:8080/"
    },
    "executionInfo": {
     "elapsed": 25,
     "status": "ok",
     "timestamp": 1658849701214,
     "user": {
      "displayName": "Skillcate Education",
      "userId": "11062674699417926870"
     },
     "user_tz": -330
    },
    "id": "fjwFEeCmiAPo",
    "outputId": "2507711f-fcb8-4c89-f912-28512bdb476c"
   },
   "outputs": [
    {
     "data": {
      "text/plain": [
       "(514982, 300)"
      ]
     },
     "execution_count": 41,
     "metadata": {},
     "output_type": "execute_result"
    }
   ],
   "source": [
    "embedding_matrix.shape"
   ]
  },
  {
   "cell_type": "markdown",
   "metadata": {
    "id": "OW-AbfS3jNy_",
    "tags": []
   },
   "source": [
    "# Model Training with:"
   ]
  },
  {
   "cell_type": "markdown",
   "metadata": {
    "id": "F_bNYrfoSIBj",
    "jp-MarkdownHeadingCollapsed": true,
    "tags": []
   },
   "source": [
    "## Simple Neural Network"
   ]
  },
  {
   "cell_type": "code",
   "execution_count": 42,
   "metadata": {
    "id": "qf-U8d-WSFxk"
   },
   "outputs": [],
   "source": [
    "# Neural Network architecture\n",
    "\n",
    "snn_model = Sequential()\n",
    "embedding_layer = Embedding(vocab_length, 300, weights=[embedding_matrix], input_length=maxlen , trainable=False)\n",
    "\n",
    "# Embedding(input_dim=Vocab_size,output_dim=8,input_length=max_length)\n",
    "\n",
    "snn_model.add(embedding_layer)\n",
    "\n",
    "snn_model.add(Flatten())\n",
    "snn_model.add(Dense(1, activation='sigmoid'))"
   ]
  },
  {
   "cell_type": "code",
   "execution_count": 43,
   "metadata": {
    "colab": {
     "base_uri": "https://localhost:8080/"
    },
    "executionInfo": {
     "elapsed": 15,
     "status": "ok",
     "timestamp": 1658849702052,
     "user": {
      "displayName": "Skillcate Education",
      "userId": "11062674699417926870"
     },
     "user_tz": -330
    },
    "id": "JjUzsDS5SOrH",
    "outputId": "368baadd-5208-4dcc-c0d5-755645fb5061"
   },
   "outputs": [
    {
     "name": "stdout",
     "output_type": "stream",
     "text": [
      "Model: \"sequential\"\n",
      "_________________________________________________________________\n",
      " Layer (type)                Output Shape              Param #   \n",
      "=================================================================\n",
      " embedding (Embedding)       (None, 30, 300)           154494600 \n",
      "                                                                 \n",
      " flatten (Flatten)           (None, 9000)              0         \n",
      "                                                                 \n",
      " dense (Dense)               (None, 1)                 9001      \n",
      "                                                                 \n",
      "=================================================================\n",
      "Total params: 154503601 (589.38 MB)\n",
      "Trainable params: 9001 (35.16 KB)\n",
      "Non-trainable params: 154494600 (589.35 MB)\n",
      "_________________________________________________________________\n",
      "None\n"
     ]
    }
   ],
   "source": [
    "# Model compiling\n",
    "\n",
    "snn_model.compile(optimizer='adam', loss='binary_crossentropy', metrics=['acc'])\n",
    "\n",
    "print(snn_model.summary())"
   ]
  },
  {
   "cell_type": "code",
   "execution_count": 48,
   "metadata": {
    "scrolled": true,
    "tags": []
   },
   "outputs": [
    {
     "name": "stdout",
     "output_type": "stream",
     "text": [
      "Epoch 1/10\n",
      "8048/8048 [==============================] - 30s 4ms/step - loss: 0.5640 - acc: 0.7142 - val_loss: 0.5667 - val_acc: 0.7146\n",
      "Epoch 2/10\n",
      "8048/8048 [==============================] - 31s 4ms/step - loss: 0.5629 - acc: 0.7151 - val_loss: 0.5655 - val_acc: 0.7145\n",
      "Epoch 3/10\n",
      "8048/8048 [==============================] - 29s 4ms/step - loss: 0.5625 - acc: 0.7151 - val_loss: 0.5657 - val_acc: 0.7148\n",
      "Epoch 4/10\n",
      "8048/8048 [==============================] - 30s 4ms/step - loss: 0.5622 - acc: 0.7155 - val_loss: 0.5671 - val_acc: 0.7125\n",
      "Epoch 5/10\n",
      "8048/8048 [==============================] - 30s 4ms/step - loss: 0.5619 - acc: 0.7158 - val_loss: 0.5648 - val_acc: 0.7147\n",
      "Epoch 6/10\n",
      "8048/8048 [==============================] - 30s 4ms/step - loss: 0.5617 - acc: 0.7158 - val_loss: 0.5649 - val_acc: 0.7155\n",
      "Epoch 7/10\n",
      "8048/8048 [==============================] - 31s 4ms/step - loss: 0.5615 - acc: 0.7162 - val_loss: 0.5651 - val_acc: 0.7156\n",
      "Epoch 8/10\n",
      "8048/8048 [==============================] - 30s 4ms/step - loss: 0.5615 - acc: 0.7160 - val_loss: 0.5648 - val_acc: 0.7158\n",
      "Epoch 9/10\n",
      "8048/8048 [==============================] - 31s 4ms/step - loss: 0.5613 - acc: 0.7164 - val_loss: 0.5641 - val_acc: 0.7153\n",
      "Epoch 10/10\n",
      "8048/8048 [==============================] - 31s 4ms/step - loss: 0.5612 - acc: 0.7165 - val_loss: 0.5665 - val_acc: 0.7136\n"
     ]
    }
   ],
   "source": [
    "# Model training\n",
    "\n",
    "snn_model_history = snn_model.fit(X_train, y_train, batch_size=128, epochs=10, verbose=1, validation_split=0.2)"
   ]
  },
  {
   "cell_type": "code",
   "execution_count": 49,
   "metadata": {
    "colab": {
     "base_uri": "https://localhost:8080/"
    },
    "executionInfo": {
     "elapsed": 11008,
     "status": "ok",
     "timestamp": 1658849713055,
     "user": {
      "displayName": "Skillcate Education",
      "userId": "11062674699417926870"
     },
     "user_tz": -330
    },
    "id": "Fbjq_xjXSVIw",
    "outputId": "cf9c57de-d175-442e-ff1b-8844b1a4d4d1"
   },
   "outputs": [],
   "source": [
    "# # Model training\n",
    "\n",
    "# snn_model_history = snn_model.fit(X_train, y_train, batch_size=128, epochs=6, verbose=1, validation_split=0.2)"
   ]
  },
  {
   "cell_type": "code",
   "execution_count": 50,
   "metadata": {
    "colab": {
     "base_uri": "https://localhost:8080/"
    },
    "executionInfo": {
     "elapsed": 1291,
     "status": "ok",
     "timestamp": 1658849714321,
     "user": {
      "displayName": "Skillcate Education",
      "userId": "11062674699417926870"
     },
     "user_tz": -330
    },
    "id": "bLiriTfNSYcc",
    "outputId": "6b323f4b-1b0e-4fe5-da9f-7175a716e359"
   },
   "outputs": [
    {
     "name": "stdout",
     "output_type": "stream",
     "text": [
      "10060/10060 [==============================] - 19s 2ms/step - loss: 0.5656 - acc: 0.7143\n"
     ]
    }
   ],
   "source": [
    "# Predictions on the Test Set\n",
    "\n",
    "score = snn_model.evaluate(X_test, y_test, verbose=1)"
   ]
  },
  {
   "cell_type": "code",
   "execution_count": 51,
   "metadata": {
    "colab": {
     "base_uri": "https://localhost:8080/"
    },
    "executionInfo": {
     "elapsed": 13,
     "status": "ok",
     "timestamp": 1658849714321,
     "user": {
      "displayName": "Skillcate Education",
      "userId": "11062674699417926870"
     },
     "user_tz": -330
    },
    "id": "CeFtXQ9MSaaN",
    "outputId": "753874f7-357b-4c0b-91ed-c944ebbe0efb"
   },
   "outputs": [
    {
     "name": "stdout",
     "output_type": "stream",
     "text": [
      "Test Score: 0.5656214952468872\n",
      "Test Accuracy: 0.7143416404724121\n"
     ]
    }
   ],
   "source": [
    "# Model Performance\n",
    "\n",
    "print(\"Test Score:\", score[0])\n",
    "print(\"Test Accuracy:\", score[1])"
   ]
  },
  {
   "cell_type": "code",
   "execution_count": 52,
   "metadata": {
    "colab": {
     "base_uri": "https://localhost:8080/",
     "height": 573
    },
    "executionInfo": {
     "elapsed": 10,
     "status": "ok",
     "timestamp": 1658849714322,
     "user": {
      "displayName": "Skillcate Education",
      "userId": "11062674699417926870"
     },
     "user_tz": -330
    },
    "id": "r55HElqVSc5K",
    "outputId": "a52b5052-ea2b-4eef-a92a-9843f4a6c934"
   },
   "outputs": [
    {
     "data": {
      "image/png": "[encoded data removed]",
      "text/plain": [
       "<Figure size 640x480 with 1 Axes>"
      ]
     },
     "metadata": {},
     "output_type": "display_data"
    },
    {
     "data": {
      "image/png": "[encoded data removed]",
      "text/plain": [
       "<Figure size 640x480 with 1 Axes>"
      ]
     },
     "metadata": {},
     "output_type": "display_data"
    }
   ],
   "source": [
    "# Model Performance Charts\n",
    "\n",
    "import matplotlib.pyplot as plt\n",
    "\n",
    "plt.plot(snn_model_history.history['acc'])\n",
    "plt.plot(snn_model_history.history['val_acc'])\n",
    "\n",
    "plt.title('model accuracy')\n",
    "plt.ylabel('accuracy')\n",
    "plt.xlabel('epoch')\n",
    "plt.legend(['train','test'], loc='upper left')\n",
    "plt.show()\n",
    "\n",
    "plt.plot(snn_model_history.history['loss'])\n",
    "plt.plot(snn_model_history.history['val_loss'])\n",
    "\n",
    "plt.title('model loss')\n",
    "plt.ylabel('loss')\n",
    "plt.xlabel('epoch')\n",
    "plt.legend(['train','test'], loc='upper left')\n",
    "plt.show()"
   ]
  },
  {
   "cell_type": "markdown",
   "metadata": {
    "id": "HMulFBC4SfAY",
    "jp-MarkdownHeadingCollapsed": true,
    "tags": []
   },
   "source": [
    "## Convolutional Neural Network"
   ]
  },
  {
   "cell_type": "code",
   "execution_count": 53,
   "metadata": {
    "id": "CzNlGNGGUhVx"
   },
   "outputs": [],
   "source": [
    "from keras.layers import Conv1D"
   ]
  },
  {
   "cell_type": "code",
   "execution_count": 54,
   "metadata": {
    "id": "kbVF6c4ASgUs"
   },
   "outputs": [],
   "source": [
    "# Neural Network architecture\n",
    "\n",
    "cnn_model = Sequential()\n",
    "\n",
    "embedding_layer = Embedding(vocab_length, 300, weights=[embedding_matrix], input_length=maxlen , trainable=False)\n",
    "cnn_model.add(embedding_layer)\n",
    "\n",
    "cnn_model.add(Conv1D(128, 5, activation='relu'))\n",
    "cnn_model.add(GlobalMaxPooling1D())\n",
    "cnn_model.add(Dense(1, activation='sigmoid'))"
   ]
  },
  {
   "cell_type": "code",
   "execution_count": 55,
   "metadata": {
    "colab": {
     "base_uri": "https://localhost:8080/"
    },
    "executionInfo": {
     "elapsed": 848,
     "status": "ok",
     "timestamp": 1658849715163,
     "user": {
      "displayName": "Skillcate Education",
      "userId": "11062674699417926870"
     },
     "user_tz": -330
    },
    "id": "XayF5sTqSlP_",
    "outputId": "cab2695e-891c-4af7-90ca-3353b6ae3016"
   },
   "outputs": [
    {
     "name": "stdout",
     "output_type": "stream",
     "text": [
      "Model: \"sequential_1\"\n",
      "_________________________________________________________________\n",
      " Layer (type)                Output Shape              Param #   \n",
      "=================================================================\n",
      " embedding_1 (Embedding)     (None, 30, 300)           154494600 \n",
      "                                                                 \n",
      " conv1d (Conv1D)             (None, 26, 128)           192128    \n",
      "                                                                 \n",
      " global_max_pooling1d (Glob  (None, 128)               0         \n",
      " alMaxPooling1D)                                                 \n",
      "                                                                 \n",
      " dense_1 (Dense)             (None, 1)                 129       \n",
      "                                                                 \n",
      "=================================================================\n",
      "Total params: 154686857 (590.08 MB)\n",
      "Trainable params: 192257 (751.00 KB)\n",
      "Non-trainable params: 154494600 (589.35 MB)\n",
      "_________________________________________________________________\n",
      "None\n"
     ]
    }
   ],
   "source": [
    "# Model compiling\n",
    "\n",
    "cnn_model.compile(optimizer='adam', loss='binary_crossentropy', metrics=['acc'])\n",
    "print(cnn_model.summary())"
   ]
  },
  {
   "cell_type": "code",
   "execution_count": 57,
   "metadata": {
    "colab": {
     "base_uri": "https://localhost:8080/"
    },
    "executionInfo": {
     "elapsed": 141797,
     "status": "ok",
     "timestamp": 1658849856948,
     "user": {
      "displayName": "Skillcate Education",
      "userId": "11062674699417926870"
     },
     "user_tz": -330
    },
    "id": "AaF5Rc6GSnDY",
    "outputId": "3b01a193-f9f6-452c-aa65-2fadd8f90df7"
   },
   "outputs": [
    {
     "name": "stdout",
     "output_type": "stream",
     "text": [
      "Epoch 1/6\n",
      "8048/8048 [==============================] - 233s 29ms/step - loss: 0.4023 - acc: 0.8154 - val_loss: 0.5046 - val_acc: 0.7629\n",
      "Epoch 2/6\n",
      "8048/8048 [==============================] - 238s 30ms/step - loss: 0.3953 - acc: 0.8197 - val_loss: 0.5074 - val_acc: 0.7620\n",
      "Epoch 3/6\n",
      "8048/8048 [==============================] - 248s 31ms/step - loss: 0.3891 - acc: 0.8228 - val_loss: 0.5169 - val_acc: 0.7599\n",
      "Epoch 4/6\n",
      "8048/8048 [==============================] - 1047s 130ms/step - loss: 0.3838 - acc: 0.8259 - val_loss: 0.5182 - val_acc: 0.7606\n",
      "Epoch 5/6\n",
      "8048/8048 [==============================] - 286s 36ms/step - loss: 0.3786 - acc: 0.8287 - val_loss: 0.5253 - val_acc: 0.7571\n",
      "Epoch 6/6\n",
      "8048/8048 [==============================] - 300s 37ms/step - loss: 0.3744 - acc: 0.8308 - val_loss: 0.5329 - val_acc: 0.7572\n"
     ]
    }
   ],
   "source": [
    "# Model training\n",
    "\n",
    "cnn_model_history = cnn_model.fit(X_train, y_train, batch_size=128, epochs=6, verbose=1, validation_split=0.2)"
   ]
  },
  {
   "cell_type": "code",
   "execution_count": 58,
   "metadata": {
    "colab": {
     "base_uri": "https://localhost:8080/"
    },
    "executionInfo": {
     "elapsed": 3055,
     "status": "ok",
     "timestamp": 1658849859981,
     "user": {
      "displayName": "Skillcate Education",
      "userId": "11062674699417926870"
     },
     "user_tz": -330
    },
    "id": "fTqK3hr6VNUi",
    "outputId": "34bb869e-8209-4a1c-d8ba-1a5e699e9c11"
   },
   "outputs": [
    {
     "name": "stdout",
     "output_type": "stream",
     "text": [
      "10060/10060 [==============================] - 47s 5ms/step - loss: 0.5338 - acc: 0.7567\n"
     ]
    }
   ],
   "source": [
    "# Predictions on the Test Set\n",
    "score = cnn_model.evaluate(X_test, y_test, verbose=1)"
   ]
  },
  {
   "cell_type": "code",
   "execution_count": 59,
   "metadata": {
    "colab": {
     "base_uri": "https://localhost:8080/"
    },
    "executionInfo": {
     "elapsed": 8,
     "status": "ok",
     "timestamp": 1658849859982,
     "user": {
      "displayName": "Skillcate Education",
      "userId": "11062674699417926870"
     },
     "user_tz": -330
    },
    "id": "bQhafHPmSvpG",
    "outputId": "a6f68212-361d-4d9c-e6ce-389a72a00672"
   },
   "outputs": [
    {
     "name": "stdout",
     "output_type": "stream",
     "text": [
      "Test Score: 0.533781886100769\n",
      "Test Accuracy: 0.7567014098167419\n"
     ]
    }
   ],
   "source": [
    "# Model Performance\n",
    "\n",
    "print(\"Test Score:\", score[0])\n",
    "print(\"Test Accuracy:\", score[1])"
   ]
  },
  {
   "cell_type": "code",
   "execution_count": 60,
   "metadata": {
    "colab": {
     "base_uri": "https://localhost:8080/",
     "height": 573
    },
    "executionInfo": {
     "elapsed": 859,
     "status": "ok",
     "timestamp": 1658849860837,
     "user": {
      "displayName": "Skillcate Education",
      "userId": "11062674699417926870"
     },
     "user_tz": -330
    },
    "id": "YLdZa9GNSyAy",
    "outputId": "738c6044-36be-497d-c91d-13f944e2247a"
   },
   "outputs": [
    {
     "data": {
      "image/png": "[encoded data removed]",
      "text/plain": [
       "<Figure size 640x480 with 1 Axes>"
      ]
     },
     "metadata": {},
     "output_type": "display_data"
    },
    {
     "data": {
      "image/png": "[encoded data removed]",
      "text/plain": [
       "<Figure size 640x480 with 1 Axes>"
      ]
     },
     "metadata": {},
     "output_type": "display_data"
    }
   ],
   "source": [
    "# Model Performance Charts\n",
    "\n",
    "import matplotlib.pyplot as plt\n",
    "\n",
    "plt.plot(cnn_model_history.history['acc'])\n",
    "plt.plot(cnn_model_history.history['val_acc'])\n",
    "\n",
    "plt.title('model accuracy')\n",
    "plt.ylabel('accuracy')\n",
    "plt.xlabel('epoch')\n",
    "plt.legend(['train','test'], loc = 'upper left')\n",
    "plt.show()\n",
    "\n",
    "plt.plot(cnn_model_history.history['loss'])\n",
    "plt.plot(cnn_model_history.history['val_loss'])\n",
    "\n",
    "plt.title('model loss')\n",
    "plt.ylabel('loss')\n",
    "plt.xlabel('epoch')\n",
    "plt.legend(['train','test'], loc = 'upper left')\n",
    "plt.show()"
   ]
  },
  {
   "cell_type": "markdown",
   "metadata": {
    "jp-MarkdownHeadingCollapsed": true,
    "tags": []
   },
   "source": [
    "## Recurrent Neural Network (LSTM)"
   ]
  },
  {
   "cell_type": "code",
   "execution_count": 61,
   "metadata": {},
   "outputs": [
    {
     "name": "stderr",
     "output_type": "stream",
     "text": [
      "[nltk_data] Downloading package stopwords to\n",
      "[nltk_data]     C:\\Users\\vhema\\AppData\\Roaming\\nltk_data...\n",
      "[nltk_data]   Package stopwords is already up-to-date!\n"
     ]
    },
    {
     "data": {
      "text/plain": [
       "True"
      ]
     },
     "execution_count": 61,
     "metadata": {},
     "output_type": "execute_result"
    }
   ],
   "source": [
    "import pandas as pd\n",
    "import re\n",
    "import numpy as np\n",
    "import nltk\n",
    "from nltk.corpus import stopwords\n",
    "from nltk.stem import SnowballStemmer\n",
    "from sklearn.model_selection import train_test_split\n",
    "from sklearn.preprocessing import LabelEncoder\n",
    "from keras.preprocessing.text import Tokenizer\n",
    "from keras.preprocessing.sequence import pad_sequences\n",
    "import tensorflow as tf\n",
    "import matplotlib.pyplot as plt\n",
    "\n",
    "nltk.download('stopwords')"
   ]
  },
  {
   "cell_type": "code",
   "execution_count": 91,
   "metadata": {},
   "outputs": [
    {
     "name": "stderr",
     "output_type": "stream",
     "text": [
      "[nltk_data] Downloading package stopwords to\n",
      "[nltk_data]     C:\\Users\\vhema\\AppData\\Roaming\\nltk_data...\n",
      "[nltk_data]   Package stopwords is already up-to-date!\n"
     ]
    },
    {
     "data": {
      "image/png": "[encoded data removed]",
      "text/plain": [
       "<Figure size 800x400 with 1 Axes>"
      ]
     },
     "metadata": {},
     "output_type": "display_data"
    }
   ],
   "source": [
    "import pandas as pd\n",
    "import re\n",
    "import numpy as np\n",
    "import nltk\n",
    "from nltk.corpus import stopwords\n",
    "from nltk.stem import SnowballStemmer\n",
    "from sklearn.model_selection import train_test_split\n",
    "from sklearn.preprocessing import LabelEncoder\n",
    "from tensorflow.keras.preprocessing.text import Tokenizer\n",
    "#from keras.preprocessing.sequence import pad_sequences\n",
    "from tensorflow.keras.preprocessing.sequence import pad_sequences\n",
    "\n",
    "import tensorflow as tf\n",
    "import matplotlib.pyplot as plt\n",
    "\n",
    "nltk.download('stopwords')\n",
    "\n",
    "# Load dataset\n",
    "df = pd.read_csv('training.1600000.processed.noemoticon.csv', encoding='iso-8859-1')\n",
    "df.columns = ['sentiment', 'id', 'date', 'query', 'user_name', 'tweet']\n",
    "df = df.drop(['id', 'date', 'query', 'user_name'], axis=1)\n",
    "\n",
    "# Define label-to-sentiment mapping\n",
    "label_to_sentiment = {0: \"Negative\", 4: \"Positive\"}\n",
    "\n",
    "# Clean tweets\n",
    "stop_words = set(stopwords.words('english'))\n",
    "stemmer = SnowballStemmer('english')\n",
    "text_cleaning_regex = \"@\\S+|https?:\\S+|http?:\\S|[^A-Za-z0-9]+\"\n",
    "\n",
    "def clean_tweets(text, stem=False):\n",
    "    text = re.sub(text_cleaning_regex, ' ', str(text).lower()).strip()\n",
    "    tokens = []\n",
    "    for token in text.split():\n",
    "        if token not in stop_words:\n",
    "            if stem:\n",
    "                tokens.append(stemmer.stem(token))\n",
    "            else:\n",
    "                tokens.append(token)\n",
    "    return \" \".join(tokens)\n",
    "\n",
    "df['tweet'] = df['tweet'].apply(clean_tweets)\n",
    "\n",
    "# Train-test split\n",
    "train_data, test_data = train_test_split(df, test_size=0.2, random_state=16)\n",
    "\n",
    "# Tokenization and padding\n",
    "tokenizer = Tokenizer()\n",
    "tokenizer.fit_on_texts(train_data['tweet'])\n",
    "word_index = tokenizer.word_index\n",
    "vocab_size = len(tokenizer.word_index) + 1\n",
    "x_train = pad_sequences(tokenizer.texts_to_sequences(train_data['tweet']), maxlen=30)\n",
    "x_test = pad_sequences(tokenizer.texts_to_sequences(test_data['tweet']), maxlen=30)\n",
    "\n",
    "# Label encoding\n",
    "encoder = LabelEncoder()\n",
    "y_train = encoder.fit_transform(train_data['sentiment']).reshape(-1, 1)\n",
    "y_test = encoder.transform(test_data['sentiment']).reshape(-1, 1)\n",
    "\n",
    "# Load GloVe embeddings\n",
    "embeddings_index = {}\n",
    "with open('glove.6B.300d.txt', 'r', encoding='utf-8') as f:\n",
    "    for line in f:\n",
    "        values = line.split()\n",
    "        word = values[0]\n",
    "        coefs = np.asarray(values[1:], dtype='float32')\n",
    "        embeddings_index[word] = coefs\n",
    "\n",
    "# Create embedding matrix\n",
    "embedding_matrix = np.zeros((vocab_size, 300))\n",
    "for word, i in word_index.items():\n",
    "    embedding_vector = embeddings_index.get(word)\n",
    "    if embedding_vector is not None:\n",
    "        embedding_matrix[i] = embedding_vector\n",
    "\n",
    "# Define embedding layer\n",
    "embedding_layer = Embedding(vocab_size, 300, weights=[embedding_matrix], input_length=maxlen , trainable=False)\n",
    "\n",
    "# Plot distribution of sentiment labels\n",
    "distribution = df['sentiment'].value_counts()\n",
    "plt.figure(figsize=(8, 4))\n",
    "plt.bar(distribution.index, distribution.values)\n",
    "plt.show()\n"
   ]
  },
  {
   "cell_type": "code",
   "execution_count": 92,
   "metadata": {},
   "outputs": [],
   "source": [
    "# # Import various layers needed for the architecture from keras\n",
    "# from tensorflow.keras.layers import Conv1D, Bidirectional, LSTM, Dense, Input, Dropout\n",
    "# from tensorflow.keras.layers import SpatialDropout1D\n",
    "# from tensorflow.keras.callbacks import ModelCheckpoint\n",
    "# # The Input layer \n",
    "# sequence_input = Input(shape=(100,), dtype='int32')\n",
    "# # Inputs passed to the embedding layer\n",
    "# embedding_sequences = embedding_layer(sequence_input)\n",
    "# # dropout and conv layer \n",
    "# x = SpatialDropout1D(0.2)(embedding_sequences)\n",
    "# x = Conv1D(64, 5, activation='tanh')(x)\n",
    "# # Passed on to the LSTM layer\n",
    "# x = Bidirectional(LSTM(64, dropout=0.2, recurrent_dropout=0.2))(x)\n",
    "# x = Dense(512, activation='tanh')(x)\n",
    "# x = Dropout(0.5)(x)\n",
    "# x = Dense(512, activation='tanh')(x)\n",
    "# # Passed on to activation layer to get final output\n",
    "# outputs = Dense(1, activation='sigmoid')(x)\n",
    "# model = tf.keras.Model(sequence_input, outputs)\n",
    "# Define embedding layer\n",
    "# embedding_layer = Embedding(input_dim=vocab_size, output_dim=300 , trainable=False)\n",
    "# embedding_layer.build((1,))\n",
    "# embedding_layer.set_weights([embedding_matrix])"
   ]
  },
  {
   "cell_type": "code",
   "execution_count": 93,
   "metadata": {},
   "outputs": [],
   "source": [
    "from tensorflow.keras.layers import Conv1D, Bidirectional, LSTM, Dense, Input, Dropout\n",
    "from tensorflow.keras.layers import SpatialDropout1D\n",
    "from tensorflow.keras.callbacks import ModelCheckpoint\n",
    "\n",
    "# Assuming 'embedding_layer' is defined earlier in your code\n",
    "# Define input layer\n",
    "sequence_input = Input(shape=(30,), dtype='int32')\n",
    "\n",
    "# Inputs passed to the embedding layer\n",
    "embedding_sequences = embedding_layer(sequence_input)\n",
    "\n",
    "# Dropout and convolutional layer \n",
    "x = SpatialDropout1D(0.2)(embedding_sequences)\n",
    "x = Conv1D(64, 5, activation='relu')(x)  # Using ReLU activation instead of tanh\n",
    "\n",
    "# Passed on to the LSTM layer\n",
    "# Adjusting LSTM parameters to meet cuDNN criteria\n",
    "x = Bidirectional(LSTM(64, return_sequences=True))(x)  # Set return_sequences=True\n",
    "x = Dropout(0.2)(x)  # Reducing dropout rate to 0.2\n",
    "\n",
    "# GlobalMaxPooling1D layer to reduce dimensionality\n",
    "x = tf.keras.layers.GlobalMaxPooling1D()(x)\n",
    "\n",
    "# Adding Dense layers\n",
    "x = Dense(512, activation='relu')(x)  # Using ReLU activation instead of tanh\n",
    "x = Dropout(0.5)(x)\n",
    "x = Dense(512, activation='relu')(x)  # Using ReLU activation instead of tanh\n",
    "\n",
    "# Passed on to the activation layer to get the final output\n",
    "outputs = Dense(1, activation='sigmoid')(x)\n",
    "\n",
    "# Define the model\n",
    "model = tf.keras.Model(sequence_input, outputs)\n"
   ]
  },
  {
   "cell_type": "code",
   "execution_count": 94,
   "metadata": {},
   "outputs": [
    {
     "name": "stdout",
     "output_type": "stream",
     "text": [
      "Epoch 1/10\n",
      "1250/1250 [==============================] - 777s 618ms/step - loss: 0.5139 - accuracy: 0.7428 - val_loss: 0.4819 - val_accuracy: 0.7661 - lr: 0.0010\n",
      "Epoch 2/10\n",
      "1250/1250 [==============================] - 678s 543ms/step - loss: 0.4819 - accuracy: 0.7659 - val_loss: 0.4726 - val_accuracy: 0.7729 - lr: 0.0010\n",
      "Epoch 3/10\n",
      "1250/1250 [==============================] - 642s 514ms/step - loss: 0.4712 - accuracy: 0.7730 - val_loss: 0.4684 - val_accuracy: 0.7754 - lr: 0.0010\n",
      "Epoch 4/10\n",
      "1250/1250 [==============================] - 654s 523ms/step - loss: 0.4644 - accuracy: 0.7772 - val_loss: 0.4647 - val_accuracy: 0.7782 - lr: 0.0010\n",
      "Epoch 5/10\n",
      "1250/1250 [==============================] - 660s 528ms/step - loss: 0.4594 - accuracy: 0.7801 - val_loss: 0.4659 - val_accuracy: 0.7783 - lr: 0.0010\n",
      "Epoch 6/10\n",
      "1250/1250 [==============================] - 666s 533ms/step - loss: 0.4560 - accuracy: 0.7823 - val_loss: 0.4647 - val_accuracy: 0.7800 - lr: 0.0010\n",
      "Epoch 7/10\n",
      "1250/1250 [==============================] - 711s 569ms/step - loss: 0.4527 - accuracy: 0.7838 - val_loss: 0.4651 - val_accuracy: 0.7802 - lr: 0.0010\n",
      "Epoch 8/10\n",
      "1250/1250 [==============================] - 1599s 1s/step - loss: 0.4500 - accuracy: 0.7857 - val_loss: 0.4620 - val_accuracy: 0.7806 - lr: 0.0010\n",
      "Epoch 9/10\n",
      "1250/1250 [==============================] - 5098s 4s/step - loss: 0.4480 - accuracy: 0.7871 - val_loss: 0.4589 - val_accuracy: 0.7818 - lr: 0.0010\n",
      "Epoch 10/10\n",
      "1250/1250 [==============================] - 632s 505ms/step - loss: 0.4457 - accuracy: 0.7884 - val_loss: 0.4558 - val_accuracy: 0.7828 - lr: 0.0010\n"
     ]
    }
   ],
   "source": [
    "from tensorflow.keras.optimizers import Adam\n",
    "from tensorflow.keras.callbacks import ReduceLROnPlateau\n",
    "LR=0.001\n",
    "model.compile(optimizer=Adam(learning_rate=LR), loss='binary_crossentropy',metrics=['accuracy'])\n",
    "ReduceLROnPlateau = ReduceLROnPlateau(factor=0.1,min_lr = 0.01, monitor = 'val_loss',verbose = 1)\n",
    "training = model.fit(x_train, y_train, batch_size=1024, epochs=10,\n",
    "                    validation_data=(x_test, y_test), callbacks=[ReduceLROnPlateau])"
   ]
  },
  {
   "cell_type": "code",
   "execution_count": 100,
   "metadata": {},
   "outputs": [
    {
     "data": {
      "image/png": "[encoded data removed]",
      "text/plain": [
       "<Figure size 640x480 with 1 Axes>"
      ]
     },
     "metadata": {},
     "output_type": "display_data"
    },
    {
     "data": {
      "image/png": "[encoded data removed]",
      "text/plain": [
       "<Figure size 640x480 with 1 Axes>"
      ]
     },
     "metadata": {},
     "output_type": "display_data"
    }
   ],
   "source": [
    "# Model Performance Charts\n",
    "\n",
    "import matplotlib.pyplot as plt\n",
    "\n",
    "plt.plot(training.history['accuracy'])\n",
    "plt.plot(training.history['val_accuracy'])\n",
    "\n",
    "plt.title('model accuracy')\n",
    "plt.ylabel('accuracy')\n",
    "plt.xlabel('epoch')\n",
    "plt.legend(['train','test'], loc = 'upper left')\n",
    "plt.show()\n",
    "\n",
    "plt.plot(training.history['loss'])\n",
    "plt.plot(training.history['val_loss'])\n",
    "\n",
    "plt.title('model loss')\n",
    "plt.ylabel('loss')\n",
    "plt.xlabel('epoch')\n",
    "plt.legend(['train','test'], loc = 'upper left')\n",
    "plt.show()"
   ]
  },
  {
   "cell_type": "code",
   "execution_count": 96,
   "metadata": {},
   "outputs": [
    {
     "data": {
      "text/plain": [
       "<keras.src.engine.functional.Functional at 0x19a6c645e10>"
      ]
     },
     "execution_count": 96,
     "metadata": {},
     "output_type": "execute_result"
    }
   ],
   "source": [
    "model"
   ]
  },
  {
   "cell_type": "markdown",
   "metadata": {
    "id": "CF77MN1uTHbG",
    "jp-MarkdownHeadingCollapsed": true,
    "tags": []
   },
   "source": [
    "## Making Predictions on Live L&T tweet data"
   ]
  },
  {
   "cell_type": "code",
   "execution_count": 35,
   "metadata": {
    "colab": {
     "base_uri": "https://localhost:8080/"
    },
    "executionInfo": {
     "elapsed": 1007,
     "status": "ok",
     "timestamp": 1658850386979,
     "user": {
      "displayName": "Skillcate Education",
      "userId": "11062674699417926870"
     },
     "user_tz": -330
    },
    "id": "0i2Qws60ogQY",
    "outputId": "84217dba-bcce-48b6-f481-92f315e59c4e"
   },
   "outputs": [
    {
     "data": {
      "text/plain": [
       "'/Users/guptatilak/Documents/SentimentAnalysis-Createch/sentiment-analysis'"
      ]
     },
     "execution_count": 35,
     "metadata": {},
     "output_type": "execute_result"
    }
   ],
   "source": [
    "pwd # lists files in working directory"
   ]
  },
  {
   "cell_type": "code",
   "execution_count": 36,
   "metadata": {
    "id": "4QV-OXuvtpLr",
    "scrolled": true,
    "tags": []
   },
   "outputs": [
    {
     "name": "stderr",
     "output_type": "stream",
     "text": [
      "WARNING:absl:At this time, the v2.11+ optimizer `tf.keras.optimizers.Adam` runs slowly on M1/M2 Macs, please use the legacy Keras optimizer instead, located at `tf.keras.optimizers.legacy.Adam`.\n",
      "WARNING:absl:There is a known slowdown when using v2.11+ Keras optimizers on M1/M2 Macs. Falling back to the legacy Keras optimizer, i.e., `tf.keras.optimizers.legacy.Adam`.\n"
     ]
    },
    {
     "name": "stdout",
     "output_type": "stream",
     "text": [
      "WARNING:tensorflow:Error in loading the saved optimizer state. As a result, your model is starting with a freshly initialized optimizer.\n"
     ]
    },
    {
     "name": "stderr",
     "output_type": "stream",
     "text": [
      "WARNING:tensorflow:Error in loading the saved optimizer state. As a result, your model is starting with a freshly initialized optimizer.\n",
      "WARNING:absl:At this time, the v2.11+ optimizer `tf.keras.optimizers.Adam` runs slowly on M1/M2 Macs, please use the legacy Keras optimizer instead, located at `tf.keras.optimizers.legacy.Adam`.\n",
      "WARNING:absl:There is a known slowdown when using v2.11+ Keras optimizers on M1/M2 Macs. Falling back to the legacy Keras optimizer, i.e., `tf.keras.optimizers.legacy.Adam`.\n"
     ]
    },
    {
     "name": "stdout",
     "output_type": "stream",
     "text": [
      "WARNING:tensorflow:Error in loading the saved optimizer state. As a result, your model is starting with a freshly initialized optimizer.\n"
     ]
    },
    {
     "name": "stderr",
     "output_type": "stream",
     "text": [
      "WARNING:tensorflow:Error in loading the saved optimizer state. As a result, your model is starting with a freshly initialized optimizer.\n",
      "WARNING:absl:At this time, the v2.11+ optimizer `tf.keras.optimizers.Adam` runs slowly on M1/M2 Macs, please use the legacy Keras optimizer instead, located at `tf.keras.optimizers.legacy.Adam`.\n",
      "WARNING:absl:There is a known slowdown when using v2.11+ Keras optimizers on M1/M2 Macs. Falling back to the legacy Keras optimizer, i.e., `tf.keras.optimizers.legacy.Adam`.\n"
     ]
    },
    {
     "name": "stdout",
     "output_type": "stream",
     "text": [
      "WARNING:tensorflow:Error in loading the saved optimizer state. As a result, your model is starting with a freshly initialized optimizer.\n"
     ]
    },
    {
     "name": "stderr",
     "output_type": "stream",
     "text": [
      "WARNING:tensorflow:Error in loading the saved optimizer state. As a result, your model is starting with a freshly initialized optimizer.\n"
     ]
    }
   ],
   "source": [
    "# Load previously trained LSTM Model\n",
    "\n",
    "from keras.models import load_model\n",
    "\n",
    "model_path ='lstm_model2.h5'\n",
    "pretrained_lstm_model = load_model(model_path)\n",
    "pretrained_cnn_model = load_model('cnn_model.h5')\n",
    "pretrained_snn_model = load_model('snn_model.h5')\n",
    "\n",
    "# # summarize model\n",
    "# pretrained_lstm_model.summary()"
   ]
  },
  {
   "cell_type": "code",
   "execution_count": 2,
   "metadata": {
    "colab": {
     "base_uri": "https://localhost:8080/",
     "height": 238
    },
    "executionInfo": {
     "elapsed": 1079,
     "status": "ok",
     "timestamp": 1658850389197,
     "user": {
      "displayName": "Skillcate Education",
      "userId": "11062674699417926870"
     },
     "user_tz": -330
    },
    "id": "qZiniS4-guUR",
    "outputId": "3957e1b5-3ca7-4e58-c8ba-4385504762a3"
   },
   "outputs": [
    {
     "data": {
      "text/html": [
       "<div>\n",
       "<style scoped>\n",
       "    .dataframe tbody tr th:only-of-type {\n",
       "        vertical-align: middle;\n",
       "    }\n",
       "\n",
       "    .dataframe tbody tr th {\n",
       "        vertical-align: top;\n",
       "    }\n",
       "\n",
       "    .dataframe thead th {\n",
       "        text-align: right;\n",
       "    }\n",
       "</style>\n",
       "<table border=\"1\" class=\"dataframe\">\n",
       "  <thead>\n",
       "    <tr style=\"text-align: right;\">\n",
       "      <th></th>\n",
       "      <th>position</th>\n",
       "      <th>title</th>\n",
       "      <th>snippet</th>\n",
       "      <th>link</th>\n",
       "      <th>displayed_link</th>\n",
       "      <th>highlighs</th>\n",
       "    </tr>\n",
       "  </thead>\n",
       "  <tbody>\n",
       "    <tr>\n",
       "      <th>0</th>\n",
       "      <td>0</td>\n",
       "      <td>Larsen &amp; Toubro (@larsentoubro) / ...</td>\n",
       "      <td>The official Larsen &amp; Toubro Corporate handle....</td>\n",
       "      <td>https://twitter.com/larsentoubro</td>\n",
       "      <td>https://twitter.com › larsentoubro</td>\n",
       "      <td>NaN</td>\n",
       "    </tr>\n",
       "    <tr>\n",
       "      <th>1</th>\n",
       "      <td>1</td>\n",
       "      <td>L&amp;T Technology Services (LTTS) (@LnTTechservic...</td>\n",
       "      <td>We are a global leader in Engineering and R&amp;D ...</td>\n",
       "      <td>https://twitter.com/LnTTechservices</td>\n",
       "      <td>https://twitter.com › LnTTechservices</td>\n",
       "      <td>NaN</td>\n",
       "    </tr>\n",
       "    <tr>\n",
       "      <th>2</th>\n",
       "      <td>2</td>\n",
       "      <td>Financial Express</td>\n",
       "      <td>@larsentoubro. ) announced that its Hydrocarbo...</td>\n",
       "      <td>https://twitter.com/FinancialXpress/status/176...</td>\n",
       "      <td>https://twitter.com › FinancialXpress › status</td>\n",
       "      <td>['larsentoubro']</td>\n",
       "    </tr>\n",
       "    <tr>\n",
       "      <th>3</th>\n",
       "      <td>3</td>\n",
       "      <td>Financial Express</td>\n",
       "      <td>@larsentoubro. ) announced that it has bagged ...</td>\n",
       "      <td>https://twitter.com/FinancialXpress/status/176...</td>\n",
       "      <td>https://twitter.com › FinancialXpress › status</td>\n",
       "      <td>['larsentoubro']</td>\n",
       "    </tr>\n",
       "    <tr>\n",
       "      <th>4</th>\n",
       "      <td>4</td>\n",
       "      <td>Financial Express</td>\n",
       "      <td>@larsentoubro. ) announced that its Hydrocarbo...</td>\n",
       "      <td>https://twitter.com/FinancialXpress/status/175...</td>\n",
       "      <td>https://twitter.com › FinancialXpress › status</td>\n",
       "      <td>['larsentoubro']</td>\n",
       "    </tr>\n",
       "    <tr>\n",
       "      <th>5</th>\n",
       "      <td>5</td>\n",
       "      <td>CNBC-TV18</td>\n",
       "      <td>@larsentoubro. ) slumps after news reports sug...</td>\n",
       "      <td>https://twitter.com/CNBCTV18News/status/175944...</td>\n",
       "      <td>https://twitter.com › status</td>\n",
       "      <td>['larsentoubro']</td>\n",
       "    </tr>\n",
       "  </tbody>\n",
       "</table>\n",
       "</div>"
      ],
      "text/plain": [
       "   position                                              title  \\\n",
       "0         0              Larsen & Toubro (@larsentoubro) / ...   \n",
       "1         1  L&T Technology Services (LTTS) (@LnTTechservic...   \n",
       "2         2                                  Financial Express   \n",
       "3         3                                  Financial Express   \n",
       "4         4                                  Financial Express   \n",
       "5         5                                          CNBC-TV18   \n",
       "\n",
       "                                             snippet  \\\n",
       "0  The official Larsen & Toubro Corporate handle....   \n",
       "1  We are a global leader in Engineering and R&D ...   \n",
       "2  @larsentoubro. ) announced that its Hydrocarbo...   \n",
       "3  @larsentoubro. ) announced that it has bagged ...   \n",
       "4  @larsentoubro. ) announced that its Hydrocarbo...   \n",
       "5  @larsentoubro. ) slumps after news reports sug...   \n",
       "\n",
       "                                                link  \\\n",
       "0                   https://twitter.com/larsentoubro   \n",
       "1                https://twitter.com/LnTTechservices   \n",
       "2  https://twitter.com/FinancialXpress/status/176...   \n",
       "3  https://twitter.com/FinancialXpress/status/176...   \n",
       "4  https://twitter.com/FinancialXpress/status/175...   \n",
       "5  https://twitter.com/CNBCTV18News/status/175944...   \n",
       "\n",
       "                                   displayed_link         highlighs  \n",
       "0              https://twitter.com › larsentoubro               NaN  \n",
       "1           https://twitter.com › LnTTechservices               NaN  \n",
       "2  https://twitter.com › FinancialXpress › status  ['larsentoubro']  \n",
       "3  https://twitter.com › FinancialXpress › status  ['larsentoubro']  \n",
       "4  https://twitter.com › FinancialXpress › status  ['larsentoubro']  \n",
       "5                    https://twitter.com › status  ['larsentoubro']  "
      ]
     },
     "execution_count": 2,
     "metadata": {},
     "output_type": "execute_result"
    }
   ],
   "source": [
    "# Load sample IMDb reviews csv, having ~6 movie reviews, along with their IMDb rating\n",
    "import pandas as pd\n",
    "sample_reviews = pd.read_csv(\"twitter_LT.csv\")\n",
    "\n",
    "sample_reviews.head(6)"
   ]
  },
  {
   "cell_type": "code",
   "execution_count": 3,
   "metadata": {},
   "outputs": [
    {
     "data": {
      "text/html": [
       "<div>\n",
       "<style scoped>\n",
       "    .dataframe tbody tr th:only-of-type {\n",
       "        vertical-align: middle;\n",
       "    }\n",
       "\n",
       "    .dataframe tbody tr th {\n",
       "        vertical-align: top;\n",
       "    }\n",
       "\n",
       "    .dataframe thead th {\n",
       "        text-align: right;\n",
       "    }\n",
       "</style>\n",
       "<table border=\"1\" class=\"dataframe\">\n",
       "  <thead>\n",
       "    <tr style=\"text-align: right;\">\n",
       "      <th></th>\n",
       "      <th>position</th>\n",
       "      <th>title</th>\n",
       "      <th>snippet</th>\n",
       "      <th>link</th>\n",
       "      <th>displayed_link</th>\n",
       "      <th>highlighs</th>\n",
       "    </tr>\n",
       "  </thead>\n",
       "  <tbody>\n",
       "    <tr>\n",
       "      <th>8</th>\n",
       "      <td>8</td>\n",
       "      <td>L&amp;T Technology Services (LTTS) on X: \"Get read...</td>\n",
       "      <td>NaN</td>\n",
       "      <td>https://twitter.com/LnTTechservices/status/175...</td>\n",
       "      <td>https://twitter.com › LnTTechservices › status...</td>\n",
       "      <td>NaN</td>\n",
       "    </tr>\n",
       "  </tbody>\n",
       "</table>\n",
       "</div>"
      ],
      "text/plain": [
       "   position                                              title snippet  \\\n",
       "8         8  L&T Technology Services (LTTS) on X: \"Get read...     NaN   \n",
       "\n",
       "                                                link  \\\n",
       "8  https://twitter.com/LnTTechservices/status/175...   \n",
       "\n",
       "                                      displayed_link highlighs  \n",
       "8  https://twitter.com › LnTTechservices › status...       NaN  "
      ]
     },
     "execution_count": 3,
     "metadata": {},
     "output_type": "execute_result"
    }
   ],
   "source": [
    "sample_reviews[sample_reviews['snippet'].isnull()]"
   ]
  },
  {
   "cell_type": "code",
   "execution_count": 4,
   "metadata": {},
   "outputs": [],
   "source": [
    "sample_reviews=sample_reviews[~sample_reviews['snippet'].isnull()]"
   ]
  },
  {
   "cell_type": "code",
   "execution_count": 5,
   "metadata": {},
   "outputs": [],
   "source": [
    "unseen_reviews = sample_reviews['snippet']\n",
    "from b2_preprocessing_function import CustomPreprocess\n",
    "custom=CustomPreprocess()\n",
    "\n",
    "# Assuming unseen_reviews is your DataFrame column with text data\n",
    "unseen_processed = []\n",
    "\n",
    "for review in unseen_reviews:\n",
    "    # Check if review is a string, if not, convert it to a string\n",
    "    if isinstance(review, str):\n",
    "        review = custom.preprocess_text(review)\n",
    "    else:\n",
    "        review = str(review)  # Convert non-string values to string\n",
    "        review = custom.preprocess_text(review)\n",
    "    unseen_processed.append(review)\n"
   ]
  },
  {
   "cell_type": "code",
   "execution_count": 6,
   "metadata": {
    "scrolled": true,
    "tags": []
   },
   "outputs": [
    {
     "data": {
      "text/plain": [
       "['official larsen toubro corporate handle follow us latest news announcements upcoming events ',\n",
       " 'global leader engineering er services visit https co nu q information engineeringthechange ',\n",
       " ' larsentoubro announced hydrocarbon vertical secured significant order ongc mhn tcpp pgc bgc project mtpbp ',\n",
       " ' larsentoubro announced bagged major contract ministry defence government india supply high ',\n",
       " ' larsentoubro announced hydrocarbon vertical secured onshore order offshore order prestigious client ',\n",
       " ' larsentoubro slumps news reports suggest saudi aramco defers bid process bn orders safaniyah oilfield projects ',\n",
       " 'larsen toubro indian multinational engaged epc projects commissioned first indigenously manufactured electrolyser ',\n",
       " 'cnbctv market shares larsen toubro larsentoubro fell fy revenue beat street estimates lower expected ',\n",
       " 'every step larsentoubro brings mumbai spirit life lntseabridgemarathon readytorun stridesformumbai ',\n",
       " 'larsen toubro commissions first indigenously manufactured hydrogenelectrolyser hazira gujarat larsentoubro ',\n",
       " ' larsentoubro saved modeling time reducing foundation size precisely fitting treatment plant minimize carbon ',\n",
       " ' larsentoubro announced hydrocarbon vertical recently secured large onshore project indianoil adani ventures limited ',\n",
       " 'log sign conversation france hydrog ne francehydrogene larsentoubro ',\n",
       " 'earnings et reports results key highlights larsentoubro iamankitas sanjiv bhasin ',\n",
       " ' larsentoubro wins orders middle east hydrocarbon business indianchemicalnews com feb views ',\n",
       " 'mou signed vadm sandeep naithani chief materiel indiannavy mr jayant patil whole time director larsentoubro collaborate ',\n",
       " 'congratulations larsentoubro securing prestigious project gmr visakhapatnam international airport limited ',\n",
       " ' larsentoubro race mega deal saudiaramco nearing billion tender decision world largest offshore oilfield ',\n",
       " ' larsentoubro reported mixed fy numbers order inflow strong core margin remained muted mgmt tells cnbc tv ',\n",
       " 'larsen commisions hydrogen electrolyser hazira agencies larsentoubro image mar ',\n",
       " ' larsentoubro signed contract worth usd billion usd billion project middle east oilandgas ',\n",
       " ' larsentoubro said hydrocarbon business energy hydrocarbon lteh received letter intent mega offshore order ',\n",
       " ' larsentoubro ihi tatacompanies mmrdaofficial inaugurating india longest sea bridge atal setu mumbai trans harbour ',\n",
       " ' larsentoubro pressure back mixed fy numbers co sees strong order inflow rs crore margin comes ',\n",
       " 'larsentoubro rachitaprasad yaruqh l ltd exceed revenue order inflow targets due strong order momentum ',\n",
       " 'l profit tax grows rs cr december quarter larsentoubro india business larsentoubroresults ',\n",
       " ' advanced distribution management system agencies larsentoubro construction power stockmarket image mar ',\n",
       " ' larsentoubro said hydrocarbon business energy hydrocarbon lteh secured letter intent yet another ultra mega ',\n",
       " 'great host larsentoubro ceo mr sns team cohesity recently ton respect growing days ',\n",
       " ' within four months compared months using traditional methods larsentoubro infrastructure image pm dec ',\n",
       " ' larsentoubro focus positive mgmt commentary well track exceed order inflow fy guidance says co ',\n",
       " ' larsentoubro procurement close weapon system rs cr procurement high power radar rs cr ',\n",
       " ' larsentoubro digitise operations reskill workforce asked ceo md n subrahmanyan listen podcast https econ st ',\n",
       " ' shankar raman also speaks margins legacy projects larsentoubro stockmarket embedded video pm jan ',\n",
       " ' larsentoubro said shri ram janmbhoomi mandir boasts dimensions feet height feet length feet width ',\n",
       " ' larsentoubro using tech empower employees across businesses futureready improving overall efficiency productivity ',\n",
       " ' larsentoubro awarded million fms contract navy anchor handling towing supply standby vessel ahtssv ',\n",
       " ' larsentoubro yaruqh rachitaprasad larsenandtoubro budget government shown continuity policy confidence ',\n",
       " ' set benchmark india newest landmark atal setu sewri feel mumbai spirit like never larsentoubro ',\n",
       " 'log sign conversation square profile picture microsoft india microsoftindia larsentoubro ',\n",
       " ' larsentoubro construction bags significant order buildings factories business financialexpress com feb ',\n",
       " 'log sign conversation nhsrcl nhsrcl nhsrcl signed contract agreement larsentoubro ',\n",
       " ' larsentoubro aims return equity fy end expect margin start normalising exit asset heavy businesses ',\n",
       " ' larsentoubro constructioncompany telegraphindia com larsen toubro bags multiple contracts worth rs crore middle east ',\n",
       " ' larsentoubro bullettrain mahsr https businessinsider india news lt bags order bullet train project articleshow cms ',\n",
       " ' director chairperson company know click https bit ly ijeiai larsentoubro image mar reposts likes ',\n",
       " ' larsentoubro achieving million safe man hours chennai airport modernisation phase ii reflects zero harm culture ',\n",
       " ' larsentoubro design construction km approx viaduct distance includes hsr station vadodara mahsr ',\n",
       " 'larsentoubro dear larsentoubro compound events climatechange heavy rains rising sea levels cyclones part ',\n",
       " ' solid tailwinds listen nikunjdalmia analysis company performance larsentoubro embedded video nov ',\n",
       " 'l construction said buildings factories f business bagged significant order india oman larsentoubro ',\n",
       " ' larsentoubro hcgcancercare sharing thoughts rapid adoption technology continuing accelerate ',\n",
       " ' larsentoubro smart world communications committed leverage latest tech innovations iot area network trial ',\n",
       " ' larsentoubro expect benefits commodity softness trickle track achieve targets laid lakshya exit ',\n",
       " ' onetnow subramanian sarma larsen toubro says energy shift gamechanger company larsentoubro ',\n",
       " ' larsentoubro dedication expertise contributing monumental project jm scindia fskulaste steelminindia ',\n",
       " ' breaks numbers us stockstowatch stockmarket larsentoubro liza fdes embedded video pm jan ',\n",
       " 'log sign conversation marisha thakur marishathakur cambridge layout post office plot larsentoubro quote marisha thakur ',\n",
       " 'writes expect result earnings preview larsentoubro moneycontrol com preview better execution boost ',\n",
       " ' hardware produced facility coimbatore larsentoubro pmoindia cmotamilnadu pm jul views reposts ',\n",
       " ' investment cycle india writes larsentoubro naik read bqopinion https bit ly zgoi image jan ',\n",
       " ' larsentoubro passavant tour coronation pillar sewage treatment plant plant treat delhi wastewater ',\n",
       " ' larsentoubro marked beginning long association amul milkmanofindia deshkadoodhwala nationalmilkday ',\n",
       " ' larsentoubro sudarshan merely lowest rung air defence ladder mrsam akash spyder srsam ',\n",
       " ' larsentoubro aug mission accomplished congratulations team isro achieving successful soft landing lunar surface proud ',\n",
       " 'five mega deals worth rs crore signed defence ministry halhqblr larsentoubro brahmosmissile defenceminindia ',\n",
       " ' larsentoubro get given mazagondockltd already get extra scorpene build also upgrade older scorpene ',\n",
       " ' larsentoubro group advisor kuldip goel offering congratulations achievement uplifting support motivates us ',\n",
       " ' larsentoubro also interviewed force building ram temple structure built last yrs beyond beats ',\n",
       " 'aryan warlord larsentoubro mazagondockltd drdo india l already building nuke subs line never going die due ',\n",
       " ' delhi join isuw partner energy company seeks global connections larsentoubro image mar views reposts ',\n",
       " ' lace running shoes iconic marathon yet larsentoubro proud sponsor upcoming lntseabridgemarathon india longest ',\n",
       " ' larsentoubro recently commissioned first domestically manufactured electrolyzer green hydrogen plant hazira gujarat ',\n",
       " 'shri n subrahmanyan chairman managing director larsen toubro larsentoubro calls smt nsitharaman ',\n",
       " ' larsentoubro mmrdaofficial cci india sponsors important platform game power power women tennis ',\n",
       " ' larsentoubro mmrdaofficial cci india sponsors finals chief patron wta presented winners trophy darja ',\n",
       " ' larsentoubro https businessworld article light tank project realized says top official image ',\n",
       " ' larsentoubro skilling youth state andhrapradesh registration link https forms gle tsxmcmrzeaqpuibl http ',\n",
       " 'kengeri suburban rail likely ready kengeri passengers shift airport suburban line ksr bengaluru city ',\n",
       " ' larsentoubro insult snails corridors tenders yet awarded starting countdown clock make concerned ',\n",
       " 'larsentoubro many thanks seasons greetings wishing families merry christmas happy new year ',\n",
       " ' larsentoubro shipyard chennai discuss industrial defence collaboration modern shipbuilding techniques maritime ',\n",
       " ' auction mnreindia ohmium inc advaitinfra larsentoubro epower image last editedopens edit history pm jan ',\n",
       " ' larsentoubro arm developing flying taxis order upto co http toi fdyxz gk via timesofindia ',\n",
       " ' engineersind larsentoubro achieving incredible engineering feat pm oct views reposts ',\n",
       " ' larsentoubro dcmshriramltd nationalforces unwomenindia unicefindia pallavi shailaja csr india ',\n",
       " 'thank mumbai showing us true spirit lntseabridgemarathon stridesformumbai larsentoubro image feb views ',\n",
       " 'kesaridhwaj hukum larsentoubro could also look leveraging older barak batteries come ships ',\n",
       " 'log sign conversation vascsc vascsc larsentoubro dsurkar aifoundation vascscisme vascsc scshop dec ',\n",
       " 'l focus acwa power awards co engineering procurement construction contract al kahfah solar plant larsentoubro ',\n",
       " ' optimal sustainability save spot https go aws pydtn delltech capgeminiindia larsentoubro image pm oct ',\n",
       " ' larsentoubro sep occasion engineersday pays tribute spirit engineering one us celebratingengineers ',\n",
       " ' larsentoubro ltgreenhydrogenplant electrolysermanufacturing sustainableenergysolutions domesticproduction gujaratexpansion ',\n",
       " ' chief guest also laid keel th asw swc ship aatmanirbharbharat officialgrse larsentoubro image ',\n",
       " ' larsentoubro reports yoy increase net profit crore fy compared cnbc tv poll crore ',\n",
       " ' larsentoubro team several projects tanzania water power sectors image india tanzania others ',\n",
       " ' railminindia ashwinivaishnaw mbpatil swrrly kfw fz int larsentoubro embedded video pm feb ',\n",
       " ' larsentoubro gogamukh dhemaji built cost cr centre provide skilling placement services registered construction workers ',\n",
       " 'love trust key words relationship friendship larsentoubro bridge past future scale skills ']"
      ]
     },
     "execution_count": 6,
     "metadata": {},
     "output_type": "execute_result"
    }
   ],
   "source": [
    "unseen_processed"
   ]
  },
  {
   "cell_type": "code",
   "execution_count": 7,
   "metadata": {},
   "outputs": [],
   "source": [
    "from keras_preprocessing.text import tokenizer_from_json"
   ]
  },
  {
   "cell_type": "code",
   "execution_count": 8,
   "metadata": {},
   "outputs": [],
   "source": [
    "# Loading\n",
    "import json\n",
    "with open('b3_tokenizer.json') as f:\n",
    "    data = json.load(f)\n",
    "    loaded_tokenizer = tokenizer_from_json(data)"
   ]
  },
  {
   "cell_type": "code",
   "execution_count": 9,
   "metadata": {
    "id": "A8Ln84UfVZhz"
   },
   "outputs": [],
   "source": [
    "# Tokenising instance with earlier trained tokeniser\n",
    "unseen_tokenized = loaded_tokenizer.texts_to_sequences(unseen_processed)"
   ]
  },
  {
   "cell_type": "code",
   "execution_count": 10,
   "metadata": {
    "scrolled": true,
    "tags": []
   },
   "outputs": [
    {
     "data": {
      "text/plain": [
       "[[1300, 65649, 5522, 1790, 144, 105, 1610, 321, 10018, 3738, 2535],\n",
       " [3023, 5073, 9534, 1507, 3432, 541, 371, 289, 3907, 2485, 3020],\n",
       " [4088, 15841, 16470, 10114, 841, 281528, 130123, 294985, 74398, 772],\n",
       " [4088, 20592, 1116, 2989, 9404, 18948, 4534, 2302, 5093, 471],\n",
       " [4088, 15841, 16470, 158690, 841, 24430, 841, 84296, 1774],\n",
       " [56482, 321, 2378, 3119, 9714, 31835, 5844, 2223, 6416, 3961, 128708, 2543],\n",
       " [65649, 3169, 289574, 7227, 51263, 2543, 42529, 88, 46138],\n",
       " [442058, 1237, 3002, 65649, 661, 9962, 4700, 771, 1064, 12331, 2947, 1860],\n",
       " [277, 1405, 2225, 6510, 2707, 91],\n",
       " [65649, 24835, 88, 46138, 134454],\n",
       " [2033, 9215, 14, 26329, 6302, 1545, 11516, 6559, 5333, 3070, 17354, 9978],\n",
       " [4088, 15841, 1802, 16470, 2354, 158690, 772, 178272, 18244, 3299],\n",
       " [2141, 785, 2309, 1142, 2468],\n",
       " [3453, 4379, 2378, 1207, 1642, 5005],\n",
       " [2154, 3961, 1091, 1756, 792, 17, 6730, 3955],\n",
       " [49967, 1600, 389499, 7004, 573, 467960, 317, 14, 5431, 25514],\n",
       " [1118, 45793, 84296, 772, 88774, 3071, 739, 3299],\n",
       " [1234, 3339, 850, 13602, 3578, 11187, 2422, 196, 8542, 24430, 128708],\n",
       " [8486,\n",
       "  2808,\n",
       "  9962,\n",
       "  2581,\n",
       "  841,\n",
       "  1370,\n",
       "  4127,\n",
       "  22780,\n",
       "  25440,\n",
       "  25059,\n",
       "  8937,\n",
       "  2834,\n",
       "  22957,\n",
       "  288],\n",
       " [65649, 305198, 17606, 15481, 2273, 6681],\n",
       " [1600, 2989, 613, 8079, 3578, 8079, 3578, 772, 1091, 1756],\n",
       " [192, 792, 1146, 2056, 2217, 13323, 3339, 24430, 841],\n",
       " [167129, 2302, 2657, 1888, 3046, 149059, 201755, 6510, 13184, 9717],\n",
       " [2682, 15, 2808, 9962, 2581, 289, 4266, 1370, 841, 4472, 33783, 22780, 526],\n",
       " [1077, 11962, 21788, 4700, 841, 12718, 678, 1370, 841, 13370],\n",
       " [1077, 6657, 3039, 7980, 4472, 5638, 3512, 3519, 2302, 792],\n",
       " [6378, 13945, 3477, 1387, 15481, 5309, 747, 11183, 2273, 6681],\n",
       " [192, 792, 1146, 16470, 2217, 13323, 123, 109, 7244, 3339],\n",
       " [40, 2816, 4438, 573, 34151, 639, 1802, 2640, 2886, 1987, 72],\n",
       " [2153, 1137, 514, 3990, 514, 403, 8280, 10749, 24550, 2273, 336, 5363],\n",
       " [2165, 1276, 8937, 6494, 25, 1209, 21788, 841, 9962, 9172, 304, 289],\n",
       " [52262, 551, 11281, 1387, 4472, 5638, 52262, 471, 747, 6839, 4472, 5638],\n",
       " [14749, 46550, 925, 4438, 4119, 899, 548, 2704, 371, 10667, 385],\n",
       " [119809, 94525, 165, 7993, 27424, 9294, 2543, 11183, 18870, 275, 336, 4728],\n",
       " [192, 92853, 4062, 103900, 39381, 825, 9823, 825, 7077, 825, 30568],\n",
       " [403, 1826, 42852, 7257, 1598, 9115, 8835, 3969, 23403, 7200],\n",
       " [25140, 1471, 31217, 2989, 5755, 15674, 9646, 33057, 5093, 11996, 35219],\n",
       " [3103, 4534, 5051, 34712, 5550, 5585],\n",
       " [512, 19665, 2302, 4433, 17949, 149059, 201755, 42, 6510, 2707, 4, 82],\n",
       " [2141, 785, 2309, 2763, 869, 401, 2547, 2302],\n",
       " [5309, 2523, 10114, 841, 12224, 35129, 792, 17, 6730],\n",
       " [2141, 785, 2309, 1600, 2989, 9839],\n",
       " [19874, 1306, 10957, 9962, 249, 1638, 22780, 169, 6309, 14650, 1656, 9115],\n",
       " [17, 65649, 2523, 3495, 9748, 613, 4472, 33783, 1091, 1756],\n",
       " [330414, 371, 2302, 321, 77, 2523, 841, 7885, 468, 772, 10692],\n",
       " [5431, 857, 18, 1550, 371, 55, 116, 2273, 6681, 149939, 1233],\n",
       " [26602, 1471, 749, 113, 124, 9679, 739, 5740, 1963, 24961, 2893, 9373, 4796],\n",
       " [1226, 5309, 3102, 10378, 63505, 3608, 6759, 401386, 1351, 485689],\n",
       " [505, 31973, 2535, 123523, 1656, 2567, 6232, 1888, 4020, 476017, 395],\n",
       " [3677, 68379, 548, 6691, 857, 1853, 18870, 275, 4586],\n",
       " [1077, 5309, 192, 12224, 35129, 1481, 792, 20592, 10114, 841, 2302, 31163],\n",
       " [1480, 1081, 17150, 10778, 2668, 7947, 50343],\n",
       " [1574, 196, 11432, 8900, 18330, 1610, 1826, 47410, 66842, 1244, 1808, 4606],\n",
       " [1638, 6323, 22900, 176860, 61677, 1209, 9408, 12718, 3324, 6309],\n",
       " [65649, 304, 1146, 1345, 857],\n",
       " [8481, 21620, 20169, 49314, 772, 7798],\n",
       " [2426, 2581, 105, 11183, 19334, 18870, 275, 336, 4728],\n",
       " [2141, 785, 2309, 57586, 7847, 3006, 330, 374, 5735, 1753, 57586],\n",
       " [7790, 1638, 2219, 3453, 2749, 241720, 17, 2749, 61, 23326, 5319],\n",
       " [6083, 11057, 11006, 168845, 336, 21041, 3955, 149939],\n",
       " [5862, 4346, 2302, 7790, 52399, 217, 371, 55, 116, 2273, 4728],\n",
       " [532, 25372, 40161, 25347, 5333, 3070, 3070, 2209, 6215, 201269],\n",
       " [10232, 1745, 86, 11840, 504542],\n",
       " [15829, 11133, 26512, 580, 18948, 13320, 165775, 451972, 67738],\n",
       " [4388, 2391, 3777, 1118, 639, 26602, 2997, 2907, 7306, 40350, 10477, 803],\n",
       " [1220, 3339, 6222, 613, 4472, 33783, 1600, 18948, 9404],\n",
       " [3, 1582, 108, 3, 965, 2334, 165, 1761, 1800],\n",
       " [931, 16522, 451551, 5977, 1118, 8811, 13333, 717, 27231, 105],\n",
       " [165, 8703, 2598, 1723, 4062, 6692, 12256, 3503, 35, 1636, 2115, 2265],\n",
       " [91706, 83933, 2302, 1077, 108, 1723, 32221, 8048, 694, 82, 11, 715, 678],\n",
       " [6215, 698, 2917, 1146, 857, 27113, 3023, 7553, 2273, 6681, 3955, 149939],\n",
       " [9785, 494, 777, 14709, 1504, 123, 803, 8472, 3738, 2302, 2657],\n",
       " [1802, 42529, 88, 85396, 46138, 632, 17606, 3070, 134454],\n",
       " [92853, 899, 12729, 10194, 5431, 65649, 1200, 42448],\n",
       " [514165, 2302, 14891, 1288, 6397, 189, 747, 747, 1454, 1732],\n",
       " [514165, 2302, 14891, 767, 7004, 7247, 65850, 12782, 4880, 8868],\n",
       " [371, 1475, 896, 3146, 772, 856, 304, 497, 1300, 2273],\n",
       " [152019, 2948, 1144, 7130, 452, 371, 5066, 88044, 7],\n",
       " [24078, 10233, 2000, 117, 6136, 1345, 739, 24078, 694, 363708, 126686, 480],\n",
       " [9599, 18862, 113985, 30739, 123, 25140, 448, 3670, 1670, 54, 4421],\n",
       " [208, 30, 4249, 4149, 603, 3462, 9421, 2799, 50, 26, 150],\n",
       " [112129, 9679, 4814, 10576, 18948, 15816, 4965, 13767, 38149],\n",
       " [6005, 2713, 2273, 35, 2924, 911, 336, 4728],\n",
       " [1458, 7260, 1436, 31564, 841, 8745, 289, 7, 12599, 7972, 600],\n",
       " [26602, 2470, 9534, 7337, 336, 7019, 3955, 149939],\n",
       " [94779, 62379, 56093, 2302],\n",
       " [81, 6510, 1263, 105, 335, 2707, 2273, 6730, 3955],\n",
       " [66, 165, 122, 82384, 1800, 326313, 5771, 53, 9909],\n",
       " [2141, 785, 2309, 5363],\n",
       " [1077, 2165, 747, 594, 289, 9534, 52262, 5309, 2989, 1758, 7683, 3070],\n",
       " [44653, 31479, 787, 1498, 371, 5, 26928, 2273, 336, 7019],\n",
       " [17540, 9519, 5929, 7920, 2707, 9534, 16, 105],\n",
       " [],\n",
       " [7004, 3000, 165, 3324, 27867, 177, 137196, 65924, 2936, 2273],\n",
       " [2378, 27373, 6219, 964, 6657, 33783, 9962, 3990, 22957, 288, 6306, 33783],\n",
       " [639, 2248, 2543, 27681, 539, 747, 81425, 2273, 2302, 27681, 980],\n",
       " [134217, 20027, 7813, 18870, 275, 336, 6730],\n",
       " [3503, 1827, 5638, 3789, 5852, 152019, 8241, 3432, 5293, 5309, 4951],\n",
       " [10, 1373, 1642, 691, 2950, 4418, 3046, 617, 1037, 7204, 2700]]"
      ]
     },
     "execution_count": 10,
     "metadata": {},
     "output_type": "execute_result"
    }
   ],
   "source": [
    "unseen_tokenized"
   ]
  },
  {
   "cell_type": "code",
   "execution_count": 11,
   "metadata": {},
   "outputs": [],
   "source": [
    "# Pooling instance to have maxlength of 30 tokens\n",
    "from keras.preprocessing.sequence import pad_sequences\n",
    "unseen_padded = pad_sequences(unseen_tokenized, padding='post', maxlen=30)"
   ]
  },
  {
   "cell_type": "code",
   "execution_count": 12,
   "metadata": {},
   "outputs": [
    {
     "data": {
      "text/plain": [
       "array([[  1300,  65649,   5522, ...,      0,      0,      0],\n",
       "       [  3023,   5073,   9534, ...,      0,      0,      0],\n",
       "       [  4088,  15841,  16470, ...,      0,      0,      0],\n",
       "       ...,\n",
       "       [134217,  20027,   7813, ...,      0,      0,      0],\n",
       "       [  3503,   1827,   5638, ...,      0,      0,      0],\n",
       "       [    10,   1373,   1642, ...,      0,      0,      0]], dtype=int32)"
      ]
     },
     "execution_count": 12,
     "metadata": {},
     "output_type": "execute_result"
    }
   ],
   "source": [
    "unseen_padded"
   ]
  },
  {
   "cell_type": "code",
   "execution_count": 13,
   "metadata": {
    "colab": {
     "base_uri": "https://localhost:8080/"
    },
    "executionInfo": {
     "elapsed": 1414,
     "status": "ok",
     "timestamp": 1658856288539,
     "user": {
      "displayName": "Skillcate Education",
      "userId": "11062674699417926870"
     },
     "user_tz": -330
    },
    "id": "4bh5LsCZhy7r",
    "outputId": "87d6340e-29bd-414c-d3cc-f04578af1783"
   },
   "outputs": [
    {
     "name": "stderr",
     "output_type": "stream",
     "text": [
      "2024-03-24 10:59:57.102832: I tensorflow/core/grappler/optimizers/custom_graph_optimizer_registry.cc:114] Plugin optimizer for device_type GPU is enabled.\n"
     ]
    },
    {
     "name": "stdout",
     "output_type": "stream",
     "text": [
      "4/4 [==============================] - 1s 18ms/step\n"
     ]
    },
    {
     "name": "stderr",
     "output_type": "stream",
     "text": [
      "2024-03-24 10:59:58.063186: I tensorflow/core/grappler/optimizers/custom_graph_optimizer_registry.cc:114] Plugin optimizer for device_type GPU is enabled.\n"
     ]
    },
    {
     "name": "stdout",
     "output_type": "stream",
     "text": [
      "4/4 [==============================] - 1s 145ms/step\n"
     ]
    },
    {
     "name": "stderr",
     "output_type": "stream",
     "text": [
      "2024-03-24 10:59:59.392103: I tensorflow/core/grappler/optimizers/custom_graph_optimizer_registry.cc:114] Plugin optimizer for device_type GPU is enabled.\n",
      "2024-03-24 10:59:59.534806: I tensorflow/core/grappler/optimizers/custom_graph_optimizer_registry.cc:114] Plugin optimizer for device_type GPU is enabled.\n",
      "2024-03-24 10:59:59.611750: I tensorflow/core/grappler/optimizers/custom_graph_optimizer_registry.cc:114] Plugin optimizer for device_type GPU is enabled.\n"
     ]
    },
    {
     "name": "stdout",
     "output_type": "stream",
     "text": [
      "4/4 [==============================] - 2s 236ms/step\n"
     ]
    }
   ],
   "source": [
    "# Passing tokenised instance to the LSTM model for predictions\n",
    "unseen_sentiments_snn = pretrained_snn_model.predict(unseen_padded)\n",
    "\n",
    "unseen_sentiments_cnn = pretrained_cnn_model.predict(unseen_padded)\n",
    "\n",
    "unseen_sentiments_lstm = pretrained_lstm_model.predict(unseen_padded)"
   ]
  },
  {
   "cell_type": "code",
   "execution_count": 14,
   "metadata": {
    "scrolled": true,
    "tags": []
   },
   "outputs": [
    {
     "data": {
      "text/plain": [
       "array([[9.9999940e-01],\n",
       "       [9.9973410e-01],\n",
       "       [9.9992347e-01],\n",
       "       [5.4984572e-05],\n",
       "       [8.5752362e-01],\n",
       "       [8.4617537e-01],\n",
       "       [9.9928170e-01],\n",
       "       [9.4250163e-09],\n",
       "       [9.7778475e-01],\n",
       "       [9.9909806e-01],\n",
       "       [3.1686902e-01],\n",
       "       [1.0811734e-07],\n",
       "       [3.6157059e-04],\n",
       "       [3.2758158e-01],\n",
       "       [9.9979931e-01],\n",
       "       [9.4731911e-07],\n",
       "       [9.9424946e-01],\n",
       "       [9.9999356e-01],\n",
       "       [9.9999702e-01],\n",
       "       [9.9998486e-01],\n",
       "       [6.2555663e-02],\n",
       "       [1.3292804e-02],\n",
       "       [9.9999750e-01],\n",
       "       [9.9997306e-01],\n",
       "       [4.2312969e-02],\n",
       "       [8.4397294e-07],\n",
       "       [3.8027018e-03],\n",
       "       [1.3786045e-07],\n",
       "       [9.9999571e-01],\n",
       "       [9.9999917e-01],\n",
       "       [1.1259439e-04],\n",
       "       [9.9999976e-01],\n",
       "       [1.8068112e-02],\n",
       "       [9.9983072e-01],\n",
       "       [9.9999988e-01],\n",
       "       [1.0000000e+00],\n",
       "       [7.4797696e-01],\n",
       "       [9.9550700e-01],\n",
       "       [1.0000000e+00],\n",
       "       [9.3890643e-01],\n",
       "       [9.9503541e-01],\n",
       "       [9.9998319e-01],\n",
       "       [7.6095927e-01],\n",
       "       [4.8172282e-05],\n",
       "       [9.9614114e-01],\n",
       "       [4.8279185e-03],\n",
       "       [9.9990487e-01],\n",
       "       [9.9999785e-01],\n",
       "       [3.4795641e-05],\n",
       "       [9.9999905e-01],\n",
       "       [2.4345849e-01],\n",
       "       [9.9805558e-01],\n",
       "       [9.9961567e-01],\n",
       "       [2.2932429e-04],\n",
       "       [9.9883264e-01],\n",
       "       [9.9997973e-01],\n",
       "       [9.9807417e-01],\n",
       "       [9.9780792e-01],\n",
       "       [8.9827389e-01],\n",
       "       [9.9069744e-01],\n",
       "       [5.0515240e-01],\n",
       "       [9.9999070e-01],\n",
       "       [8.8754964e-01],\n",
       "       [9.9910849e-01],\n",
       "       [8.8221884e-01],\n",
       "       [9.9427420e-01],\n",
       "       [9.1064044e-07],\n",
       "       [1.0000000e+00],\n",
       "       [1.7337905e-02],\n",
       "       [9.9999630e-01],\n",
       "       [9.9754554e-01],\n",
       "       [1.0141860e-02],\n",
       "       [9.9999607e-01],\n",
       "       [2.3945898e-07],\n",
       "       [9.9949002e-01],\n",
       "       [9.9999976e-01],\n",
       "       [9.9938262e-01],\n",
       "       [2.4266372e-02],\n",
       "       [9.5488799e-01],\n",
       "       [5.7744776e-04],\n",
       "       [4.7399220e-01],\n",
       "       [9.8466474e-01],\n",
       "       [9.9999058e-01],\n",
       "       [2.0253880e-01],\n",
       "       [9.9896967e-01],\n",
       "       [9.9802184e-01],\n",
       "       [8.8006547e-03],\n",
       "       [9.9806172e-01],\n",
       "       [9.9908400e-01],\n",
       "       [9.9999797e-01],\n",
       "       [3.5715161e-07],\n",
       "       [9.8651659e-01],\n",
       "       [9.8481548e-01],\n",
       "       [9.4879597e-01],\n",
       "       [2.2700840e-01],\n",
       "       [9.9820638e-01],\n",
       "       [9.9999976e-01],\n",
       "       [1.3232822e-04],\n",
       "       [9.9562871e-01]], dtype=float32)"
      ]
     },
     "execution_count": 14,
     "metadata": {},
     "output_type": "execute_result"
    }
   ],
   "source": [
    "unseen_sentiments_lstm"
   ]
  },
  {
   "cell_type": "code",
   "execution_count": 15,
   "metadata": {
    "colab": {
     "base_uri": "https://localhost:8080/",
     "height": 238
    },
    "executionInfo": {
     "elapsed": 557,
     "status": "ok",
     "timestamp": 1658856300683,
     "user": {
      "displayName": "Skillcate Education",
      "userId": "11062674699417926870"
     },
     "user_tz": -330
    },
    "id": "b6W2OOeupUX8",
    "outputId": "0dcbd641-4639-4cf9-983a-0df352451623",
    "scrolled": true,
    "tags": []
   },
   "outputs": [
    {
     "data": {
      "text/html": [
       "<div>\n",
       "<style scoped>\n",
       "    .dataframe tbody tr th:only-of-type {\n",
       "        vertical-align: middle;\n",
       "    }\n",
       "\n",
       "    .dataframe tbody tr th {\n",
       "        vertical-align: top;\n",
       "    }\n",
       "\n",
       "    .dataframe thead th {\n",
       "        text-align: right;\n",
       "    }\n",
       "</style>\n",
       "<table border=\"1\" class=\"dataframe\">\n",
       "  <thead>\n",
       "    <tr style=\"text-align: right;\">\n",
       "      <th></th>\n",
       "      <th>snippet</th>\n",
       "      <th>Predicted Sentiments SNN</th>\n",
       "      <th>Predicted Sentiments CNN</th>\n",
       "      <th>Predicted Sentiments LSTM</th>\n",
       "    </tr>\n",
       "  </thead>\n",
       "  <tbody>\n",
       "    <tr>\n",
       "      <th>0</th>\n",
       "      <td>The official Larsen &amp; Toubro Corporate handle....</td>\n",
       "      <td>5.1</td>\n",
       "      <td>2.9</td>\n",
       "      <td>10.0</td>\n",
       "    </tr>\n",
       "    <tr>\n",
       "      <th>1</th>\n",
       "      <td>We are a global leader in Engineering and R&amp;D ...</td>\n",
       "      <td>8.2</td>\n",
       "      <td>7.9</td>\n",
       "      <td>10.0</td>\n",
       "    </tr>\n",
       "    <tr>\n",
       "      <th>2</th>\n",
       "      <td>@larsentoubro. ) announced that its Hydrocarbo...</td>\n",
       "      <td>7.4</td>\n",
       "      <td>3.9</td>\n",
       "      <td>10.0</td>\n",
       "    </tr>\n",
       "    <tr>\n",
       "      <th>3</th>\n",
       "      <td>@larsentoubro. ) announced that it has bagged ...</td>\n",
       "      <td>2.8</td>\n",
       "      <td>7.3</td>\n",
       "      <td>0.0</td>\n",
       "    </tr>\n",
       "    <tr>\n",
       "      <th>4</th>\n",
       "      <td>@larsentoubro. ) announced that its Hydrocarbo...</td>\n",
       "      <td>8.8</td>\n",
       "      <td>9.2</td>\n",
       "      <td>8.6</td>\n",
       "    </tr>\n",
       "    <tr>\n",
       "      <th>5</th>\n",
       "      <td>@larsentoubro. ) slumps after news reports sug...</td>\n",
       "      <td>2.3</td>\n",
       "      <td>0.2</td>\n",
       "      <td>8.5</td>\n",
       "    </tr>\n",
       "    <tr>\n",
       "      <th>6</th>\n",
       "      <td>Larsen &amp; Toubro (L&amp;T) an Indian multinational ...</td>\n",
       "      <td>5.6</td>\n",
       "      <td>0.3</td>\n",
       "      <td>10.0</td>\n",
       "    </tr>\n",
       "    <tr>\n",
       "      <th>7</th>\n",
       "      <td>CNBCTV18Market | Shares of Larsen &amp; Toubro (@l...</td>\n",
       "      <td>2.6</td>\n",
       "      <td>0.8</td>\n",
       "      <td>0.0</td>\n",
       "    </tr>\n",
       "    <tr>\n",
       "      <th>9</th>\n",
       "      <td>With every step, @larsentoubro brings Mumbai's...</td>\n",
       "      <td>8.7</td>\n",
       "      <td>9.4</td>\n",
       "      <td>9.8</td>\n",
       "    </tr>\n",
       "    <tr>\n",
       "      <th>10</th>\n",
       "      <td>Larsen &amp; Toubro (L&amp;T) commissions first indige...</td>\n",
       "      <td>2.5</td>\n",
       "      <td>2.8</td>\n",
       "      <td>10.0</td>\n",
       "    </tr>\n",
       "    <tr>\n",
       "      <th>11</th>\n",
       "      <td>@larsentoubro. saved 50% in modeling time, red...</td>\n",
       "      <td>1.3</td>\n",
       "      <td>7.4</td>\n",
       "      <td>3.2</td>\n",
       "    </tr>\n",
       "    <tr>\n",
       "      <th>12</th>\n",
       "      <td>@larsentoubro. ) announced that its Hydrocarbo...</td>\n",
       "      <td>7.4</td>\n",
       "      <td>3.1</td>\n",
       "      <td>0.0</td>\n",
       "    </tr>\n",
       "    <tr>\n",
       "      <th>13</th>\n",
       "      <td>Log in · Sign up. Conversation. France Hydrogè...</td>\n",
       "      <td>7.1</td>\n",
       "      <td>1.6</td>\n",
       "      <td>0.0</td>\n",
       "    </tr>\n",
       "    <tr>\n",
       "      <th>14</th>\n",
       "      <td>Earnings With ET NOW | L&amp;T reports its Q3 resu...</td>\n",
       "      <td>5.6</td>\n",
       "      <td>6.2</td>\n",
       "      <td>3.3</td>\n",
       "    </tr>\n",
       "    <tr>\n",
       "      <th>15</th>\n",
       "      <td>@larsentoubro · L&amp;T wins orders from Middle Ea...</td>\n",
       "      <td>5.0</td>\n",
       "      <td>1.2</td>\n",
       "      <td>10.0</td>\n",
       "    </tr>\n",
       "    <tr>\n",
       "      <th>16</th>\n",
       "      <td>MoU signed by VAdm Sandeep Naithani, Chief of ...</td>\n",
       "      <td>9.8</td>\n",
       "      <td>3.5</td>\n",
       "      <td>0.0</td>\n",
       "    </tr>\n",
       "    <tr>\n",
       "      <th>17</th>\n",
       "      <td>Congratulations @larsentoubro, for securing th...</td>\n",
       "      <td>7.6</td>\n",
       "      <td>8.1</td>\n",
       "      <td>9.9</td>\n",
       "    </tr>\n",
       "    <tr>\n",
       "      <th>18</th>\n",
       "      <td>@larsentoubro. is in the race for a mega deal ...</td>\n",
       "      <td>4.3</td>\n",
       "      <td>7.4</td>\n",
       "      <td>10.0</td>\n",
       "    </tr>\n",
       "    <tr>\n",
       "      <th>19</th>\n",
       "      <td>@larsentoubro. ) reported mixed Q3FY24 numbers...</td>\n",
       "      <td>6.0</td>\n",
       "      <td>0.7</td>\n",
       "      <td>10.0</td>\n",
       "    </tr>\n",
       "    <tr>\n",
       "      <th>20</th>\n",
       "      <td>Larsen commisions hydrogen electrolyser at Haz...</td>\n",
       "      <td>2.8</td>\n",
       "      <td>7.6</td>\n",
       "      <td>10.0</td>\n",
       "    </tr>\n",
       "    <tr>\n",
       "      <th>21</th>\n",
       "      <td>@larsentoubro. has signed a contract worth bet...</td>\n",
       "      <td>5.3</td>\n",
       "      <td>4.6</td>\n",
       "      <td>0.6</td>\n",
       "    </tr>\n",
       "    <tr>\n",
       "      <th>22</th>\n",
       "      <td>@larsentoubro. ) said that its Hydrocarbon bus...</td>\n",
       "      <td>8.7</td>\n",
       "      <td>9.9</td>\n",
       "      <td>0.1</td>\n",
       "    </tr>\n",
       "    <tr>\n",
       "      <th>23</th>\n",
       "      <td>@larsentoubro. , L&amp;T-IHI,. @TataCompanies. , a...</td>\n",
       "      <td>2.4</td>\n",
       "      <td>4.5</td>\n",
       "      <td>10.0</td>\n",
       "    </tr>\n",
       "    <tr>\n",
       "      <th>24</th>\n",
       "      <td>@larsentoubro. is under pressure on the back o...</td>\n",
       "      <td>7.7</td>\n",
       "      <td>7.9</td>\n",
       "      <td>10.0</td>\n",
       "    </tr>\n",
       "    <tr>\n",
       "      <th>25</th>\n",
       "      <td>larsentoubro @rachitaprasad @Yaruqh_K L&amp;T Ltd ...</td>\n",
       "      <td>3.4</td>\n",
       "      <td>1.4</td>\n",
       "      <td>0.4</td>\n",
       "    </tr>\n",
       "    <tr>\n",
       "      <th>26</th>\n",
       "      <td>L&amp;T profit after tax grows 15% to Rs 2,947 cr ...</td>\n",
       "      <td>0.5</td>\n",
       "      <td>0.6</td>\n",
       "      <td>0.0</td>\n",
       "    </tr>\n",
       "    <tr>\n",
       "      <th>27</th>\n",
       "      <td>... for Advanced Distribution Management Syste...</td>\n",
       "      <td>3.4</td>\n",
       "      <td>9.8</td>\n",
       "      <td>0.0</td>\n",
       "    </tr>\n",
       "    <tr>\n",
       "      <th>28</th>\n",
       "      <td>@larsentoubro. ) said that its Hydrocarbon Bus...</td>\n",
       "      <td>8.0</td>\n",
       "      <td>9.9</td>\n",
       "      <td>0.0</td>\n",
       "    </tr>\n",
       "    <tr>\n",
       "      <th>29</th>\n",
       "      <td>Great to host the @larsentoubro CEO, Mr SNS an...</td>\n",
       "      <td>8.2</td>\n",
       "      <td>4.5</td>\n",
       "      <td>10.0</td>\n",
       "    </tr>\n",
       "    <tr>\n",
       "      <th>30</th>\n",
       "      <td>... within four months, compared to 12 to 13 m...</td>\n",
       "      <td>3.1</td>\n",
       "      <td>0.1</td>\n",
       "      <td>10.0</td>\n",
       "    </tr>\n",
       "    <tr>\n",
       "      <th>31</th>\n",
       "      <td>@larsentoubro. ) is in focus after positive mg...</td>\n",
       "      <td>8.5</td>\n",
       "      <td>5.0</td>\n",
       "      <td>0.0</td>\n",
       "    </tr>\n",
       "    <tr>\n",
       "      <th>32</th>\n",
       "      <td>@larsentoubro. for procurement of Close-in Wea...</td>\n",
       "      <td>1.8</td>\n",
       "      <td>4.7</td>\n",
       "      <td>10.0</td>\n",
       "    </tr>\n",
       "    <tr>\n",
       "      <th>33</th>\n",
       "      <td>@larsentoubro. digitise their operations and r...</td>\n",
       "      <td>7.8</td>\n",
       "      <td>9.3</td>\n",
       "      <td>0.2</td>\n",
       "    </tr>\n",
       "    <tr>\n",
       "      <th>34</th>\n",
       "      <td>... Shankar Raman; he also speaks on margins, ...</td>\n",
       "      <td>6.9</td>\n",
       "      <td>7.0</td>\n",
       "      <td>10.0</td>\n",
       "    </tr>\n",
       "    <tr>\n",
       "      <th>35</th>\n",
       "      <td>@larsentoubro. ) said, Shri Ram Janmbhoomi Man...</td>\n",
       "      <td>9.7</td>\n",
       "      <td>7.6</td>\n",
       "      <td>10.0</td>\n",
       "    </tr>\n",
       "    <tr>\n",
       "      <th>36</th>\n",
       "      <td>@larsentoubro. is using tech to empower employ...</td>\n",
       "      <td>8.7</td>\n",
       "      <td>9.3</td>\n",
       "      <td>10.0</td>\n",
       "    </tr>\n",
       "    <tr>\n",
       "      <th>37</th>\n",
       "      <td>@larsentoubro. ) Awarded $11.5 Million FMS Con...</td>\n",
       "      <td>6.6</td>\n",
       "      <td>9.9</td>\n",
       "      <td>7.5</td>\n",
       "    </tr>\n",
       "    <tr>\n",
       "      <th>38</th>\n",
       "      <td>@larsentoubro · @Yaruqh_K · @rachitaprasad. | ...</td>\n",
       "      <td>3.6</td>\n",
       "      <td>4.5</td>\n",
       "      <td>10.0</td>\n",
       "    </tr>\n",
       "    <tr>\n",
       "      <th>39</th>\n",
       "      <td>‍♂️✨ Set your benchmark on India's newest land...</td>\n",
       "      <td>8.7</td>\n",
       "      <td>3.3</td>\n",
       "      <td>10.0</td>\n",
       "    </tr>\n",
       "    <tr>\n",
       "      <th>40</th>\n",
       "      <td>Log in · Sign up. Conversation. Square profile...</td>\n",
       "      <td>8.1</td>\n",
       "      <td>7.0</td>\n",
       "      <td>9.4</td>\n",
       "    </tr>\n",
       "    <tr>\n",
       "      <th>41</th>\n",
       "      <td>@larsentoubro · L&amp;T Construction bags signific...</td>\n",
       "      <td>2.0</td>\n",
       "      <td>0.4</td>\n",
       "      <td>10.0</td>\n",
       "    </tr>\n",
       "    <tr>\n",
       "      <th>42</th>\n",
       "      <td>Log in · Sign up. Conversation. NHSRCL · @nhsr...</td>\n",
       "      <td>8.4</td>\n",
       "      <td>4.3</td>\n",
       "      <td>10.0</td>\n",
       "    </tr>\n",
       "    <tr>\n",
       "      <th>43</th>\n",
       "      <td>@larsentoubro. aims for a Return On Equity of ...</td>\n",
       "      <td>3.8</td>\n",
       "      <td>4.1</td>\n",
       "      <td>7.6</td>\n",
       "    </tr>\n",
       "    <tr>\n",
       "      <th>44</th>\n",
       "      <td>@larsentoubro · #ConstructionCompany · telegra...</td>\n",
       "      <td>0.8</td>\n",
       "      <td>1.9</td>\n",
       "      <td>0.0</td>\n",
       "    </tr>\n",
       "    <tr>\n",
       "      <th>45</th>\n",
       "      <td>@larsentoubro · #bullettrain #MAHSR https://bu...</td>\n",
       "      <td>6.9</td>\n",
       "      <td>8.4</td>\n",
       "      <td>10.0</td>\n",
       "    </tr>\n",
       "    <tr>\n",
       "      <th>46</th>\n",
       "      <td>... Director and Chairperson of the company. T...</td>\n",
       "      <td>8.1</td>\n",
       "      <td>9.3</td>\n",
       "      <td>0.0</td>\n",
       "    </tr>\n",
       "    <tr>\n",
       "      <th>47</th>\n",
       "      <td>@larsentoubro. for achieving 10 million safe m...</td>\n",
       "      <td>5.5</td>\n",
       "      <td>7.5</td>\n",
       "      <td>10.0</td>\n",
       "    </tr>\n",
       "    <tr>\n",
       "      <th>48</th>\n",
       "      <td>@larsentoubro. for the design &amp; construction o...</td>\n",
       "      <td>6.5</td>\n",
       "      <td>5.1</td>\n",
       "      <td>10.0</td>\n",
       "    </tr>\n",
       "    <tr>\n",
       "      <th>49</th>\n",
       "      <td>larsentoubro Dear @larsentoubro The compound e...</td>\n",
       "      <td>1.3</td>\n",
       "      <td>0.9</td>\n",
       "      <td>0.0</td>\n",
       "    </tr>\n",
       "    <tr>\n",
       "      <th>50</th>\n",
       "      <td>... solid tailwinds,\" listen in to. @nikunjdal...</td>\n",
       "      <td>5.6</td>\n",
       "      <td>8.7</td>\n",
       "      <td>10.0</td>\n",
       "    </tr>\n",
       "  </tbody>\n",
       "</table>\n",
       "</div>"
      ],
      "text/plain": [
       "                                              snippet  \\\n",
       "0   The official Larsen & Toubro Corporate handle....   \n",
       "1   We are a global leader in Engineering and R&D ...   \n",
       "2   @larsentoubro. ) announced that its Hydrocarbo...   \n",
       "3   @larsentoubro. ) announced that it has bagged ...   \n",
       "4   @larsentoubro. ) announced that its Hydrocarbo...   \n",
       "5   @larsentoubro. ) slumps after news reports sug...   \n",
       "6   Larsen & Toubro (L&T) an Indian multinational ...   \n",
       "7   CNBCTV18Market | Shares of Larsen & Toubro (@l...   \n",
       "9   With every step, @larsentoubro brings Mumbai's...   \n",
       "10  Larsen & Toubro (L&T) commissions first indige...   \n",
       "11  @larsentoubro. saved 50% in modeling time, red...   \n",
       "12  @larsentoubro. ) announced that its Hydrocarbo...   \n",
       "13  Log in · Sign up. Conversation. France Hydrogè...   \n",
       "14  Earnings With ET NOW | L&T reports its Q3 resu...   \n",
       "15  @larsentoubro · L&T wins orders from Middle Ea...   \n",
       "16  MoU signed by VAdm Sandeep Naithani, Chief of ...   \n",
       "17  Congratulations @larsentoubro, for securing th...   \n",
       "18  @larsentoubro. is in the race for a mega deal ...   \n",
       "19  @larsentoubro. ) reported mixed Q3FY24 numbers...   \n",
       "20  Larsen commisions hydrogen electrolyser at Haz...   \n",
       "21  @larsentoubro. has signed a contract worth bet...   \n",
       "22  @larsentoubro. ) said that its Hydrocarbon bus...   \n",
       "23  @larsentoubro. , L&T-IHI,. @TataCompanies. , a...   \n",
       "24  @larsentoubro. is under pressure on the back o...   \n",
       "25  larsentoubro @rachitaprasad @Yaruqh_K L&T Ltd ...   \n",
       "26  L&T profit after tax grows 15% to Rs 2,947 cr ...   \n",
       "27  ... for Advanced Distribution Management Syste...   \n",
       "28  @larsentoubro. ) said that its Hydrocarbon Bus...   \n",
       "29  Great to host the @larsentoubro CEO, Mr SNS an...   \n",
       "30  ... within four months, compared to 12 to 13 m...   \n",
       "31  @larsentoubro. ) is in focus after positive mg...   \n",
       "32  @larsentoubro. for procurement of Close-in Wea...   \n",
       "33  @larsentoubro. digitise their operations and r...   \n",
       "34  ... Shankar Raman; he also speaks on margins, ...   \n",
       "35  @larsentoubro. ) said, Shri Ram Janmbhoomi Man...   \n",
       "36  @larsentoubro. is using tech to empower employ...   \n",
       "37  @larsentoubro. ) Awarded $11.5 Million FMS Con...   \n",
       "38  @larsentoubro · @Yaruqh_K · @rachitaprasad. | ...   \n",
       "39  ‍♂️✨ Set your benchmark on India's newest land...   \n",
       "40  Log in · Sign up. Conversation. Square profile...   \n",
       "41  @larsentoubro · L&T Construction bags signific...   \n",
       "42  Log in · Sign up. Conversation. NHSRCL · @nhsr...   \n",
       "43  @larsentoubro. aims for a Return On Equity of ...   \n",
       "44  @larsentoubro · #ConstructionCompany · telegra...   \n",
       "45  @larsentoubro · #bullettrain #MAHSR https://bu...   \n",
       "46  ... Director and Chairperson of the company. T...   \n",
       "47  @larsentoubro. for achieving 10 million safe m...   \n",
       "48  @larsentoubro. for the design & construction o...   \n",
       "49  larsentoubro Dear @larsentoubro The compound e...   \n",
       "50  ... solid tailwinds,\" listen in to. @nikunjdal...   \n",
       "\n",
       "    Predicted Sentiments SNN  Predicted Sentiments CNN  \\\n",
       "0                        5.1                       2.9   \n",
       "1                        8.2                       7.9   \n",
       "2                        7.4                       3.9   \n",
       "3                        2.8                       7.3   \n",
       "4                        8.8                       9.2   \n",
       "5                        2.3                       0.2   \n",
       "6                        5.6                       0.3   \n",
       "7                        2.6                       0.8   \n",
       "9                        8.7                       9.4   \n",
       "10                       2.5                       2.8   \n",
       "11                       1.3                       7.4   \n",
       "12                       7.4                       3.1   \n",
       "13                       7.1                       1.6   \n",
       "14                       5.6                       6.2   \n",
       "15                       5.0                       1.2   \n",
       "16                       9.8                       3.5   \n",
       "17                       7.6                       8.1   \n",
       "18                       4.3                       7.4   \n",
       "19                       6.0                       0.7   \n",
       "20                       2.8                       7.6   \n",
       "21                       5.3                       4.6   \n",
       "22                       8.7                       9.9   \n",
       "23                       2.4                       4.5   \n",
       "24                       7.7                       7.9   \n",
       "25                       3.4                       1.4   \n",
       "26                       0.5                       0.6   \n",
       "27                       3.4                       9.8   \n",
       "28                       8.0                       9.9   \n",
       "29                       8.2                       4.5   \n",
       "30                       3.1                       0.1   \n",
       "31                       8.5                       5.0   \n",
       "32                       1.8                       4.7   \n",
       "33                       7.8                       9.3   \n",
       "34                       6.9                       7.0   \n",
       "35                       9.7                       7.6   \n",
       "36                       8.7                       9.3   \n",
       "37                       6.6                       9.9   \n",
       "38                       3.6                       4.5   \n",
       "39                       8.7                       3.3   \n",
       "40                       8.1                       7.0   \n",
       "41                       2.0                       0.4   \n",
       "42                       8.4                       4.3   \n",
       "43                       3.8                       4.1   \n",
       "44                       0.8                       1.9   \n",
       "45                       6.9                       8.4   \n",
       "46                       8.1                       9.3   \n",
       "47                       5.5                       7.5   \n",
       "48                       6.5                       5.1   \n",
       "49                       1.3                       0.9   \n",
       "50                       5.6                       8.7   \n",
       "\n",
       "    Predicted Sentiments LSTM  \n",
       "0                        10.0  \n",
       "1                        10.0  \n",
       "2                        10.0  \n",
       "3                         0.0  \n",
       "4                         8.6  \n",
       "5                         8.5  \n",
       "6                        10.0  \n",
       "7                         0.0  \n",
       "9                         9.8  \n",
       "10                       10.0  \n",
       "11                        3.2  \n",
       "12                        0.0  \n",
       "13                        0.0  \n",
       "14                        3.3  \n",
       "15                       10.0  \n",
       "16                        0.0  \n",
       "17                        9.9  \n",
       "18                       10.0  \n",
       "19                       10.0  \n",
       "20                       10.0  \n",
       "21                        0.6  \n",
       "22                        0.1  \n",
       "23                       10.0  \n",
       "24                       10.0  \n",
       "25                        0.4  \n",
       "26                        0.0  \n",
       "27                        0.0  \n",
       "28                        0.0  \n",
       "29                       10.0  \n",
       "30                       10.0  \n",
       "31                        0.0  \n",
       "32                       10.0  \n",
       "33                        0.2  \n",
       "34                       10.0  \n",
       "35                       10.0  \n",
       "36                       10.0  \n",
       "37                        7.5  \n",
       "38                       10.0  \n",
       "39                       10.0  \n",
       "40                        9.4  \n",
       "41                       10.0  \n",
       "42                       10.0  \n",
       "43                        7.6  \n",
       "44                        0.0  \n",
       "45                       10.0  \n",
       "46                        0.0  \n",
       "47                       10.0  \n",
       "48                       10.0  \n",
       "49                        0.0  \n",
       "50                       10.0  "
      ]
     },
     "execution_count": 15,
     "metadata": {},
     "output_type": "execute_result"
    }
   ],
   "source": [
    "# Writing model output file back to Google Drive\n",
    "import numpy as np\n",
    "sample_reviews['Predicted Sentiments SNN'] = np.round(unseen_sentiments_snn*10,1)\n",
    "sample_reviews['Predicted Sentiments CNN'] = np.round(unseen_sentiments_cnn*10,1)\n",
    "sample_reviews['Predicted Sentiments LSTM'] = np.round(unseen_sentiments_lstm*10,1)\n",
    "\n",
    "df_prediction_sentiments_snn = pd.DataFrame(sample_reviews['Predicted Sentiments SNN'], columns = ['Predicted Sentiments SNN'])\n",
    "df_prediction_sentiments_cnn = pd.DataFrame(sample_reviews['Predicted Sentiments CNN'], columns = ['Predicted Sentiments CNN'])\n",
    "df_prediction_sentiments_lstm = pd.DataFrame(sample_reviews['Predicted Sentiments LSTM'], columns = ['Predicted Sentiments LSTM'])\n",
    "df_tweet                 = pd.DataFrame(sample_reviews['snippet'], columns = ['snippet'])\n",
    "# df_review_text           = pd.DataFrame(sample_reviews['Review Text'], columns = ['Review Text'])\n",
    "# df_imdb_rating           = pd.DataFrame(sample_reviews['IMDb Rating'], columns = ['IMDb Rating'])\n",
    "\n",
    "\n",
    "dfx=pd.concat([df_tweet, df_prediction_sentiments_snn,df_prediction_sentiments_cnn,df_prediction_sentiments_lstm], axis=1)\n",
    "\n",
    "# dfx.to_csv(\"c2_IMDb_Unseen_Predictions.csv\", sep=',', encoding='UTF-8')\n",
    "\n",
    "dfx.head(50)"
   ]
  },
  {
   "cell_type": "code",
   "execution_count": 16,
   "metadata": {
    "scrolled": true,
    "tags": []
   },
   "outputs": [
    {
     "name": "stdout",
     "output_type": "stream",
     "text": [
      "\u001b[33mWARNING: Ignoring invalid distribution -cipy (/Users/guptatilak/anaconda3/lib/python3.10/site-packages)\u001b[0m\u001b[33m\n",
      "\u001b[0m\u001b[33mWARNING: Ignoring invalid distribution -cipy (/Users/guptatilak/anaconda3/lib/python3.10/site-packages)\u001b[0m\u001b[33m\n",
      "\u001b[0mRequirement already satisfied: happytransformer in /Users/guptatilak/anaconda3/lib/python3.10/site-packages (3.0.0)\n",
      "Requirement already satisfied: tqdm>=4.43 in /Users/guptatilak/anaconda3/lib/python3.10/site-packages (from happytransformer) (4.64.1)\n",
      "Requirement already satisfied: protobuf in /Users/guptatilak/anaconda3/lib/python3.10/site-packages (from happytransformer) (4.23.3)\n",
      "Requirement already satisfied: torch>=1.0 in /Users/guptatilak/anaconda3/lib/python3.10/site-packages (from happytransformer) (1.12.1)\n",
      "Requirement already satisfied: datasets<3.0.0,>=2.13.1 in /Users/guptatilak/anaconda3/lib/python3.10/site-packages (from happytransformer) (2.18.0)\n",
      "Requirement already satisfied: sentencepiece in /Users/guptatilak/anaconda3/lib/python3.10/site-packages (from happytransformer) (0.2.0)\n",
      "Requirement already satisfied: transformers<5.0.0,>=4.30.1 in /Users/guptatilak/anaconda3/lib/python3.10/site-packages (from happytransformer) (4.38.2)\n",
      "Requirement already satisfied: tokenizers<1.0.0,>=0.13.3 in /Users/guptatilak/anaconda3/lib/python3.10/site-packages (from happytransformer) (0.15.2)\n",
      "Requirement already satisfied: wandb in /Users/guptatilak/anaconda3/lib/python3.10/site-packages (from happytransformer) (0.16.4)\n",
      "Requirement already satisfied: accelerate<1.0.0,>=0.20.1 in /Users/guptatilak/anaconda3/lib/python3.10/site-packages (from happytransformer) (0.28.0)\n",
      "Requirement already satisfied: huggingface-hub in /Users/guptatilak/anaconda3/lib/python3.10/site-packages (from accelerate<1.0.0,>=0.20.1->happytransformer) (0.21.4)\n",
      "Requirement already satisfied: numpy>=1.17 in /Users/guptatilak/anaconda3/lib/python3.10/site-packages (from accelerate<1.0.0,>=0.20.1->happytransformer) (1.24.3)\n",
      "Requirement already satisfied: pyyaml in /Users/guptatilak/anaconda3/lib/python3.10/site-packages (from accelerate<1.0.0,>=0.20.1->happytransformer) (6.0)\n",
      "Requirement already satisfied: safetensors>=0.3.1 in /Users/guptatilak/anaconda3/lib/python3.10/site-packages (from accelerate<1.0.0,>=0.20.1->happytransformer) (0.4.2)\n",
      "Requirement already satisfied: packaging>=20.0 in /Users/guptatilak/anaconda3/lib/python3.10/site-packages (from accelerate<1.0.0,>=0.20.1->happytransformer) (21.3)\n",
      "Requirement already satisfied: psutil in /Users/guptatilak/anaconda3/lib/python3.10/site-packages (from accelerate<1.0.0,>=0.20.1->happytransformer) (5.9.0)\n",
      "Requirement already satisfied: pandas in /Users/guptatilak/anaconda3/lib/python3.10/site-packages (from datasets<3.0.0,>=2.13.1->happytransformer) (1.4.1)\n",
      "Requirement already satisfied: fsspec[http]<=2024.2.0,>=2023.1.0 in /Users/guptatilak/anaconda3/lib/python3.10/site-packages (from datasets<3.0.0,>=2.13.1->happytransformer) (2024.2.0)\n",
      "Requirement already satisfied: pyarrow-hotfix in /Users/guptatilak/anaconda3/lib/python3.10/site-packages (from datasets<3.0.0,>=2.13.1->happytransformer) (0.6)\n",
      "Requirement already satisfied: dill<0.3.9,>=0.3.0 in /Users/guptatilak/anaconda3/lib/python3.10/site-packages (from datasets<3.0.0,>=2.13.1->happytransformer) (0.3.8)\n",
      "Requirement already satisfied: requests>=2.19.0 in /Users/guptatilak/anaconda3/lib/python3.10/site-packages (from datasets<3.0.0,>=2.13.1->happytransformer) (2.28.1)\n",
      "Requirement already satisfied: filelock in /Users/guptatilak/anaconda3/lib/python3.10/site-packages (from datasets<3.0.0,>=2.13.1->happytransformer) (3.7.1)\n",
      "Requirement already satisfied: multiprocess in /Users/guptatilak/anaconda3/lib/python3.10/site-packages (from datasets<3.0.0,>=2.13.1->happytransformer) (0.70.16)\n",
      "Requirement already satisfied: xxhash in /Users/guptatilak/anaconda3/lib/python3.10/site-packages (from datasets<3.0.0,>=2.13.1->happytransformer) (3.4.1)\n",
      "Requirement already satisfied: aiohttp in /Users/guptatilak/anaconda3/lib/python3.10/site-packages (from datasets<3.0.0,>=2.13.1->happytransformer) (3.9.1)\n",
      "Requirement already satisfied: pyarrow>=12.0.0 in /Users/guptatilak/anaconda3/lib/python3.10/site-packages (from datasets<3.0.0,>=2.13.1->happytransformer) (12.0.1)\n",
      "Requirement already satisfied: typing_extensions in /Users/guptatilak/anaconda3/lib/python3.10/site-packages (from torch>=1.0->happytransformer) (4.5.0)\n",
      "Requirement already satisfied: regex!=2019.12.17 in /Users/guptatilak/anaconda3/lib/python3.10/site-packages (from transformers<5.0.0,>=4.30.1->happytransformer) (2022.7.9)\n",
      "Requirement already satisfied: setproctitle in /Users/guptatilak/anaconda3/lib/python3.10/site-packages (from wandb->happytransformer) (1.3.3)\n",
      "Requirement already satisfied: sentry-sdk>=1.0.0 in /Users/guptatilak/anaconda3/lib/python3.10/site-packages (from wandb->happytransformer) (1.42.0)\n",
      "Requirement already satisfied: docker-pycreds>=0.4.0 in /Users/guptatilak/anaconda3/lib/python3.10/site-packages (from wandb->happytransformer) (0.4.0)\n",
      "Requirement already satisfied: appdirs>=1.4.3 in /Users/guptatilak/anaconda3/lib/python3.10/site-packages (from wandb->happytransformer) (1.4.4)\n",
      "Requirement already satisfied: GitPython!=3.1.29,>=1.0.0 in /Users/guptatilak/anaconda3/lib/python3.10/site-packages (from wandb->happytransformer) (3.1.31)\n",
      "Requirement already satisfied: Click!=8.0.0,>=7.1 in /Users/guptatilak/anaconda3/lib/python3.10/site-packages (from wandb->happytransformer) (8.1.7)\n",
      "Requirement already satisfied: setuptools in /Users/guptatilak/anaconda3/lib/python3.10/site-packages (from wandb->happytransformer) (65.6.3)\n",
      "Requirement already satisfied: six>=1.4.0 in /Users/guptatilak/anaconda3/lib/python3.10/site-packages (from docker-pycreds>=0.4.0->wandb->happytransformer) (1.16.0)\n",
      "Requirement already satisfied: multidict<7.0,>=4.5 in /Users/guptatilak/anaconda3/lib/python3.10/site-packages (from aiohttp->datasets<3.0.0,>=2.13.1->happytransformer) (6.0.4)\n",
      "Requirement already satisfied: attrs>=17.3.0 in /Users/guptatilak/anaconda3/lib/python3.10/site-packages (from aiohttp->datasets<3.0.0,>=2.13.1->happytransformer) (23.2.0)\n",
      "Requirement already satisfied: yarl<2.0,>=1.0 in /Users/guptatilak/anaconda3/lib/python3.10/site-packages (from aiohttp->datasets<3.0.0,>=2.13.1->happytransformer) (1.9.4)\n",
      "Requirement already satisfied: frozenlist>=1.1.1 in /Users/guptatilak/anaconda3/lib/python3.10/site-packages (from aiohttp->datasets<3.0.0,>=2.13.1->happytransformer) (1.4.1)\n",
      "Requirement already satisfied: async-timeout<5.0,>=4.0 in /Users/guptatilak/anaconda3/lib/python3.10/site-packages (from aiohttp->datasets<3.0.0,>=2.13.1->happytransformer) (4.0.3)\n",
      "Requirement already satisfied: aiosignal>=1.1.2 in /Users/guptatilak/anaconda3/lib/python3.10/site-packages (from aiohttp->datasets<3.0.0,>=2.13.1->happytransformer) (1.3.1)\n",
      "Requirement already satisfied: gitdb<5,>=4.0.1 in /Users/guptatilak/anaconda3/lib/python3.10/site-packages (from GitPython!=3.1.29,>=1.0.0->wandb->happytransformer) (4.0.10)\n",
      "Requirement already satisfied: pyparsing!=3.0.5,>=2.0.2 in /Users/guptatilak/anaconda3/lib/python3.10/site-packages (from packaging>=20.0->accelerate<1.0.0,>=0.20.1->happytransformer) (3.0.9)\n",
      "Requirement already satisfied: idna<4,>=2.5 in /Users/guptatilak/anaconda3/lib/python3.10/site-packages (from requests>=2.19.0->datasets<3.0.0,>=2.13.1->happytransformer) (3.3)\n",
      "Requirement already satisfied: certifi>=2017.4.17 in /Users/guptatilak/anaconda3/lib/python3.10/site-packages (from requests>=2.19.0->datasets<3.0.0,>=2.13.1->happytransformer) (2024.2.2)\n",
      "Requirement already satisfied: charset-normalizer<3,>=2 in /Users/guptatilak/anaconda3/lib/python3.10/site-packages (from requests>=2.19.0->datasets<3.0.0,>=2.13.1->happytransformer) (2.1.0)\n",
      "Requirement already satisfied: urllib3<1.27,>=1.21.1 in /Users/guptatilak/anaconda3/lib/python3.10/site-packages (from requests>=2.19.0->datasets<3.0.0,>=2.13.1->happytransformer) (1.26.18)\n",
      "Requirement already satisfied: pytz>=2020.1 in /Users/guptatilak/anaconda3/lib/python3.10/site-packages (from pandas->datasets<3.0.0,>=2.13.1->happytransformer) (2021.1)\n",
      "Requirement already satisfied: python-dateutil>=2.8.1 in /Users/guptatilak/anaconda3/lib/python3.10/site-packages (from pandas->datasets<3.0.0,>=2.13.1->happytransformer) (2.8.2)\n",
      "Requirement already satisfied: smmap<6,>=3.0.1 in /Users/guptatilak/anaconda3/lib/python3.10/site-packages (from gitdb<5,>=4.0.1->GitPython!=3.1.29,>=1.0.0->wandb->happytransformer) (5.0.0)\n",
      "\u001b[33mWARNING: Ignoring invalid distribution -cipy (/Users/guptatilak/anaconda3/lib/python3.10/site-packages)\u001b[0m\u001b[33m\n",
      "\u001b[0m\u001b[33mWARNING: Ignoring invalid distribution -cipy (/Users/guptatilak/anaconda3/lib/python3.10/site-packages)\u001b[0m\u001b[33m\n",
      "\u001b[0m\u001b[33mWARNING: Ignoring invalid distribution -cipy (/Users/guptatilak/anaconda3/lib/python3.10/site-packages)\u001b[0m\u001b[33m\n",
      "\u001b[0m\u001b[33mWARNING: Ignoring invalid distribution -cipy (/Users/guptatilak/anaconda3/lib/python3.10/site-packages)\u001b[0m\u001b[33m\n",
      "\u001b[0mNote: you may need to restart the kernel to use updated packages.\n"
     ]
    }
   ],
   "source": [
    "pip install happytransformer"
   ]
  },
  {
   "cell_type": "code",
   "execution_count": 17,
   "metadata": {},
   "outputs": [
    {
     "name": "stderr",
     "output_type": "stream",
     "text": [
      "/Users/guptatilak/anaconda3/lib/python3.10/site-packages/huggingface_hub/utils/_runtime.py:185: UserWarning: Pydantic is installed but cannot be imported. Please check your installation. `huggingface_hub` will default to not using Pydantic. Error message: '{e}'\n",
      "  warnings.warn(\n"
     ]
    }
   ],
   "source": [
    "from happytransformer import HappyTextClassification"
   ]
  },
  {
   "cell_type": "code",
   "execution_count": 18,
   "metadata": {},
   "outputs": [],
   "source": [
    "happy_tc=HappyTextClassification(model_type='DISTILBERT', model_name='distilbert-base-uncased-finetuned-sst-2-english',num_labels=2)"
   ]
  },
  {
   "cell_type": "code",
   "execution_count": 19,
   "metadata": {},
   "outputs": [],
   "source": [
    "result=happy_tc.classify_text(dfx['snippet'][45])"
   ]
  },
  {
   "cell_type": "code",
   "execution_count": 20,
   "metadata": {},
   "outputs": [
    {
     "data": {
      "text/plain": [
       "TextClassificationResult(label='NEGATIVE', score=0.9897340536117554)"
      ]
     },
     "execution_count": 20,
     "metadata": {},
     "output_type": "execute_result"
    }
   ],
   "source": [
    "result"
   ]
  },
  {
   "cell_type": "code",
   "execution_count": 21,
   "metadata": {},
   "outputs": [
    {
     "data": {
      "text/plain": [
       "'@larsentoubro. and his team; L&T is doing several projects in Tanzania in water, power and other sectors. Image. India in Tanzania and 5 others.'"
      ]
     },
     "execution_count": 21,
     "metadata": {},
     "output_type": "execute_result"
    }
   ],
   "source": [
    "dfx['snippet'][96]"
   ]
  },
  {
   "cell_type": "code",
   "execution_count": 22,
   "metadata": {},
   "outputs": [],
   "source": [
    "dfx=dfx.dropna(subset=['snippet'])\n",
    "snippets=list(dfx['snippet'])\n",
    "result=[]\n",
    "for snippet in snippets:\n",
    "    prediction=(happy_tc.classify_text(snippet))\n",
    "    if prediction.label == 'POSITIVE':\n",
    "        result.append(np.round((prediction.score)*10,1))\n",
    "    else:\n",
    "        result.append(np.round((1-prediction.score)*10,1))"
   ]
  },
  {
   "cell_type": "code",
   "execution_count": 23,
   "metadata": {
    "scrolled": true,
    "tags": []
   },
   "outputs": [
    {
     "data": {
      "text/plain": [
       "[9.9,\n",
       " 9.9,\n",
       " 1.0,\n",
       " 0.3,\n",
       " 9.2,\n",
       " 0.0,\n",
       " 8.8,\n",
       " 0.0,\n",
       " 10.0,\n",
       " 0.7,\n",
       " 1.0,\n",
       " 9.3,\n",
       " 2.6,\n",
       " 8.2,\n",
       " 9.9,\n",
       " 9.9,\n",
       " 10.0,\n",
       " 0.9,\n",
       " 0.1,\n",
       " 0.3,\n",
       " 1.6,\n",
       " 0.1,\n",
       " 0.2,\n",
       " 0.1,\n",
       " 9.9,\n",
       " 0.4,\n",
       " 0.2,\n",
       " 8.9,\n",
       " 10.0,\n",
       " 0.3,\n",
       " 10.0,\n",
       " 0.2,\n",
       " 0.1,\n",
       " 9.6,\n",
       " 7.3,\n",
       " 10.0,\n",
       " 0.4,\n",
       " 9.9,\n",
       " 10.0,\n",
       " 0.5,\n",
       " 0.2,\n",
       " 0.1,\n",
       " 0.0,\n",
       " 0.1,\n",
       " 0.1,\n",
       " 0.1,\n",
       " 9.7,\n",
       " 1.1,\n",
       " 9.9,\n",
       " 10.0,\n",
       " 9.8,\n",
       " 10.0,\n",
       " 10.0,\n",
       " 0.0,\n",
       " 10.0,\n",
       " 9.8,\n",
       " 0.0,\n",
       " 0.7,\n",
       " 2.5,\n",
       " 0.0,\n",
       " 0.1,\n",
       " 7.2,\n",
       " 9.6,\n",
       " 0.1,\n",
       " 10.0,\n",
       " 0.7,\n",
       " 0.0,\n",
       " 10.0,\n",
       " 10.0,\n",
       " 9.3,\n",
       " 0.0,\n",
       " 10.0,\n",
       " 4.8,\n",
       " 4.0,\n",
       " 9.9,\n",
       " 10.0,\n",
       " 0.1,\n",
       " 1.6,\n",
       " 2.3,\n",
       " 0.0,\n",
       " 10.0,\n",
       " 9.6,\n",
       " 0.1,\n",
       " 0.1,\n",
       " 6.8,\n",
       " 0.2,\n",
       " 9.9,\n",
       " 0.6,\n",
       " 0.1,\n",
       " 9.7,\n",
       " 0.1,\n",
       " 10.0,\n",
       " 0.3,\n",
       " 2.1,\n",
       " 2.0,\n",
       " 9.7,\n",
       " 0.1,\n",
       " 9.9,\n",
       " 10.0]"
      ]
     },
     "execution_count": 23,
     "metadata": {},
     "output_type": "execute_result"
    }
   ],
   "source": [
    "result"
   ]
  },
  {
   "cell_type": "code",
   "execution_count": 24,
   "metadata": {},
   "outputs": [],
   "source": [
    "df_prediction_sentiments_distilbert = pd.DataFrame(result, columns = ['Predicted Sentiments DistilBERT'])"
   ]
  },
  {
   "cell_type": "code",
   "execution_count": 25,
   "metadata": {},
   "outputs": [],
   "source": [
    "dfx=pd.concat([dfx,df_prediction_sentiments_distilbert], axis=1)"
   ]
  },
  {
   "cell_type": "code",
   "execution_count": 26,
   "metadata": {},
   "outputs": [
    {
     "data": {
      "text/html": [
       "<div>\n",
       "<style scoped>\n",
       "    .dataframe tbody tr th:only-of-type {\n",
       "        vertical-align: middle;\n",
       "    }\n",
       "\n",
       "    .dataframe tbody tr th {\n",
       "        vertical-align: top;\n",
       "    }\n",
       "\n",
       "    .dataframe thead th {\n",
       "        text-align: right;\n",
       "    }\n",
       "</style>\n",
       "<table border=\"1\" class=\"dataframe\">\n",
       "  <thead>\n",
       "    <tr style=\"text-align: right;\">\n",
       "      <th></th>\n",
       "      <th>snippet</th>\n",
       "      <th>Predicted Sentiments SNN</th>\n",
       "      <th>Predicted Sentiments CNN</th>\n",
       "      <th>Predicted Sentiments LSTM</th>\n",
       "      <th>Predicted Sentiments DistilBERT</th>\n",
       "    </tr>\n",
       "  </thead>\n",
       "  <tbody>\n",
       "    <tr>\n",
       "      <th>0</th>\n",
       "      <td>The official Larsen &amp; Toubro Corporate handle....</td>\n",
       "      <td>5.1</td>\n",
       "      <td>2.9</td>\n",
       "      <td>10.0</td>\n",
       "      <td>9.9</td>\n",
       "    </tr>\n",
       "    <tr>\n",
       "      <th>1</th>\n",
       "      <td>We are a global leader in Engineering and R&amp;D ...</td>\n",
       "      <td>8.2</td>\n",
       "      <td>7.9</td>\n",
       "      <td>10.0</td>\n",
       "      <td>9.9</td>\n",
       "    </tr>\n",
       "    <tr>\n",
       "      <th>2</th>\n",
       "      <td>@larsentoubro. ) announced that its Hydrocarbo...</td>\n",
       "      <td>7.4</td>\n",
       "      <td>3.9</td>\n",
       "      <td>10.0</td>\n",
       "      <td>1.0</td>\n",
       "    </tr>\n",
       "    <tr>\n",
       "      <th>3</th>\n",
       "      <td>@larsentoubro. ) announced that it has bagged ...</td>\n",
       "      <td>2.8</td>\n",
       "      <td>7.3</td>\n",
       "      <td>0.0</td>\n",
       "      <td>0.3</td>\n",
       "    </tr>\n",
       "    <tr>\n",
       "      <th>4</th>\n",
       "      <td>@larsentoubro. ) announced that its Hydrocarbo...</td>\n",
       "      <td>8.8</td>\n",
       "      <td>9.2</td>\n",
       "      <td>8.6</td>\n",
       "      <td>9.2</td>\n",
       "    </tr>\n",
       "    <tr>\n",
       "      <th>...</th>\n",
       "      <td>...</td>\n",
       "      <td>...</td>\n",
       "      <td>...</td>\n",
       "      <td>...</td>\n",
       "      <td>...</td>\n",
       "    </tr>\n",
       "    <tr>\n",
       "      <th>96</th>\n",
       "      <td>@larsentoubro. and his team; L&amp;T is doing seve...</td>\n",
       "      <td>2.7</td>\n",
       "      <td>1.4</td>\n",
       "      <td>10.0</td>\n",
       "      <td>0.1</td>\n",
       "    </tr>\n",
       "    <tr>\n",
       "      <th>97</th>\n",
       "      <td>@RailMinIndia · @AshwiniVaishnaw · @MBPatil · ...</td>\n",
       "      <td>1.6</td>\n",
       "      <td>6.5</td>\n",
       "      <td>10.0</td>\n",
       "      <td>9.9</td>\n",
       "    </tr>\n",
       "    <tr>\n",
       "      <th>98</th>\n",
       "      <td>@larsentoubro. at Gogamukh, Dhemaji. Built at ...</td>\n",
       "      <td>2.4</td>\n",
       "      <td>0.8</td>\n",
       "      <td>0.0</td>\n",
       "      <td>10.0</td>\n",
       "    </tr>\n",
       "    <tr>\n",
       "      <th>99</th>\n",
       "      <td>Love &amp; Trust are key words for our relationshi...</td>\n",
       "      <td>9.3</td>\n",
       "      <td>9.7</td>\n",
       "      <td>10.0</td>\n",
       "      <td>NaN</td>\n",
       "    </tr>\n",
       "    <tr>\n",
       "      <th>8</th>\n",
       "      <td>NaN</td>\n",
       "      <td>NaN</td>\n",
       "      <td>NaN</td>\n",
       "      <td>NaN</td>\n",
       "      <td>10.0</td>\n",
       "    </tr>\n",
       "  </tbody>\n",
       "</table>\n",
       "<p>100 rows × 5 columns</p>\n",
       "</div>"
      ],
      "text/plain": [
       "                                              snippet  \\\n",
       "0   The official Larsen & Toubro Corporate handle....   \n",
       "1   We are a global leader in Engineering and R&D ...   \n",
       "2   @larsentoubro. ) announced that its Hydrocarbo...   \n",
       "3   @larsentoubro. ) announced that it has bagged ...   \n",
       "4   @larsentoubro. ) announced that its Hydrocarbo...   \n",
       "..                                                ...   \n",
       "96  @larsentoubro. and his team; L&T is doing seve...   \n",
       "97  @RailMinIndia · @AshwiniVaishnaw · @MBPatil · ...   \n",
       "98  @larsentoubro. at Gogamukh, Dhemaji. Built at ...   \n",
       "99  Love & Trust are key words for our relationshi...   \n",
       "8                                                 NaN   \n",
       "\n",
       "    Predicted Sentiments SNN  Predicted Sentiments CNN  \\\n",
       "0                        5.1                       2.9   \n",
       "1                        8.2                       7.9   \n",
       "2                        7.4                       3.9   \n",
       "3                        2.8                       7.3   \n",
       "4                        8.8                       9.2   \n",
       "..                       ...                       ...   \n",
       "96                       2.7                       1.4   \n",
       "97                       1.6                       6.5   \n",
       "98                       2.4                       0.8   \n",
       "99                       9.3                       9.7   \n",
       "8                        NaN                       NaN   \n",
       "\n",
       "    Predicted Sentiments LSTM  Predicted Sentiments DistilBERT  \n",
       "0                        10.0                              9.9  \n",
       "1                        10.0                              9.9  \n",
       "2                        10.0                              1.0  \n",
       "3                         0.0                              0.3  \n",
       "4                         8.6                              9.2  \n",
       "..                        ...                              ...  \n",
       "96                       10.0                              0.1  \n",
       "97                       10.0                              9.9  \n",
       "98                        0.0                             10.0  \n",
       "99                       10.0                              NaN  \n",
       "8                         NaN                             10.0  \n",
       "\n",
       "[100 rows x 5 columns]"
      ]
     },
     "execution_count": 26,
     "metadata": {},
     "output_type": "execute_result"
    }
   ],
   "source": [
    "dfx"
   ]
  },
  {
   "cell_type": "code",
   "execution_count": 27,
   "metadata": {},
   "outputs": [],
   "source": [
    "dfx.to_csv('test.csv',index=False)"
   ]
  },
  {
   "cell_type": "markdown",
   "metadata": {
    "jp-MarkdownHeadingCollapsed": true,
    "tags": []
   },
   "source": [
    "## Saving models"
   ]
  },
  {
   "cell_type": "code",
   "execution_count": 101,
   "metadata": {},
   "outputs": [
    {
     "name": "stderr",
     "output_type": "stream",
     "text": [
      "C:\\Users\\vhema\\anaconda3\\Lib\\site-packages\\keras\\src\\engine\\training.py:3000: UserWarning: You are saving your model as an HDF5 file via `model.save()`. This file format is considered legacy. We recommend using instead the native Keras format, e.g. `model.save('my_model.keras')`.\n",
      "  saving_api.save_model(\n"
     ]
    }
   ],
   "source": [
    "# Saving the model as a h5 file for possible use later\n",
    "\n",
    "# model.save(f\"./lstm_model2.h5\", save_format='h5')\n",
    "# snn_model.save(f\"./snn_model.h5\", save_format='h5')\n",
    "# cnn_model.save(f\"./cnn_model.h5\", save_format='h5')"
   ]
  },
  {
   "cell_type": "markdown",
   "metadata": {
    "jp-MarkdownHeadingCollapsed": true,
    "tags": []
   },
   "source": [
    "## Combining predictions"
   ]
  },
  {
   "cell_type": "code",
   "execution_count": 28,
   "metadata": {},
   "outputs": [],
   "source": [
    "dfx['avg-sentiment'] = np.round(np.mean([\n",
    "    dfx['Predicted Sentiments SNN'],\n",
    "    dfx['Predicted Sentiments CNN'],\n",
    "    dfx['Predicted Sentiments LSTM'],\n",
    "    dfx['Predicted Sentiments DistilBERT']\n",
    "], axis=0))"
   ]
  },
  {
   "cell_type": "code",
   "execution_count": 29,
   "metadata": {},
   "outputs": [
    {
     "data": {
      "text/html": [
       "<div>\n",
       "<style scoped>\n",
       "    .dataframe tbody tr th:only-of-type {\n",
       "        vertical-align: middle;\n",
       "    }\n",
       "\n",
       "    .dataframe tbody tr th {\n",
       "        vertical-align: top;\n",
       "    }\n",
       "\n",
       "    .dataframe thead th {\n",
       "        text-align: right;\n",
       "    }\n",
       "</style>\n",
       "<table border=\"1\" class=\"dataframe\">\n",
       "  <thead>\n",
       "    <tr style=\"text-align: right;\">\n",
       "      <th></th>\n",
       "      <th>snippet</th>\n",
       "      <th>Predicted Sentiments SNN</th>\n",
       "      <th>Predicted Sentiments CNN</th>\n",
       "      <th>Predicted Sentiments LSTM</th>\n",
       "      <th>Predicted Sentiments DistilBERT</th>\n",
       "      <th>avg-sentiment</th>\n",
       "    </tr>\n",
       "  </thead>\n",
       "  <tbody>\n",
       "    <tr>\n",
       "      <th>0</th>\n",
       "      <td>The official Larsen &amp; Toubro Corporate handle....</td>\n",
       "      <td>5.1</td>\n",
       "      <td>2.9</td>\n",
       "      <td>10.0</td>\n",
       "      <td>9.9</td>\n",
       "      <td>7.0</td>\n",
       "    </tr>\n",
       "    <tr>\n",
       "      <th>1</th>\n",
       "      <td>We are a global leader in Engineering and R&amp;D ...</td>\n",
       "      <td>8.2</td>\n",
       "      <td>7.9</td>\n",
       "      <td>10.0</td>\n",
       "      <td>9.9</td>\n",
       "      <td>9.0</td>\n",
       "    </tr>\n",
       "    <tr>\n",
       "      <th>2</th>\n",
       "      <td>@larsentoubro. ) announced that its Hydrocarbo...</td>\n",
       "      <td>7.4</td>\n",
       "      <td>3.9</td>\n",
       "      <td>10.0</td>\n",
       "      <td>1.0</td>\n",
       "      <td>6.0</td>\n",
       "    </tr>\n",
       "    <tr>\n",
       "      <th>3</th>\n",
       "      <td>@larsentoubro. ) announced that it has bagged ...</td>\n",
       "      <td>2.8</td>\n",
       "      <td>7.3</td>\n",
       "      <td>0.0</td>\n",
       "      <td>0.3</td>\n",
       "      <td>3.0</td>\n",
       "    </tr>\n",
       "    <tr>\n",
       "      <th>4</th>\n",
       "      <td>@larsentoubro. ) announced that its Hydrocarbo...</td>\n",
       "      <td>8.8</td>\n",
       "      <td>9.2</td>\n",
       "      <td>8.6</td>\n",
       "      <td>9.2</td>\n",
       "      <td>9.0</td>\n",
       "    </tr>\n",
       "    <tr>\n",
       "      <th>...</th>\n",
       "      <td>...</td>\n",
       "      <td>...</td>\n",
       "      <td>...</td>\n",
       "      <td>...</td>\n",
       "      <td>...</td>\n",
       "      <td>...</td>\n",
       "    </tr>\n",
       "    <tr>\n",
       "      <th>96</th>\n",
       "      <td>@larsentoubro. and his team; L&amp;T is doing seve...</td>\n",
       "      <td>2.7</td>\n",
       "      <td>1.4</td>\n",
       "      <td>10.0</td>\n",
       "      <td>0.1</td>\n",
       "      <td>4.0</td>\n",
       "    </tr>\n",
       "    <tr>\n",
       "      <th>97</th>\n",
       "      <td>@RailMinIndia · @AshwiniVaishnaw · @MBPatil · ...</td>\n",
       "      <td>1.6</td>\n",
       "      <td>6.5</td>\n",
       "      <td>10.0</td>\n",
       "      <td>9.9</td>\n",
       "      <td>7.0</td>\n",
       "    </tr>\n",
       "    <tr>\n",
       "      <th>98</th>\n",
       "      <td>@larsentoubro. at Gogamukh, Dhemaji. Built at ...</td>\n",
       "      <td>2.4</td>\n",
       "      <td>0.8</td>\n",
       "      <td>0.0</td>\n",
       "      <td>10.0</td>\n",
       "      <td>3.0</td>\n",
       "    </tr>\n",
       "    <tr>\n",
       "      <th>99</th>\n",
       "      <td>Love &amp; Trust are key words for our relationshi...</td>\n",
       "      <td>9.3</td>\n",
       "      <td>9.7</td>\n",
       "      <td>10.0</td>\n",
       "      <td>NaN</td>\n",
       "      <td>NaN</td>\n",
       "    </tr>\n",
       "    <tr>\n",
       "      <th>8</th>\n",
       "      <td>NaN</td>\n",
       "      <td>NaN</td>\n",
       "      <td>NaN</td>\n",
       "      <td>NaN</td>\n",
       "      <td>10.0</td>\n",
       "      <td>NaN</td>\n",
       "    </tr>\n",
       "  </tbody>\n",
       "</table>\n",
       "<p>100 rows × 6 columns</p>\n",
       "</div>"
      ],
      "text/plain": [
       "                                              snippet  \\\n",
       "0   The official Larsen & Toubro Corporate handle....   \n",
       "1   We are a global leader in Engineering and R&D ...   \n",
       "2   @larsentoubro. ) announced that its Hydrocarbo...   \n",
       "3   @larsentoubro. ) announced that it has bagged ...   \n",
       "4   @larsentoubro. ) announced that its Hydrocarbo...   \n",
       "..                                                ...   \n",
       "96  @larsentoubro. and his team; L&T is doing seve...   \n",
       "97  @RailMinIndia · @AshwiniVaishnaw · @MBPatil · ...   \n",
       "98  @larsentoubro. at Gogamukh, Dhemaji. Built at ...   \n",
       "99  Love & Trust are key words for our relationshi...   \n",
       "8                                                 NaN   \n",
       "\n",
       "    Predicted Sentiments SNN  Predicted Sentiments CNN  \\\n",
       "0                        5.1                       2.9   \n",
       "1                        8.2                       7.9   \n",
       "2                        7.4                       3.9   \n",
       "3                        2.8                       7.3   \n",
       "4                        8.8                       9.2   \n",
       "..                       ...                       ...   \n",
       "96                       2.7                       1.4   \n",
       "97                       1.6                       6.5   \n",
       "98                       2.4                       0.8   \n",
       "99                       9.3                       9.7   \n",
       "8                        NaN                       NaN   \n",
       "\n",
       "    Predicted Sentiments LSTM  Predicted Sentiments DistilBERT  avg-sentiment  \n",
       "0                        10.0                              9.9            7.0  \n",
       "1                        10.0                              9.9            9.0  \n",
       "2                        10.0                              1.0            6.0  \n",
       "3                         0.0                              0.3            3.0  \n",
       "4                         8.6                              9.2            9.0  \n",
       "..                        ...                              ...            ...  \n",
       "96                       10.0                              0.1            4.0  \n",
       "97                       10.0                              9.9            7.0  \n",
       "98                        0.0                             10.0            3.0  \n",
       "99                       10.0                              NaN            NaN  \n",
       "8                         NaN                             10.0            NaN  \n",
       "\n",
       "[100 rows x 6 columns]"
      ]
     },
     "execution_count": 29,
     "metadata": {},
     "output_type": "execute_result"
    }
   ],
   "source": [
    "dfx"
   ]
  },
  {
   "cell_type": "code",
   "execution_count": 30,
   "metadata": {},
   "outputs": [
    {
     "data": {
      "text/html": [
       "<div>\n",
       "<style scoped>\n",
       "    .dataframe tbody tr th:only-of-type {\n",
       "        vertical-align: middle;\n",
       "    }\n",
       "\n",
       "    .dataframe tbody tr th {\n",
       "        vertical-align: top;\n",
       "    }\n",
       "\n",
       "    .dataframe thead th {\n",
       "        text-align: right;\n",
       "    }\n",
       "</style>\n",
       "<table border=\"1\" class=\"dataframe\">\n",
       "  <thead>\n",
       "    <tr style=\"text-align: right;\">\n",
       "      <th></th>\n",
       "      <th>snippet</th>\n",
       "      <th>Predicted Sentiments SNN</th>\n",
       "      <th>Predicted Sentiments CNN</th>\n",
       "      <th>Predicted Sentiments LSTM</th>\n",
       "      <th>Predicted Sentiments DistilBERT</th>\n",
       "      <th>avg-sentiment</th>\n",
       "      <th>weighted_avg</th>\n",
       "    </tr>\n",
       "  </thead>\n",
       "  <tbody>\n",
       "    <tr>\n",
       "      <th>0</th>\n",
       "      <td>The official Larsen &amp; Toubro Corporate handle....</td>\n",
       "      <td>5.1</td>\n",
       "      <td>2.9</td>\n",
       "      <td>10.0</td>\n",
       "      <td>9.9</td>\n",
       "      <td>7.0</td>\n",
       "      <td>6.0</td>\n",
       "    </tr>\n",
       "    <tr>\n",
       "      <th>1</th>\n",
       "      <td>We are a global leader in Engineering and R&amp;D ...</td>\n",
       "      <td>8.2</td>\n",
       "      <td>7.9</td>\n",
       "      <td>10.0</td>\n",
       "      <td>9.9</td>\n",
       "      <td>9.0</td>\n",
       "      <td>9.0</td>\n",
       "    </tr>\n",
       "    <tr>\n",
       "      <th>2</th>\n",
       "      <td>@larsentoubro. ) announced that its Hydrocarbo...</td>\n",
       "      <td>7.4</td>\n",
       "      <td>3.9</td>\n",
       "      <td>10.0</td>\n",
       "      <td>1.0</td>\n",
       "      <td>6.0</td>\n",
       "      <td>5.0</td>\n",
       "    </tr>\n",
       "    <tr>\n",
       "      <th>3</th>\n",
       "      <td>@larsentoubro. ) announced that it has bagged ...</td>\n",
       "      <td>2.8</td>\n",
       "      <td>7.3</td>\n",
       "      <td>0.0</td>\n",
       "      <td>0.3</td>\n",
       "      <td>3.0</td>\n",
       "      <td>4.0</td>\n",
       "    </tr>\n",
       "    <tr>\n",
       "      <th>4</th>\n",
       "      <td>@larsentoubro. ) announced that its Hydrocarbo...</td>\n",
       "      <td>8.8</td>\n",
       "      <td>9.2</td>\n",
       "      <td>8.6</td>\n",
       "      <td>9.2</td>\n",
       "      <td>9.0</td>\n",
       "      <td>9.0</td>\n",
       "    </tr>\n",
       "    <tr>\n",
       "      <th>...</th>\n",
       "      <td>...</td>\n",
       "      <td>...</td>\n",
       "      <td>...</td>\n",
       "      <td>...</td>\n",
       "      <td>...</td>\n",
       "      <td>...</td>\n",
       "      <td>...</td>\n",
       "    </tr>\n",
       "    <tr>\n",
       "      <th>96</th>\n",
       "      <td>@larsentoubro. and his team; L&amp;T is doing seve...</td>\n",
       "      <td>2.7</td>\n",
       "      <td>1.4</td>\n",
       "      <td>10.0</td>\n",
       "      <td>0.1</td>\n",
       "      <td>4.0</td>\n",
       "      <td>3.0</td>\n",
       "    </tr>\n",
       "    <tr>\n",
       "      <th>97</th>\n",
       "      <td>@RailMinIndia · @AshwiniVaishnaw · @MBPatil · ...</td>\n",
       "      <td>1.6</td>\n",
       "      <td>6.5</td>\n",
       "      <td>10.0</td>\n",
       "      <td>9.9</td>\n",
       "      <td>7.0</td>\n",
       "      <td>7.0</td>\n",
       "    </tr>\n",
       "    <tr>\n",
       "      <th>98</th>\n",
       "      <td>@larsentoubro. at Gogamukh, Dhemaji. Built at ...</td>\n",
       "      <td>2.4</td>\n",
       "      <td>0.8</td>\n",
       "      <td>0.0</td>\n",
       "      <td>10.0</td>\n",
       "      <td>3.0</td>\n",
       "      <td>3.0</td>\n",
       "    </tr>\n",
       "    <tr>\n",
       "      <th>99</th>\n",
       "      <td>Love &amp; Trust are key words for our relationshi...</td>\n",
       "      <td>9.3</td>\n",
       "      <td>9.7</td>\n",
       "      <td>10.0</td>\n",
       "      <td>NaN</td>\n",
       "      <td>NaN</td>\n",
       "      <td>NaN</td>\n",
       "    </tr>\n",
       "    <tr>\n",
       "      <th>8</th>\n",
       "      <td>NaN</td>\n",
       "      <td>NaN</td>\n",
       "      <td>NaN</td>\n",
       "      <td>NaN</td>\n",
       "      <td>10.0</td>\n",
       "      <td>NaN</td>\n",
       "      <td>NaN</td>\n",
       "    </tr>\n",
       "  </tbody>\n",
       "</table>\n",
       "<p>100 rows × 7 columns</p>\n",
       "</div>"
      ],
      "text/plain": [
       "                                              snippet  \\\n",
       "0   The official Larsen & Toubro Corporate handle....   \n",
       "1   We are a global leader in Engineering and R&D ...   \n",
       "2   @larsentoubro. ) announced that its Hydrocarbo...   \n",
       "3   @larsentoubro. ) announced that it has bagged ...   \n",
       "4   @larsentoubro. ) announced that its Hydrocarbo...   \n",
       "..                                                ...   \n",
       "96  @larsentoubro. and his team; L&T is doing seve...   \n",
       "97  @RailMinIndia · @AshwiniVaishnaw · @MBPatil · ...   \n",
       "98  @larsentoubro. at Gogamukh, Dhemaji. Built at ...   \n",
       "99  Love & Trust are key words for our relationshi...   \n",
       "8                                                 NaN   \n",
       "\n",
       "    Predicted Sentiments SNN  Predicted Sentiments CNN  \\\n",
       "0                        5.1                       2.9   \n",
       "1                        8.2                       7.9   \n",
       "2                        7.4                       3.9   \n",
       "3                        2.8                       7.3   \n",
       "4                        8.8                       9.2   \n",
       "..                       ...                       ...   \n",
       "96                       2.7                       1.4   \n",
       "97                       1.6                       6.5   \n",
       "98                       2.4                       0.8   \n",
       "99                       9.3                       9.7   \n",
       "8                        NaN                       NaN   \n",
       "\n",
       "    Predicted Sentiments LSTM  Predicted Sentiments DistilBERT  avg-sentiment  \\\n",
       "0                        10.0                              9.9            7.0   \n",
       "1                        10.0                              9.9            9.0   \n",
       "2                        10.0                              1.0            6.0   \n",
       "3                         0.0                              0.3            3.0   \n",
       "4                         8.6                              9.2            9.0   \n",
       "..                        ...                              ...            ...   \n",
       "96                       10.0                              0.1            4.0   \n",
       "97                       10.0                              9.9            7.0   \n",
       "98                        0.0                             10.0            3.0   \n",
       "99                       10.0                              NaN            NaN   \n",
       "8                         NaN                             10.0            NaN   \n",
       "\n",
       "    weighted_avg  \n",
       "0            6.0  \n",
       "1            9.0  \n",
       "2            5.0  \n",
       "3            4.0  \n",
       "4            9.0  \n",
       "..           ...  \n",
       "96           3.0  \n",
       "97           7.0  \n",
       "98           3.0  \n",
       "99           NaN  \n",
       "8            NaN  \n",
       "\n",
       "[100 rows x 7 columns]"
      ]
     },
     "execution_count": 30,
     "metadata": {},
     "output_type": "execute_result"
    }
   ],
   "source": [
    "import pandas as pd\n",
    "\n",
    "# Assuming df is your DataFrame containing four numeric columns: col1, col2, col3, col4\n",
    "# You can replace these with your actual column names\n",
    "# You also need to define your custom weights for each column\n",
    "custom_weights = {\n",
    "    'Predicted Sentiments SNN': 0.1,\n",
    "    'Predicted Sentiments CNN': 0.5,\n",
    "    'Predicted Sentiments LSTM': 0.20,\n",
    "    'Predicted Sentiments DistilBERT': 0.20\n",
    "}\n",
    "\n",
    "# Calculate the weighted average\n",
    "def weighted_average(row):\n",
    "    return np.round(sum(row[col] * custom_weights[col] for col in custom_weights.keys()))\n",
    "\n",
    "# Create a new column 'weighted_avg' containing the weighted average\n",
    "dfx['weighted_avg'] = dfx.apply(weighted_average, axis=1)\n",
    "\n",
    "# Print the DataFrame to verify the changes\n",
    "dfx\n"
   ]
  },
  {
   "cell_type": "code",
   "execution_count": 31,
   "metadata": {},
   "outputs": [],
   "source": [
    "dfx['overall-sentiment'] = np.where(dfx['weighted_avg'] >= 5, 4, 0)"
   ]
  },
  {
   "cell_type": "code",
   "execution_count": 32,
   "metadata": {},
   "outputs": [
    {
     "data": {
      "text/html": [
       "<div>\n",
       "<style scoped>\n",
       "    .dataframe tbody tr th:only-of-type {\n",
       "        vertical-align: middle;\n",
       "    }\n",
       "\n",
       "    .dataframe tbody tr th {\n",
       "        vertical-align: top;\n",
       "    }\n",
       "\n",
       "    .dataframe thead th {\n",
       "        text-align: right;\n",
       "    }\n",
       "</style>\n",
       "<table border=\"1\" class=\"dataframe\">\n",
       "  <thead>\n",
       "    <tr style=\"text-align: right;\">\n",
       "      <th></th>\n",
       "      <th>snippet</th>\n",
       "      <th>Predicted Sentiments SNN</th>\n",
       "      <th>Predicted Sentiments CNN</th>\n",
       "      <th>Predicted Sentiments LSTM</th>\n",
       "      <th>Predicted Sentiments DistilBERT</th>\n",
       "      <th>avg-sentiment</th>\n",
       "      <th>weighted_avg</th>\n",
       "      <th>overall-sentiment</th>\n",
       "    </tr>\n",
       "  </thead>\n",
       "  <tbody>\n",
       "    <tr>\n",
       "      <th>0</th>\n",
       "      <td>The official Larsen &amp; Toubro Corporate handle....</td>\n",
       "      <td>5.1</td>\n",
       "      <td>2.9</td>\n",
       "      <td>10.0</td>\n",
       "      <td>9.9</td>\n",
       "      <td>7.0</td>\n",
       "      <td>6.0</td>\n",
       "      <td>4</td>\n",
       "    </tr>\n",
       "    <tr>\n",
       "      <th>1</th>\n",
       "      <td>We are a global leader in Engineering and R&amp;D ...</td>\n",
       "      <td>8.2</td>\n",
       "      <td>7.9</td>\n",
       "      <td>10.0</td>\n",
       "      <td>9.9</td>\n",
       "      <td>9.0</td>\n",
       "      <td>9.0</td>\n",
       "      <td>4</td>\n",
       "    </tr>\n",
       "    <tr>\n",
       "      <th>2</th>\n",
       "      <td>@larsentoubro. ) announced that its Hydrocarbo...</td>\n",
       "      <td>7.4</td>\n",
       "      <td>3.9</td>\n",
       "      <td>10.0</td>\n",
       "      <td>1.0</td>\n",
       "      <td>6.0</td>\n",
       "      <td>5.0</td>\n",
       "      <td>4</td>\n",
       "    </tr>\n",
       "    <tr>\n",
       "      <th>3</th>\n",
       "      <td>@larsentoubro. ) announced that it has bagged ...</td>\n",
       "      <td>2.8</td>\n",
       "      <td>7.3</td>\n",
       "      <td>0.0</td>\n",
       "      <td>0.3</td>\n",
       "      <td>3.0</td>\n",
       "      <td>4.0</td>\n",
       "      <td>0</td>\n",
       "    </tr>\n",
       "    <tr>\n",
       "      <th>4</th>\n",
       "      <td>@larsentoubro. ) announced that its Hydrocarbo...</td>\n",
       "      <td>8.8</td>\n",
       "      <td>9.2</td>\n",
       "      <td>8.6</td>\n",
       "      <td>9.2</td>\n",
       "      <td>9.0</td>\n",
       "      <td>9.0</td>\n",
       "      <td>4</td>\n",
       "    </tr>\n",
       "    <tr>\n",
       "      <th>...</th>\n",
       "      <td>...</td>\n",
       "      <td>...</td>\n",
       "      <td>...</td>\n",
       "      <td>...</td>\n",
       "      <td>...</td>\n",
       "      <td>...</td>\n",
       "      <td>...</td>\n",
       "      <td>...</td>\n",
       "    </tr>\n",
       "    <tr>\n",
       "      <th>96</th>\n",
       "      <td>@larsentoubro. and his team; L&amp;T is doing seve...</td>\n",
       "      <td>2.7</td>\n",
       "      <td>1.4</td>\n",
       "      <td>10.0</td>\n",
       "      <td>0.1</td>\n",
       "      <td>4.0</td>\n",
       "      <td>3.0</td>\n",
       "      <td>0</td>\n",
       "    </tr>\n",
       "    <tr>\n",
       "      <th>97</th>\n",
       "      <td>@RailMinIndia · @AshwiniVaishnaw · @MBPatil · ...</td>\n",
       "      <td>1.6</td>\n",
       "      <td>6.5</td>\n",
       "      <td>10.0</td>\n",
       "      <td>9.9</td>\n",
       "      <td>7.0</td>\n",
       "      <td>7.0</td>\n",
       "      <td>4</td>\n",
       "    </tr>\n",
       "    <tr>\n",
       "      <th>98</th>\n",
       "      <td>@larsentoubro. at Gogamukh, Dhemaji. Built at ...</td>\n",
       "      <td>2.4</td>\n",
       "      <td>0.8</td>\n",
       "      <td>0.0</td>\n",
       "      <td>10.0</td>\n",
       "      <td>3.0</td>\n",
       "      <td>3.0</td>\n",
       "      <td>0</td>\n",
       "    </tr>\n",
       "    <tr>\n",
       "      <th>99</th>\n",
       "      <td>Love &amp; Trust are key words for our relationshi...</td>\n",
       "      <td>9.3</td>\n",
       "      <td>9.7</td>\n",
       "      <td>10.0</td>\n",
       "      <td>NaN</td>\n",
       "      <td>NaN</td>\n",
       "      <td>NaN</td>\n",
       "      <td>0</td>\n",
       "    </tr>\n",
       "    <tr>\n",
       "      <th>8</th>\n",
       "      <td>NaN</td>\n",
       "      <td>NaN</td>\n",
       "      <td>NaN</td>\n",
       "      <td>NaN</td>\n",
       "      <td>10.0</td>\n",
       "      <td>NaN</td>\n",
       "      <td>NaN</td>\n",
       "      <td>0</td>\n",
       "    </tr>\n",
       "  </tbody>\n",
       "</table>\n",
       "<p>100 rows × 8 columns</p>\n",
       "</div>"
      ],
      "text/plain": [
       "                                              snippet  \\\n",
       "0   The official Larsen & Toubro Corporate handle....   \n",
       "1   We are a global leader in Engineering and R&D ...   \n",
       "2   @larsentoubro. ) announced that its Hydrocarbo...   \n",
       "3   @larsentoubro. ) announced that it has bagged ...   \n",
       "4   @larsentoubro. ) announced that its Hydrocarbo...   \n",
       "..                                                ...   \n",
       "96  @larsentoubro. and his team; L&T is doing seve...   \n",
       "97  @RailMinIndia · @AshwiniVaishnaw · @MBPatil · ...   \n",
       "98  @larsentoubro. at Gogamukh, Dhemaji. Built at ...   \n",
       "99  Love & Trust are key words for our relationshi...   \n",
       "8                                                 NaN   \n",
       "\n",
       "    Predicted Sentiments SNN  Predicted Sentiments CNN  \\\n",
       "0                        5.1                       2.9   \n",
       "1                        8.2                       7.9   \n",
       "2                        7.4                       3.9   \n",
       "3                        2.8                       7.3   \n",
       "4                        8.8                       9.2   \n",
       "..                       ...                       ...   \n",
       "96                       2.7                       1.4   \n",
       "97                       1.6                       6.5   \n",
       "98                       2.4                       0.8   \n",
       "99                       9.3                       9.7   \n",
       "8                        NaN                       NaN   \n",
       "\n",
       "    Predicted Sentiments LSTM  Predicted Sentiments DistilBERT  avg-sentiment  \\\n",
       "0                        10.0                              9.9            7.0   \n",
       "1                        10.0                              9.9            9.0   \n",
       "2                        10.0                              1.0            6.0   \n",
       "3                         0.0                              0.3            3.0   \n",
       "4                         8.6                              9.2            9.0   \n",
       "..                        ...                              ...            ...   \n",
       "96                       10.0                              0.1            4.0   \n",
       "97                       10.0                              9.9            7.0   \n",
       "98                        0.0                             10.0            3.0   \n",
       "99                       10.0                              NaN            NaN   \n",
       "8                         NaN                             10.0            NaN   \n",
       "\n",
       "    weighted_avg  overall-sentiment  \n",
       "0            6.0                  4  \n",
       "1            9.0                  4  \n",
       "2            5.0                  4  \n",
       "3            4.0                  0  \n",
       "4            9.0                  4  \n",
       "..           ...                ...  \n",
       "96           3.0                  0  \n",
       "97           7.0                  4  \n",
       "98           3.0                  0  \n",
       "99           NaN                  0  \n",
       "8            NaN                  0  \n",
       "\n",
       "[100 rows x 8 columns]"
      ]
     },
     "execution_count": 32,
     "metadata": {},
     "output_type": "execute_result"
    }
   ],
   "source": [
    "dfx"
   ]
  },
  {
   "cell_type": "code",
   "execution_count": 33,
   "metadata": {},
   "outputs": [],
   "source": [
    "dfx.to_csv('predictions.csv',index=False)"
   ]
  }
 ],
 "metadata": {
  "colab": {
   "authorship_tag": "ABX9TyM/OAkS+cdMFD5/+oQ1b+19",
   "collapsed_sections": [
    "EwZa81ThPbt3",
    "q6FO9rxjxHe_"
   ],
   "name": "b_SentimentAnalysis_with_NeuralNetwork.ipynb",
   "provenance": [],
   "toc_visible": true
  },
  "kernelspec": {
   "display_name": "Python 3 (ipykernel)",
   "language": "python",
   "name": "python3"
  },
  "language_info": {
   "codemirror_mode": {
    "name": "ipython",
    "version": 3
   },
   "file_extension": ".py",
   "mimetype": "text/x-python",
   "name": "python",
   "nbconvert_exporter": "python",
   "pygments_lexer": "ipython3",
   "version": "3.10.9"
  }
 },
 "nbformat": 4,
 "nbformat_minor": 4
}
