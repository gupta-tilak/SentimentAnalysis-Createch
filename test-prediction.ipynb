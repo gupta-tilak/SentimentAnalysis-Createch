{
 "cells": [
  {
   "cell_type": "code",
   "execution_count": 73,
   "id": "3f8f3989-fa50-4769-a349-6cd47ec890b6",
   "metadata": {
    "scrolled": true,
    "tags": []
   },
   "outputs": [
    {
     "name": "stderr",
     "output_type": "stream",
     "text": [
      "WARNING:absl:At this time, the v2.11+ optimizer `tf.keras.optimizers.Adam` runs slowly on M1/M2 Macs, please use the legacy Keras optimizer instead, located at `tf.keras.optimizers.legacy.Adam`.\n",
      "WARNING:absl:There is a known slowdown when using v2.11+ Keras optimizers on M1/M2 Macs. Falling back to the legacy Keras optimizer, i.e., `tf.keras.optimizers.legacy.Adam`.\n"
     ]
    },
    {
     "name": "stdout",
     "output_type": "stream",
     "text": [
      "WARNING:tensorflow:Error in loading the saved optimizer state. As a result, your model is starting with a freshly initialized optimizer.\n"
     ]
    },
    {
     "name": "stderr",
     "output_type": "stream",
     "text": [
      "WARNING:tensorflow:Error in loading the saved optimizer state. As a result, your model is starting with a freshly initialized optimizer.\n",
      "WARNING:absl:At this time, the v2.11+ optimizer `tf.keras.optimizers.Adam` runs slowly on M1/M2 Macs, please use the legacy Keras optimizer instead, located at `tf.keras.optimizers.legacy.Adam`.\n",
      "WARNING:absl:There is a known slowdown when using v2.11+ Keras optimizers on M1/M2 Macs. Falling back to the legacy Keras optimizer, i.e., `tf.keras.optimizers.legacy.Adam`.\n"
     ]
    },
    {
     "name": "stdout",
     "output_type": "stream",
     "text": [
      "WARNING:tensorflow:Error in loading the saved optimizer state. As a result, your model is starting with a freshly initialized optimizer.\n"
     ]
    },
    {
     "name": "stderr",
     "output_type": "stream",
     "text": [
      "WARNING:tensorflow:Error in loading the saved optimizer state. As a result, your model is starting with a freshly initialized optimizer.\n",
      "WARNING:absl:At this time, the v2.11+ optimizer `tf.keras.optimizers.Adam` runs slowly on M1/M2 Macs, please use the legacy Keras optimizer instead, located at `tf.keras.optimizers.legacy.Adam`.\n",
      "WARNING:absl:There is a known slowdown when using v2.11+ Keras optimizers on M1/M2 Macs. Falling back to the legacy Keras optimizer, i.e., `tf.keras.optimizers.legacy.Adam`.\n"
     ]
    },
    {
     "name": "stdout",
     "output_type": "stream",
     "text": [
      "WARNING:tensorflow:Error in loading the saved optimizer state. As a result, your model is starting with a freshly initialized optimizer.\n"
     ]
    },
    {
     "name": "stderr",
     "output_type": "stream",
     "text": [
      "WARNING:tensorflow:Error in loading the saved optimizer state. As a result, your model is starting with a freshly initialized optimizer.\n"
     ]
    }
   ],
   "source": [
    "# Load previously trained LSTM Model\n",
    "\n",
    "from keras.models import load_model\n",
    "\n",
    "model_path ='lstm_model2.h5'\n",
    "pretrained_lstm_model = load_model(model_path)\n",
    "pretrained_cnn_model = load_model('cnn_model.h5')\n",
    "pretrained_snn_model = load_model('snn_model.h5')\n",
    "\n",
    "# # summarize model\n",
    "# pretrained_lstm_model.summary()"
   ]
  },
  {
   "cell_type": "code",
   "execution_count": 158,
   "id": "25f0c782-0079-4031-8655-4e718c92fd24",
   "metadata": {},
   "outputs": [
    {
     "name": "stdin",
     "output_type": "stream",
     "text": [
      "Enter the tweet for checking its sentiment Hi  @AAPPunjab  ,  @larsentoubro  and  @Puneet_banga_    I want to drag your attention to our street condition which is broken by L&T for water pipes and they ran away in-between and the road condition is worst now. Even small insects and mosquitos started breeding.\n"
     ]
    }
   ],
   "source": [
    "tweet=input(\"Enter the tweet for checking its sentiment\")\n",
    "\n",
    "review = tweet\n",
    "from b2_preprocessing_function import CustomPreprocess\n",
    "custom=CustomPreprocess()\n",
    "\n",
    "if isinstance(review, str):\n",
    "    review = custom.preprocess_text(review)\n",
    "else:\n",
    "    review = str(review)  # Convert non-string values to string\n",
    "    review = custom.preprocess_text(review)\n"
   ]
  },
  {
   "cell_type": "code",
   "execution_count": 159,
   "id": "66c65467-fb61-46fd-8697-c516a6041ff9",
   "metadata": {},
   "outputs": [],
   "source": [
    "from keras_preprocessing.text import tokenizer_from_json\n",
    "import json\n",
    "\n",
    "review=[review]\n",
    "with open('b3_tokenizer.json') as f:\n",
    "    data = json.load(f)\n",
    "    loaded_tokenizer = tokenizer_from_json(data)\n",
    "unseen_tokenized = loaded_tokenizer.texts_to_sequences(review)"
   ]
  },
  {
   "cell_type": "code",
   "execution_count": 160,
   "id": "04125ce8-9d26-4e23-99a6-1120e9bd7b43",
   "metadata": {},
   "outputs": [
    {
     "data": {
      "text/plain": [
       "[[199,\n",
       "  484773,\n",
       "  44497,\n",
       "  27,\n",
       "  1674,\n",
       "  1692,\n",
       "  1064,\n",
       "  6179,\n",
       "  597,\n",
       "  539,\n",
       "  14746,\n",
       "  1003,\n",
       "  133,\n",
       "  798,\n",
       "  6179,\n",
       "  587,\n",
       "  73,\n",
       "  742,\n",
       "  13485,\n",
       "  9577,\n",
       "  393,\n",
       "  20216]]"
      ]
     },
     "execution_count": 160,
     "metadata": {},
     "output_type": "execute_result"
    }
   ],
   "source": [
    "unseen_tokenized"
   ]
  },
  {
   "cell_type": "code",
   "execution_count": 161,
   "id": "7cb4f4b0-ba60-48a8-b1da-189da9c3a799",
   "metadata": {},
   "outputs": [],
   "source": [
    "from keras.preprocessing.sequence import pad_sequences\n",
    "unseen_padded = pad_sequences(unseen_tokenized, padding='post', maxlen=30)"
   ]
  },
  {
   "cell_type": "code",
   "execution_count": 162,
   "id": "f1e29a0d-f3f3-4768-93e1-f52407cba4f9",
   "metadata": {
    "scrolled": true,
    "tags": []
   },
   "outputs": [
    {
     "name": "stdout",
     "output_type": "stream",
     "text": [
      "1/1 [==============================] - 0s 17ms/step\n",
      "1/1 [==============================] - 0s 9ms/step\n",
      "1/1 [==============================] - 0s 75ms/step\n"
     ]
    }
   ],
   "source": [
    "unseen_sentiments_snn = pretrained_snn_model.predict(unseen_padded)\n",
    "\n",
    "unseen_sentiments_cnn = pretrained_cnn_model.predict(unseen_padded)\n",
    "\n",
    "unseen_sentiments_lstm = pretrained_lstm_model.predict(unseen_padded)\n",
    "\n",
    "from happytransformer import HappyTextClassification\n",
    "happy_tc=HappyTextClassification(model_type='DISTILBERT', model_name='distilbert-base-uncased-finetuned-sst-2-english',num_labels=2)\n",
    "result=happy_tc.classify_text(tweet)"
   ]
  },
  {
   "cell_type": "code",
   "execution_count": 163,
   "id": "d1a62a85-41e5-4d3c-b7bb-bf3e619ed7e4",
   "metadata": {},
   "outputs": [],
   "source": [
    "if result.label == 'POSITIVE':\n",
    "    result=(np.round((result.score)*10,1))\n",
    "else:\n",
    "    result=(np.round((1-result.score)*10,1))"
   ]
  },
  {
   "cell_type": "code",
   "execution_count": 164,
   "id": "133d6acb-df6d-4364-9a0a-7feee8b2cf61",
   "metadata": {},
   "outputs": [],
   "source": [
    "sentiment=((0.4*unseen_sentiments_cnn)+(0.1*unseen_sentiments_snn)+(0.4*unseen_sentiments_lstm)+(0.1*result))"
   ]
  },
  {
   "cell_type": "code",
   "execution_count": 165,
   "id": "2b8d1480-2aef-4bd1-82e3-fb71f423a859",
   "metadata": {},
   "outputs": [
    {
     "name": "stdout",
     "output_type": "stream",
     "text": [
      "Negative\n"
     ]
    }
   ],
   "source": [
    "if sentiment[0][0]>0.5:\n",
    "    print(\"Positive\")\n",
    "else:\n",
    "    print(\"Negative\")"
   ]
  },
  {
   "cell_type": "code",
   "execution_count": 172,
   "id": "362e0760-0eb2-4cfe-a9c0-0dba0e164674",
   "metadata": {},
   "outputs": [
    {
     "name": "stdout",
     "output_type": "stream",
     "text": [
      "[[0.0017853]]\n"
     ]
    }
   ],
   "source": [
    "print(unseen_sentiments_cnn)"
   ]
  }
 ],
 "metadata": {
  "kernelspec": {
   "display_name": "Python 3 (ipykernel)",
   "language": "python",
   "name": "python3"
  },
  "language_info": {
   "codemirror_mode": {
    "name": "ipython",
    "version": 3
   },
   "file_extension": ".py",
   "mimetype": "text/x-python",
   "name": "python",
   "nbconvert_exporter": "python",
   "pygments_lexer": "ipython3",
   "version": "3.10.9"
  }
 },
 "nbformat": 4,
 "nbformat_minor": 5
}
